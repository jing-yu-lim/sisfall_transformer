{
 "cells": [
  {
   "cell_type": "markdown",
   "metadata": {},
   "source": [
    "### Connecting to Google Drive"
   ]
  },
  {
   "cell_type": "code",
   "execution_count": null,
   "metadata": {},
   "outputs": [],
   "source": [
    "from google.colab import drive\n",
    "drive.mount(\"/content/gdrive\")"
   ]
  },
  {
   "cell_type": "markdown",
   "metadata": {},
   "source": [
    "### Imports"
   ]
  },
  {
   "cell_type": "code",
   "execution_count": 2,
   "metadata": {},
   "outputs": [],
   "source": [
    "from sklearn.ensemble import RandomForestClassifier\n",
    "from sklearn.linear_model import LogisticRegression\n",
    "from sklearn.neighbors import KNeighborsClassifier\n",
    "from sklearn.preprocessing import StandardScaler\n",
    "from sklearn.tree import DecisionTreeClassifier"
   ]
  },
  {
   "cell_type": "code",
   "execution_count": null,
   "metadata": {},
   "outputs": [],
   "source": [
    "from traditional_models import *\n",
    "from data_processor import *\n",
    "from deep_models import *\n",
    "from utils import *"
   ]
  },
  {
   "cell_type": "code",
   "execution_count": null,
   "metadata": {},
   "outputs": [],
   "source": [
    "Result_Export_Path = '/content/gdrive/MyDrive/Fall Detection System/Results/'"
   ]
  },
  {
   "cell_type": "markdown",
   "metadata": {},
   "source": [
    "## Data Processor"
   ]
  },
  {
   "cell_type": "code",
   "execution_count": null,
   "metadata": {},
   "outputs": [],
   "source": [
    "%%time\n",
    "\n",
    "data_processor = DatasetProcessor()\n",
    "print('1.Split Adresses...')\n",
    "train, test = data_processor.get_file_name('/content/gdrive/MyDrive/Datasets/SisFall_dataset/')\n",
    "\n",
    "print('2.Extract Features and Labels...')\n",
    "print('------------------------Train Dataset')\n",
    "train_dataset = data_processor.datasets_to_nparray(train)\n",
    "print('------------------------Test Dataset')\n",
    "test_dataset = data_processor.datasets_to_nparray(test)\n",
    "\n",
    "print('3.Windowing...')\n",
    "print('------------------------Train Dataset')\n",
    "X_train, y_train = data_processor.windowing3d(train_dataset)\n",
    "print('------------------------Test Dataset')\n",
    "X_test, y_test = data_processor.windowing3d(test_dataset)\n",
    "\n",
    "print('4.Normalizing...')\n",
    "scaler = StandardScaler()\n",
    "X_train, X_test = data_processor.normalizer(scaler, X_train, X_test)\n",
    "\n",
    "print('5.Calculate Class Weight...')\n",
    "class_weight = data_processor.generate_class_weight(y_train)\n"
   ]
  },
  {
   "cell_type": "markdown",
   "metadata": {},
   "source": [
    "### Save & Load"
   ]
  },
  {
   "cell_type": "code",
   "execution_count": null,
   "metadata": {},
   "outputs": [],
   "source": [
    "save_data = False\n",
    "if save_data:\n",
    "  save_pickle('/content/gdrive/MyDrive/Fall Detection System/Dataset/X_train')\n",
    "  save_pickle('/content/gdrive/MyDrive/Fall Detection System/Dataset/y_train.pkl')\n",
    "  save_pickle('/content/gdrive/MyDrive/Fall Detection System/Dataset/X_test.pkl')\n",
    "  save_pickle('/content/gdrive/MyDrive/Fall Detection System/Dataset/y_test.pkl')\n",
    "\n",
    "else:\n",
    "  X_train = load_pickle('/content/gdrive/MyDrive/Fall Detection System/Dataset/X_train.pkl')\n",
    "  y_train = load_pickle('/content/gdrive/MyDrive/Fall Detection System/Dataset/y_train.pkl')\n",
    "  X_test = load_pickle('/content/gdrive/MyDrive/Fall Detection System/Dataset/X_test.pkl')\n",
    "  y_test = load_pickle('/content/gdrive/MyDrive/Fall Detection System/Dataset/y_test.pkl')\n",
    "  data_processor = DatasetProcessor()\n",
    "  class_weight = data_processor.generate_class_weight(y_train)\n",
    "\n",
    "\n",
    "print(f'X_train shape: {X_train.shape}')\n",
    "print(f'y_train shape: {y_train.shape}')\n",
    "print(f'X_test shape: {X_test.shape}')\n",
    "print(f'y_test shape: {y_test.shape}')"
   ]
  },
  {
   "cell_type": "markdown",
   "metadata": {},
   "source": [
    "## Traditional Models"
   ]
  },
  {
   "cell_type": "markdown",
   "metadata": {},
   "source": [
    "#### initialization of Parameters"
   ]
  },
  {
   "cell_type": "code",
   "execution_count": null,
   "metadata": {},
   "outputs": [],
   "source": [
    "model_parameters = {'KNN':{'n_neighbors':[2,4,8,16], 'metric':['euclidean','cosine']},\n",
    "                    'Random Forest':{'criterion':['gini', 'entropy', 'log_loss']},\n",
    "                    'Decision Tree':{'criterion':['gini', 'entropy', 'log_loss']},\n",
    "                    }\n",
    "\n",
    "\n",
    "tradional_models = Traditional_Models(models = {'Logistic Regression':LogisticRegression(class_weight=class_weight),\n",
    "                                                'Random Forest':RandomForestClassifier(class_weight=class_weight),\n",
    "                                                'KNN':KNeighborsClassifier(),\n",
    "                                                'Decision Tree': DecisionTreeClassifier(class_weight=class_weight)},\n",
    "                                      model_parameters = model_parameters)"
   ]
  },
  {
   "cell_type": "markdown",
   "metadata": {},
   "source": [
    "#### Training & Evaluation"
   ]
  },
  {
   "cell_type": "code",
   "execution_count": null,
   "metadata": {},
   "outputs": [],
   "source": [
    "predictions, results = tradional_models.pipeline(X_train,\n",
    "                                                 y_train,\n",
    "                                                 X_test,\n",
    "                                                 y_test,\n",
    "                                                 class_weight)"
   ]
  },
  {
   "cell_type": "markdown",
   "metadata": {},
   "source": [
    "#### Save Results"
   ]
  },
  {
   "cell_type": "code",
   "execution_count": null,
   "metadata": {},
   "outputs": [],
   "source": [
    "save_pickle(predictions, Result_Export_Path + 'predictions.pkl')\n",
    "save_pickle(results, Result_Export_Path + 'results.pkl')"
   ]
  },
  {
   "cell_type": "markdown",
   "metadata": {},
   "source": [
    "## Deep Models"
   ]
  },
  {
   "cell_type": "markdown",
   "metadata": {},
   "source": [
    "#### Load Results"
   ]
  },
  {
   "cell_type": "code",
   "execution_count": null,
   "metadata": {},
   "outputs": [],
   "source": [
    "predictions = load_pickle(Result_Export_Path + 'predictions.pkl')\n",
    "results = load_pickle( Result_Export_Path + 'results.pkl')\n",
    "\n"
   ]
  },
  {
   "cell_type": "markdown",
   "metadata": {},
   "source": [
    "### Train & Evaluation"
   ]
  },
  {
   "cell_type": "code",
   "execution_count": null,
   "metadata": {},
   "outputs": [],
   "source": [
    "train_evaluate_deep = Train_Evaluate_Deep(predictions=predictions,\n",
    "                                          results=results)"
   ]
  },
  {
   "cell_type": "markdown",
   "metadata": {},
   "source": [
    "#### CNN + MLP"
   ]
  },
  {
   "cell_type": "code",
   "execution_count": null,
   "metadata": {},
   "outputs": [],
   "source": [
    "print('1. Build Model...')\n",
    "cnn_model = train_evaluate_deep.build_cnn(input_size=X_train.shape[1:])\n",
    "print('2. Train Model...')\n",
    "cnn_history = train_evaluate_deep.train_deep_model(cnn_model,\n",
    "                                                   X_train,\n",
    "                                                   y_train,\n",
    "                                                   optimizer=tf.optimizers.SGD(learning_rate=0.001),\n",
    "                                                   loss_function=keras.losses.BinaryCrossentropy(),\n",
    "                                                   callbacks=[get_early_stopping(metric='val_PRC', patience=10, mode='max')],\n",
    "                                                   metrics=get_classifiaction_metrics(),\n",
    "                                                   class_weight=class_weight,\n",
    "                                                   epochs=30)\n",
    "print('3. Evaluation...')\n",
    "prediction = train_evaluate_deep.evaluate(cnn_model, X_test, y_test, batch_size=128, threshold=0.9, title='CNN + MLP', model_name='CNN + MLP', plot=False)\n",
    "\n",
    "plot_learning_curves=False\n",
    "if plot_learning_curves:\n",
    "  print('4. Plot learning curves...')\n",
    "  _ = train_evaluate_deep.plot_learning_curves(cnn_history)"
   ]
  },
  {
   "cell_type": "markdown",
   "metadata": {},
   "source": [
    "#### CNN + LSTM"
   ]
  },
  {
   "cell_type": "code",
   "execution_count": null,
   "metadata": {},
   "outputs": [],
   "source": [
    "print('1. Build Model...')\n",
    "LSTM_model = train_evaluate_deep.build_lstm(input_size=X_train.shape[1:])\n",
    "print('2. Train Model...')\n",
    "LSTM_history = train_evaluate_deep.train_deep_model(LSTM_model,\n",
    "                                                   X_train,\n",
    "                                                   y_train,\n",
    "                                                   optimizer=tf.optimizers.SGD(learning_rate=0.001),\n",
    "                                                   loss_function=keras.losses.BinaryCrossentropy(),\n",
    "                                                   callbacks=[get_early_stopping(metric='val_PRC', patience=10, mode='max')],\n",
    "                                                   metrics=classification_metrics,\n",
    "                                                   class_weight=class_weight,\n",
    "                                                   epochs=30)\n",
    "\n",
    "print('3. Evaluation...')\n",
    "prediction = train_evaluate_deep.evaluate(LSTM_model, X_test, y_test, batch_size=128, threshold=0.9, title='LSTM + MLP', model_name='LSTM + MLP', plot=False)\n",
    "\n",
    "plot_learning_curves=False\n",
    "if plot_learning_curves:\n",
    "  print('4. Plot learning curves...')\n",
    "  _ = train_evaluate_deep.plot_learning_curves(LSTM_history)"
   ]
  },
  {
   "cell_type": "markdown",
   "metadata": {},
   "source": [
    "#### MLP"
   ]
  },
  {
   "cell_type": "code",
   "execution_count": null,
   "metadata": {},
   "outputs": [],
   "source": [
    "print('1. Build Model...')\n",
    "mlp_model = train_evaluate_deep.build_mlp(input_size=X_train.shape[1:], hidden_layer_size=128, output_size=1)\n",
    "print('2. Train Model...')\n",
    "mlp_history = train_evaluate_deep.train_deep_model(mlp_model,\n",
    "                                                   X_train,\n",
    "                                                   y_train,\n",
    "                                                   optimizer=tf.optimizers.SGD(learning_rate=0.001),\n",
    "                                                   loss_function=keras.losses.BinaryCrossentropy(),\n",
    "                                                   callbacks=[get_early_stopping(metric='val_PRC', patience=10, mode='max')],\n",
    "                                                   metrics=classification_metrics,\n",
    "                                                   class_weight=class_weight,\n",
    "                                                   epochs=30)\n",
    "\n",
    "print('3. Evaluation...')\n",
    "prediction = train_evaluate_deep.evaluate(mlp_model, X_test, y_test, batch_size=128, threshold=0.9, title='MLP', model_name='MLP', plot=False)\n",
    "\n",
    "plot_learning_curves=False\n",
    "if plot_learning_curves:\n",
    "  print('4. Plot learning curves...')\n",
    "  _ = train_evaluate_deep.plot_learning_curves(mlp_history)"
   ]
  },
  {
   "cell_type": "markdown",
   "metadata": {},
   "source": [
    "### Conclusion"
   ]
  },
  {
   "cell_type": "code",
   "execution_count": null,
   "metadata": {},
   "outputs": [],
   "source": [
    "convert_report_df(results)"
   ]
  }
 ],
 "metadata": {
  "kernelspec": {
   "display_name": "base",
   "language": "python",
   "name": "python3"
  },
  "language_info": {
   "codemirror_mode": {
    "name": "ipython",
    "version": 3
   },
   "file_extension": ".py",
   "mimetype": "text/x-python",
   "name": "python",
   "nbconvert_exporter": "python",
   "pygments_lexer": "ipython3",
   "version": "3.10.9"
  }
 },
 "nbformat": 4,
 "nbformat_minor": 2
}
