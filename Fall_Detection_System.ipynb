{
  "nbformat": 4,
  "nbformat_minor": 0,
  "metadata": {
    "colab": {
      "name": "Fall-Detection-System.ipynb",
      "provenance": [],
      "authorship_tag": "ABX9TyPjyG+qxuzGI/hPgTvBckvf",
      "include_colab_link": true
    },
    "kernelspec": {
      "name": "python3",
      "display_name": "Python 3"
    },
    "language_info": {
      "name": "python"
    }
  },
  "cells": [
    {
      "cell_type": "markdown",
      "metadata": {
        "id": "view-in-github",
        "colab_type": "text"
      },
      "source": [
        "<a href=\"https://colab.research.google.com/github/mojtabaSefidi/Fall-Detection-System/blob/main/Fall_Detection_System.ipynb\" target=\"_parent\"><img src=\"https://colab.research.google.com/assets/colab-badge.svg\" alt=\"Open In Colab\"/></a>"
      ]
    },
    {
      "cell_type": "markdown",
      "metadata": {
        "id": "XIWFK9t8bVk1"
      },
      "source": [
        "Import libraries and frameworks"
      ]
    },
    {
      "cell_type": "code",
      "metadata": {
        "collapsed": true,
        "id": "qhvZxm9n-jmF"
      },
      "source": [
        "from sklearn import preprocessing\n",
        "import tensorflow as tf\n",
        "from math import sqrt\n",
        "import pandas as pd\n",
        "import numpy as np\n",
        "import glob\n",
        "import os\n",
        "window_size = 200\n"
      ],
      "execution_count": 1,
      "outputs": []
    },
    {
      "cell_type": "markdown",
      "metadata": {
        "id": "ZOCs9eqca3NV"
      },
      "source": [
        "Get the sisfall and sisfall_enhanced dataset"
      ]
    },
    {
      "cell_type": "code",
      "metadata": {
        "id": "_XAle2BBAfFr"
      },
      "source": [
        "!gdown --id 1kyTRhIFhqwRkf9gERof1Xm5FVQ-klLVA\n",
        "!gdown --id 1gvOuxPc8dNgTnxuvPcVuCKifOf98-TV0\n",
        "!unzip SisFall_dataset.zip\n",
        "!unzip SisFall_enhanced.zip"
      ],
      "execution_count": null,
      "outputs": []
    }
  ]
}