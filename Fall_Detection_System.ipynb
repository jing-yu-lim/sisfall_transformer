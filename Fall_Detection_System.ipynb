{
  "nbformat": 4,
  "nbformat_minor": 0,
  "metadata": {
    "colab": {
      "name": "Fall-Detection-System.ipynb",
      "provenance": [],
      "collapsed_sections": [],
      "authorship_tag": "ABX9TyMZfpN++5jYdAds4aI3nnUG",
      "include_colab_link": true
    },
    "kernelspec": {
      "display_name": "Python 3",
      "name": "python3"
    },
    "language_info": {
      "name": "python"
    }
  },
  "cells": [
    {
      "cell_type": "markdown",
      "metadata": {
        "id": "view-in-github",
        "colab_type": "text"
      },
      "source": [
        "<a href=\"https://colab.research.google.com/github/mojtabaSefidi/Fall-Detection-System/blob/main/Fall_Detection_System.ipynb\" target=\"_parent\"><img src=\"https://colab.research.google.com/assets/colab-badge.svg\" alt=\"Open In Colab\"/></a>"
      ]
    },
    {
      "cell_type": "markdown",
      "metadata": {
        "id": "XIWFK9t8bVk1"
      },
      "source": [
        "Import libraries and frameworks"
      ]
    },
    {
      "cell_type": "code",
      "metadata": {
        "collapsed": true,
        "id": "qhvZxm9n-jmF"
      },
      "source": [
        "from sklearn import preprocessing\n",
        "import tensorflow as tf\n",
        "from math import sqrt\n",
        "import pandas as pd\n",
        "import numpy as np\n",
        "import glob\n",
        "import os\n",
        "window_size = 200\n"
      ],
      "execution_count": 1,
      "outputs": []
    },
    {
      "cell_type": "markdown",
      "metadata": {
        "id": "ZOCs9eqca3NV"
      },
      "source": [
        "Get the sisfall and sisfall_enhanced dataset"
      ]
    },
    {
      "cell_type": "code",
      "metadata": {
        "id": "_XAle2BBAfFr"
      },
      "source": [
        "!gdown --id 1kyTRhIFhqwRkf9gERof1Xm5FVQ-klLVA\n",
        "!gdown --id 1gvOuxPc8dNgTnxuvPcVuCKifOf98-TV0\n",
        "!unzip SisFall_dataset.zip\n",
        "!unzip SisFall_enhanced.zip"
      ],
      "execution_count": null,
      "outputs": []
    },
    {
      "cell_type": "markdown",
      "metadata": {
        "id": "bgndfoWWKRIG"
      },
      "source": [
        "# Implementation"
      ]
    },
    {
      "cell_type": "markdown",
      "metadata": {
        "id": "8yS1sWUdbpyd"
      },
      "source": [
        "Get all addresses"
      ]
    },
    {
      "cell_type": "code",
      "metadata": {
        "id": "UoyddPaZ-jmI"
      },
      "source": [
        "def get_file_name(path):\n",
        "  allfiles = []\n",
        "  allFolders = glob.glob(path + \"*\")\n",
        "  for files in allFolders:\n",
        "      allfiles.append(glob.glob(files+\"/*.txt\"))\n",
        "  if 'desktop.ini' in allfiles:\n",
        "        allfiles.remove('desktop.ini')\n",
        "  return np.hstack(allfiles)"
      ],
      "execution_count": 3,
      "outputs": []
    },
    {
      "cell_type": "code",
      "metadata": {
        "colab": {
          "base_uri": "https://localhost:8080/"
        },
        "id": "dsyujmnJwmS_",
        "outputId": "2d86f26a-c5b0-4369-afda-f8c051b5f92d"
      },
      "source": [
        "get_file_name(\"SisFall_dataset/\")"
      ],
      "execution_count": 4,
      "outputs": [
        {
          "output_type": "execute_result",
          "data": {
            "text/plain": [
              "array(['SisFall_dataset/SA05/D15_SA05_R05.txt',\n",
              "       'SisFall_dataset/SA05/F01_SA05_R01.txt',\n",
              "       'SisFall_dataset/SA05/D15_SA05_R04.txt', ...,\n",
              "       'SisFall_dataset/SE15/D08_SE15_R01.txt',\n",
              "       'SisFall_dataset/SE15/D05_SE15_R02.txt',\n",
              "       'SisFall_dataset/SE15/D14_SE15_R01.txt'], dtype='<U37')"
            ]
          },
          "metadata": {},
          "execution_count": 4
        }
      ]
    },
    {
      "cell_type": "markdown",
      "metadata": {
        "id": "tCOqfWlyqoI3"
      },
      "source": [
        "read dataset from address path"
      ]
    },
    {
      "cell_type": "code",
      "metadata": {
        "id": "lkqhsxkq-jmJ"
      },
      "source": [
        "def read_data(data_path):\n",
        "    data = pd.read_csv(data_path, header=None)\n",
        "    data.columns = ['ADXL345_x', 'ADXL345_y', 'ADXL345_z', 'ITG3200_x', 'ITG3200_y', 'ITG3200_z', 'MMA8451Q_x',\n",
        "                    'MMA8451Q_y', 'MMA8451Q_z']\n",
        "    data['MMA8451Q_z'] = data['MMA8451Q_z'].map(lambda x: str(x)[:-1])\n",
        "    for name in data.columns :\n",
        "      data[name] = data[name].astype(float)\n",
        "    return data"
      ],
      "execution_count": 5,
      "outputs": []
    },
    {
      "cell_type": "markdown",
      "metadata": {
        "id": "ewT7PQsBqt1U"
      },
      "source": [
        "Feature Extraction"
      ]
    },
    {
      "cell_type": "code",
      "metadata": {
        "id": "qJ6fSDVg-jmJ"
      },
      "source": [
        "def add_features(dataset,data_path):\n",
        "    new_dataset = pd.DataFrame()\n",
        "    new_dataset['acc_1'] = dataset.apply(\n",
        "        lambda row: sqrt((row.ADXL345_x ** 2 + row.ADXL345_y ** 2 + row.ADXL345_z ** 2)), axis=1)\n",
        "    new_dataset['acc_2'] = dataset.apply(\n",
        "        lambda row: sqrt((row.MMA8451Q_x ** 2 + row.MMA8451Q_y ** 2 + row.MMA8451Q_z ** 2)), axis=1)\n",
        "    new_dataset['geo'] = dataset.apply(\n",
        "        lambda row: sqrt((row.ITG3200_x ** 2 + row.ITG3200_y ** 2 + row.ITG3200_z ** 2)), axis=1)\n",
        "    new_dataset['label'] = get_label(data_path)\n",
        "    return np.round(new_dataset.to_numpy(),2)\n"
      ],
      "execution_count": 6,
      "outputs": []
    },
    {
      "cell_type": "markdown",
      "metadata": {
        "id": "g7e7B8wIq6zL"
      },
      "source": [
        "Get the Label"
      ]
    },
    {
      "cell_type": "code",
      "metadata": {
        "id": "_s8X6VwxrIqS"
      },
      "source": [
        "def get_label(data_path):\n",
        "    label = data_path[21]\n",
        "    if label =='D':\n",
        "      return int(0)\n",
        "    elif label =='F':  \n",
        "      label_path = data_path.replace('dataset','enhanced')\n",
        "      labels = pd.read_csv(label_path,header=None)\n",
        "      labels[labels == 2] = 1\n",
        "      return labels\n"
      ],
      "execution_count": 7,
      "outputs": []
    },
    {
      "cell_type": "markdown",
      "metadata": {
        "id": "YxcfzuvVq-wj"
      },
      "source": [
        "Split Dataset to train and test"
      ]
    },
    {
      "cell_type": "code",
      "metadata": {
        "id": "K25bf_9qJYoc"
      },
      "source": [
        "def split_address(dataset_address):\n",
        "  np.random.shuffle(dataset_address)\n",
        "  train, test = np.split(dataset_address, [int(len(dataset_address)*0.7)])\n",
        "  return train, test"
      ],
      "execution_count": 8,
      "outputs": []
    },
    {
      "cell_type": "markdown",
      "metadata": {
        "id": "XsGm1z4krerJ"
      },
      "source": [
        "Extract features from All addresses"
      ]
    },
    {
      "cell_type": "code",
      "metadata": {
        "id": "6JxDiDpupQsq"
      },
      "source": [
        "def datasets_to_nparray(datasets_address_array):\n",
        "  result = np.empty((0, 4), int)\n",
        "  for address in datasets_address_array:\n",
        "    result = np.concatenate(\n",
        "        (result,add_features(read_data(address),address)),axis=0)\n",
        "  return result"
      ],
      "execution_count": 9,
      "outputs": []
    },
    {
      "cell_type": "markdown",
      "metadata": {
        "id": "5A375jCSrO0a"
      },
      "source": [
        "Windowing of the dataset"
      ]
    },
    {
      "cell_type": "code",
      "metadata": {
        "id": "zYq6z8xraHNQ"
      },
      "source": [
        "def windowing(dataset,window_size):\n",
        "  window = window_size * (dataset.shape[1]-1)\n",
        "  cut = dataset.shape[0] % window_size\n",
        "  feature = dataset[:-cut,0:-1]\n",
        "  label = dataset[:-cut,-1]\n",
        "  feature = feature.ravel().reshape(feature.size//window,window)\n",
        "  label = label.reshape(label.size//window_size,window_size)\n",
        "  label = label.sum(axis=1)\n",
        "  label[label > 0] = 1\n",
        "  return feature,label"
      ],
      "execution_count": 10,
      "outputs": []
    },
    {
      "cell_type": "markdown",
      "metadata": {
        "id": "77t5bmxwrrVR"
      },
      "source": [
        "Save the Train and Test Dataset as Tensor"
      ]
    },
    {
      "cell_type": "code",
      "metadata": {
        "id": "Emj874JvaBXp"
      },
      "source": [
        "def dataset_to_tensor(test,train,window_size):\n",
        "  test_feature , test_label = windowing(datasets_to_nparray(test),window_size)\n",
        "  np.savez('Sisfall_data_test', inputs=test_feature, targets=test_label)\n",
        "  train_feature , train_label = windowing(datasets_to_nparray(train),window_size)\n",
        "  np.savez('Sisfall_data_train', inputs=train_feature, targets=train_label)\n"
      ],
      "execution_count": 11,
      "outputs": []
    },
    {
      "cell_type": "markdown",
      "metadata": {
        "id": "wXsG6DAmfm7m"
      },
      "source": [
        "# Main"
      ]
    },
    {
      "cell_type": "markdown",
      "metadata": {
        "id": "9oiw8XrQ3O59"
      },
      "source": [
        "Data Pre-processing"
      ]
    },
    {
      "cell_type": "code",
      "metadata": {
        "id": "KMg6G8lbp-XQ"
      },
      "source": [
        "train, test = split_address(get_file_name(\"SisFall_dataset/\"))"
      ],
      "execution_count": 12,
      "outputs": []
    },
    {
      "cell_type": "code",
      "metadata": {
        "id": "UdqlG_F700h6"
      },
      "source": [
        "dataset_to_tensor(test,train,window_size)"
      ],
      "execution_count": 13,
      "outputs": []
    },
    {
      "cell_type": "code",
      "metadata": {
        "id": "aps0tvot1X6l"
      },
      "source": [
        "npz = np.load(\"Sisfall_data_train.npz\")\n",
        "train_inputs = preprocessing.scale(npz[\"inputs\"].astype(np.float))\n",
        "train_targets = npz[\"targets\"].astype(np.int)\n",
        "\n",
        "\n",
        "npz = np.load(\"Sisfall_data_test.npz\")\n",
        "test_inputs = preprocessing.scale(npz[\"inputs\"].astype(np.float))\n",
        "test_targets = npz[\"targets\"].astype(np.int)"
      ],
      "execution_count": 14,
      "outputs": []
    },
    {
      "cell_type": "code",
      "metadata": {
        "colab": {
          "base_uri": "https://localhost:8080/"
        },
        "id": "HpMHPA6cgVEA",
        "outputId": "73c6846a-854c-49d2-dcce-018552cbb5fd"
      },
      "source": [
        "print(train_inputs.shape)\n",
        "print(train_targets.shape)\n",
        "print(test_inputs.shape)\n",
        "print(test_targets.shape)"
      ],
      "execution_count": 15,
      "outputs": [
        {
          "output_type": "stream",
          "name": "stdout",
          "text": [
            "(55792, 600)\n",
            "(55792,)\n",
            "(23502, 600)\n",
            "(23502,)\n"
          ]
        }
      ]
    },
    {
      "cell_type": "markdown",
      "metadata": {
        "id": "FsuvZYw8g1wu"
      },
      "source": [
        "Neural Network Training"
      ]
    },
    {
      "cell_type": "code",
      "metadata": {
        "id": "uPfuY5aotW4K",
        "colab": {
          "base_uri": "https://localhost:8080/"
        },
        "outputId": "f07ba1d3-bfca-4f01-d8ad-70355d09316b"
      },
      "source": [
        "input_size = 600\n",
        "output_size = 1\n",
        "hidden_layer_size = 50\n",
        "\n",
        "model = tf.keras.Sequential([\n",
        "                             tf.keras.layers.Dense(input_size,activation=\"relu\"),\n",
        "                             tf.keras.layers.Dense(hidden_layer_size, activation=\"relu\"),\n",
        "                             tf.keras.layers.Dense(hidden_layer_size,activation=\"relu\"),\n",
        "                             tf.keras.layers.Dense(1, activation='sigmoid')\n",
        "])\n",
        "\n",
        "model.compile(optimizer='adam', loss='binary_crossentropy', metrics=['accuracy'])\n",
        "\n",
        "batch_size = 100\n",
        "max_epochs = 50\n",
        "\n",
        "model.fit(train_inputs,\n",
        "          train_targets,\n",
        "          batch_size=batch_size,\n",
        "          epochs=max_epochs,\n",
        "          shuffle = True,\n",
        "          verbose = 1\n",
        "          )"
      ],
      "execution_count": 16,
      "outputs": [
        {
          "output_type": "stream",
          "name": "stdout",
          "text": [
            "Epoch 1/50\n",
            "558/558 [==============================] - 4s 5ms/step - loss: 0.1004 - accuracy: 0.9690\n",
            "Epoch 2/50\n",
            "558/558 [==============================] - 3s 5ms/step - loss: 0.0694 - accuracy: 0.9766\n",
            "Epoch 3/50\n",
            "558/558 [==============================] - 3s 5ms/step - loss: 0.0596 - accuracy: 0.9795\n",
            "Epoch 4/50\n",
            "558/558 [==============================] - 3s 5ms/step - loss: 0.0568 - accuracy: 0.9803\n",
            "Epoch 5/50\n",
            "558/558 [==============================] - 3s 5ms/step - loss: 0.0545 - accuracy: 0.9817\n",
            "Epoch 6/50\n",
            "558/558 [==============================] - 3s 5ms/step - loss: 0.0516 - accuracy: 0.9819\n",
            "Epoch 7/50\n",
            "558/558 [==============================] - 3s 5ms/step - loss: 0.0481 - accuracy: 0.9829\n",
            "Epoch 8/50\n",
            "558/558 [==============================] - 3s 5ms/step - loss: 0.0458 - accuracy: 0.9842\n",
            "Epoch 9/50\n",
            "558/558 [==============================] - 3s 5ms/step - loss: 0.0452 - accuracy: 0.9843\n",
            "Epoch 10/50\n",
            "558/558 [==============================] - 3s 5ms/step - loss: 0.0452 - accuracy: 0.9841\n",
            "Epoch 11/50\n",
            "558/558 [==============================] - 3s 5ms/step - loss: 0.0415 - accuracy: 0.9855\n",
            "Epoch 12/50\n",
            "558/558 [==============================] - 3s 5ms/step - loss: 0.0384 - accuracy: 0.9869\n",
            "Epoch 13/50\n",
            "558/558 [==============================] - 3s 5ms/step - loss: 0.0389 - accuracy: 0.9868\n",
            "Epoch 14/50\n",
            "558/558 [==============================] - 3s 5ms/step - loss: 0.0384 - accuracy: 0.9872\n",
            "Epoch 15/50\n",
            "558/558 [==============================] - 3s 5ms/step - loss: 0.0364 - accuracy: 0.9880\n",
            "Epoch 16/50\n",
            "558/558 [==============================] - 3s 5ms/step - loss: 0.0391 - accuracy: 0.9877\n",
            "Epoch 17/50\n",
            "558/558 [==============================] - 3s 5ms/step - loss: 0.0353 - accuracy: 0.9881\n",
            "Epoch 18/50\n",
            "558/558 [==============================] - 3s 5ms/step - loss: 0.0345 - accuracy: 0.9883\n",
            "Epoch 19/50\n",
            "558/558 [==============================] - 3s 5ms/step - loss: 0.0324 - accuracy: 0.9898\n",
            "Epoch 20/50\n",
            "558/558 [==============================] - 3s 5ms/step - loss: 0.0354 - accuracy: 0.9887\n",
            "Epoch 21/50\n",
            "558/558 [==============================] - 3s 5ms/step - loss: 0.0313 - accuracy: 0.9899\n",
            "Epoch 22/50\n",
            "558/558 [==============================] - 3s 5ms/step - loss: 0.0312 - accuracy: 0.9901\n",
            "Epoch 23/50\n",
            "558/558 [==============================] - 3s 5ms/step - loss: 0.0332 - accuracy: 0.9894\n",
            "Epoch 24/50\n",
            "558/558 [==============================] - 3s 5ms/step - loss: 0.0311 - accuracy: 0.9899\n",
            "Epoch 25/50\n",
            "558/558 [==============================] - 3s 5ms/step - loss: 0.0289 - accuracy: 0.9909\n",
            "Epoch 26/50\n",
            "558/558 [==============================] - 3s 5ms/step - loss: 0.0306 - accuracy: 0.9906\n",
            "Epoch 27/50\n",
            "558/558 [==============================] - 3s 5ms/step - loss: 0.0304 - accuracy: 0.9904\n",
            "Epoch 28/50\n",
            "558/558 [==============================] - 3s 5ms/step - loss: 0.0267 - accuracy: 0.9916\n",
            "Epoch 29/50\n",
            "558/558 [==============================] - 3s 5ms/step - loss: 0.0280 - accuracy: 0.9910\n",
            "Epoch 30/50\n",
            "558/558 [==============================] - 3s 5ms/step - loss: 0.0311 - accuracy: 0.9905\n",
            "Epoch 31/50\n",
            "558/558 [==============================] - 3s 5ms/step - loss: 0.0279 - accuracy: 0.9913\n",
            "Epoch 32/50\n",
            "558/558 [==============================] - 3s 5ms/step - loss: 0.0255 - accuracy: 0.9923\n",
            "Epoch 33/50\n",
            "558/558 [==============================] - 3s 5ms/step - loss: 0.0244 - accuracy: 0.9923\n",
            "Epoch 34/50\n",
            "558/558 [==============================] - 3s 5ms/step - loss: 0.0272 - accuracy: 0.9918\n",
            "Epoch 35/50\n",
            "558/558 [==============================] - 3s 5ms/step - loss: 0.0269 - accuracy: 0.9914\n",
            "Epoch 36/50\n",
            "558/558 [==============================] - 3s 5ms/step - loss: 0.0270 - accuracy: 0.9918\n",
            "Epoch 37/50\n",
            "558/558 [==============================] - 3s 5ms/step - loss: 0.0278 - accuracy: 0.9916\n",
            "Epoch 38/50\n",
            "558/558 [==============================] - 3s 5ms/step - loss: 0.0250 - accuracy: 0.9924\n",
            "Epoch 39/50\n",
            "558/558 [==============================] - 3s 5ms/step - loss: 0.0218 - accuracy: 0.9934\n",
            "Epoch 40/50\n",
            "558/558 [==============================] - 3s 5ms/step - loss: 0.0221 - accuracy: 0.9932\n",
            "Epoch 41/50\n",
            "558/558 [==============================] - 3s 5ms/step - loss: 0.0243 - accuracy: 0.9926\n",
            "Epoch 42/50\n",
            "558/558 [==============================] - 3s 5ms/step - loss: 0.0242 - accuracy: 0.9928\n",
            "Epoch 43/50\n",
            "558/558 [==============================] - 3s 5ms/step - loss: 0.0224 - accuracy: 0.9932\n",
            "Epoch 44/50\n",
            "558/558 [==============================] - 3s 5ms/step - loss: 0.0219 - accuracy: 0.9935\n",
            "Epoch 45/50\n",
            "558/558 [==============================] - 3s 5ms/step - loss: 0.0284 - accuracy: 0.9916\n",
            "Epoch 46/50\n",
            "558/558 [==============================] - 3s 5ms/step - loss: 0.0230 - accuracy: 0.9931\n",
            "Epoch 47/50\n",
            "558/558 [==============================] - 3s 5ms/step - loss: 0.0207 - accuracy: 0.9937\n",
            "Epoch 48/50\n",
            "558/558 [==============================] - 3s 5ms/step - loss: 0.0205 - accuracy: 0.9939\n",
            "Epoch 49/50\n",
            "558/558 [==============================] - 3s 5ms/step - loss: 0.0237 - accuracy: 0.9932\n",
            "Epoch 50/50\n",
            "558/558 [==============================] - 3s 5ms/step - loss: 0.0238 - accuracy: 0.9929\n"
          ]
        },
        {
          "output_type": "execute_result",
          "data": {
            "text/plain": [
              "<keras.callbacks.History at 0x7ffb2320c290>"
            ]
          },
          "metadata": {},
          "execution_count": 16
        }
      ]
    },
    {
      "cell_type": "markdown",
      "metadata": {
        "id": "zdeLAiXZhKh9"
      },
      "source": [
        "Neural Network Evaluation"
      ]
    },
    {
      "cell_type": "code",
      "metadata": {
        "id": "knUqnrvvkFBY",
        "colab": {
          "base_uri": "https://localhost:8080/"
        },
        "outputId": "a3debbcd-b6f1-4ca2-a1e5-0834043ee836"
      },
      "source": [
        "loss, accuracy = model.evaluate(test_inputs, test_targets, verbose=1)"
      ],
      "execution_count": 17,
      "outputs": [
        {
          "output_type": "stream",
          "name": "stdout",
          "text": [
            "735/735 [==============================] - 1s 1ms/step - loss: 0.1006 - accuracy: 0.9801\n"
          ]
        }
      ]
    },
    {
      "cell_type": "markdown",
      "metadata": {
        "id": "LtPz_BhfhY0U"
      },
      "source": [
        "Confusion Matrix"
      ]
    },
    {
      "cell_type": "code",
      "metadata": {
        "id": "_Rca-mX_3uDt",
        "colab": {
          "base_uri": "https://localhost:8080/",
          "height": 165
        },
        "outputId": "112b7567-9911-4567-9744-012a3cd77466"
      },
      "source": [
        "predictions = model.predict(test_inputs)\n",
        "conf_matrix = tf.math.confusion_matrix(labels=test_targets,\n",
        "                                       predictions=predictions).numpy()\n",
        "print(\"------ Confusion Matrix Created ------\")\n",
        "print()\n",
        "print(conf_matrix)\n",
        "print()\n",
        "\n",
        "precision_1 = (conf_matrix[1][1]/(conf_matrix[1][1]+conf_matrix[0][1])).round(2)\n",
        "recall_1 = (conf_matrix[1][1]/(conf_matrix[1][1]+conf_matrix[1][0])).round(2)\n",
        "f1Score_1 = ((2 * precision_1 * recall_1)/(precision_1 + recall_1)).round(2)\n",
        "statics = pd.DataFrame([[precision_1,recall_1,f1Score_1]],columns=[\"Precision\",\"Recall\",\"F1score\"])\n",
        "statics"
      ],
      "execution_count": 21,
      "outputs": [
        {
          "output_type": "stream",
          "name": "stdout",
          "text": [
            "------ Confusion Matrix Created ------\n",
            "\n",
            "[[22397     6]\n",
            " [  732   367]]\n",
            "\n"
          ]
        },
        {
          "output_type": "execute_result",
          "data": {
            "text/html": [
              "<div>\n",
              "<style scoped>\n",
              "    .dataframe tbody tr th:only-of-type {\n",
              "        vertical-align: middle;\n",
              "    }\n",
              "\n",
              "    .dataframe tbody tr th {\n",
              "        vertical-align: top;\n",
              "    }\n",
              "\n",
              "    .dataframe thead th {\n",
              "        text-align: right;\n",
              "    }\n",
              "</style>\n",
              "<table border=\"1\" class=\"dataframe\">\n",
              "  <thead>\n",
              "    <tr style=\"text-align: right;\">\n",
              "      <th></th>\n",
              "      <th>Precision</th>\n",
              "      <th>Recall</th>\n",
              "      <th>F1score</th>\n",
              "    </tr>\n",
              "  </thead>\n",
              "  <tbody>\n",
              "    <tr>\n",
              "      <th>0</th>\n",
              "      <td>0.98</td>\n",
              "      <td>0.33</td>\n",
              "      <td>0.49</td>\n",
              "    </tr>\n",
              "  </tbody>\n",
              "</table>\n",
              "</div>"
            ],
            "text/plain": [
              "   Precision  Recall  F1score\n",
              "0       0.98    0.33     0.49"
            ]
          },
          "metadata": {},
          "execution_count": 21
        }
      ]
    },
    {
      "cell_type": "markdown",
      "metadata": {
        "id": "BWOuA-MKiOGS"
      },
      "source": [
        "#### SVM and Logistic Regression"
      ]
    },
    {
      "cell_type": "code",
      "metadata": {
        "id": "Fi-sMrHTHaB_"
      },
      "source": [
        "from sklearn.metrics import classification_report, confusion_matrix\n",
        "from sklearn.linear_model import LogisticRegression\n",
        "from sklearn.neighbors import KNeighborsClassifier\n",
        "from sklearn.svm import LinearSVC\n",
        "x = train_inputs\n",
        "y = train_targets\n",
        "x_test = test_inputs\n",
        "y_test = test_targets"
      ],
      "execution_count": 22,
      "outputs": []
    },
    {
      "cell_type": "markdown",
      "metadata": {
        "id": "woLdg7-0iXKR"
      },
      "source": [
        "Logistic Regression"
      ]
    },
    {
      "cell_type": "code",
      "metadata": {
        "id": "n8SCcfa_NS-U",
        "colab": {
          "base_uri": "https://localhost:8080/"
        },
        "outputId": "9c3f17f0-5a38-4492-ba7c-071bcaff7676"
      },
      "source": [
        "reg = LogisticRegression()\n",
        "reg.fit(x,y)"
      ],
      "execution_count": 23,
      "outputs": [
        {
          "output_type": "stream",
          "name": "stderr",
          "text": [
            "/usr/local/lib/python3.7/dist-packages/sklearn/linear_model/_logistic.py:940: ConvergenceWarning: lbfgs failed to converge (status=1):\n",
            "STOP: TOTAL NO. of ITERATIONS REACHED LIMIT.\n",
            "\n",
            "Increase the number of iterations (max_iter) or scale the data as shown in:\n",
            "    https://scikit-learn.org/stable/modules/preprocessing.html\n",
            "Please also refer to the documentation for alternative solver options:\n",
            "    https://scikit-learn.org/stable/modules/linear_model.html#logistic-regression\n",
            "  extra_warning_msg=_LOGISTIC_SOLVER_CONVERGENCE_MSG)\n"
          ]
        },
        {
          "output_type": "execute_result",
          "data": {
            "text/plain": [
              "LogisticRegression(C=1.0, class_weight=None, dual=False, fit_intercept=True,\n",
              "                   intercept_scaling=1, l1_ratio=None, max_iter=100,\n",
              "                   multi_class='auto', n_jobs=None, penalty='l2',\n",
              "                   random_state=None, solver='lbfgs', tol=0.0001, verbose=0,\n",
              "                   warm_start=False)"
            ]
          },
          "metadata": {},
          "execution_count": 23
        }
      ]
    },
    {
      "cell_type": "markdown",
      "metadata": {
        "id": "HKrfoewGiedJ"
      },
      "source": [
        "Logistic Regression Evaluation"
      ]
    },
    {
      "cell_type": "code",
      "metadata": {
        "id": "OFoXD4_h1fFt",
        "colab": {
          "base_uri": "https://localhost:8080/"
        },
        "outputId": "8fa70497-2b24-47d6-a37f-f9253e15aa35"
      },
      "source": [
        "print(\"score on test: \" + str(reg.score(x_test, y_test)))\n",
        "print(\"score on train: \"+ str(reg.score(x, y)))\n",
        "print()\n",
        "y_pred = reg.predict(x_test)\n",
        "print(classification_report(y_test, y_pred))\n",
        "print(confusion_matrix(y_test, y_pred))"
      ],
      "execution_count": 24,
      "outputs": [
        {
          "output_type": "stream",
          "name": "stdout",
          "text": [
            "score on test: 0.9540464641307123\n",
            "score on train: 0.9601376541439632\n",
            "\n",
            "              precision    recall  f1-score   support\n",
            "\n",
            "           0       0.96      0.99      0.98     22403\n",
            "           1       0.53      0.17      0.26      1099\n",
            "\n",
            "    accuracy                           0.95     23502\n",
            "   macro avg       0.74      0.58      0.62     23502\n",
            "weighted avg       0.94      0.95      0.94     23502\n",
            "\n",
            "[[22230   173]\n",
            " [  907   192]]\n"
          ]
        }
      ]
    },
    {
      "cell_type": "markdown",
      "metadata": {
        "id": "5tHGnjVxikKg"
      },
      "source": [
        "Svm Model\n"
      ]
    },
    {
      "cell_type": "code",
      "metadata": {
        "id": "S1iUjGveOBH_",
        "colab": {
          "base_uri": "https://localhost:8080/"
        },
        "outputId": "e0b6d428-d635-4c77-ba0f-aa4c5b7c9a6c"
      },
      "source": [
        "svm=LinearSVC(C = 0.0001)\n",
        "svm.fit(x, y)\n"
      ],
      "execution_count": 25,
      "outputs": [
        {
          "output_type": "execute_result",
          "data": {
            "text/plain": [
              "LinearSVC(C=0.0001, class_weight=None, dual=True, fit_intercept=True,\n",
              "          intercept_scaling=1, loss='squared_hinge', max_iter=1000,\n",
              "          multi_class='ovr', penalty='l2', random_state=None, tol=0.0001,\n",
              "          verbose=0)"
            ]
          },
          "metadata": {},
          "execution_count": 25
        }
      ]
    },
    {
      "cell_type": "markdown",
      "metadata": {
        "id": "4psyZG_0inSI"
      },
      "source": [
        "SVM Model Evaluation"
      ]
    },
    {
      "cell_type": "code",
      "metadata": {
        "id": "8VW1xMT5UeVV",
        "colab": {
          "base_uri": "https://localhost:8080/"
        },
        "outputId": "15d7fd93-0616-4b99-bb1d-35efa1d94385"
      },
      "source": [
        "print(\"score on test: \"  + str(svm.score(x_test, y_test)))\n",
        "print(\"score on train: \" + str(svm.score(x, y)))\n",
        "print()\n",
        "y_pred = svm.predict(x_test)\n",
        "print(classification_report(y_test, y_pred))\n",
        "print(confusion_matrix(y_test, y_pred))"
      ],
      "execution_count": 26,
      "outputs": [
        {
          "output_type": "stream",
          "name": "stdout",
          "text": [
            "score on test: 0.9528125265934814\n",
            "score on train: 0.9549397763120161\n",
            "\n",
            "              precision    recall  f1-score   support\n",
            "\n",
            "           0       0.95      1.00      0.98     22403\n",
            "           1       0.38      0.01      0.03      1099\n",
            "\n",
            "    accuracy                           0.95     23502\n",
            "   macro avg       0.67      0.51      0.50     23502\n",
            "weighted avg       0.93      0.95      0.93     23502\n",
            "\n",
            "[[22377    26]\n",
            " [ 1083    16]]\n"
          ]
        }
      ]
    },
    {
      "cell_type": "markdown",
      "metadata": {
        "id": "q6fdau1J-E2k"
      },
      "source": [
        "KNN implementation"
      ]
    },
    {
      "cell_type": "code",
      "metadata": {
        "id": "VjpM0Dc1-A_r",
        "colab": {
          "base_uri": "https://localhost:8080/"
        },
        "outputId": "ea773f6a-a8c7-45a4-e5aa-b1615ef1b6ab"
      },
      "source": [
        "knn = KNeighborsClassifier(n_neighbors=4)\n",
        "knn.fit(x, y)"
      ],
      "execution_count": 27,
      "outputs": [
        {
          "output_type": "execute_result",
          "data": {
            "text/plain": [
              "KNeighborsClassifier(algorithm='auto', leaf_size=30, metric='minkowski',\n",
              "                     metric_params=None, n_jobs=None, n_neighbors=4, p=2,\n",
              "                     weights='uniform')"
            ]
          },
          "metadata": {},
          "execution_count": 27
        }
      ]
    },
    {
      "cell_type": "markdown",
      "metadata": {
        "id": "w9JCj7r8-H8z"
      },
      "source": [
        "KNN evaluation"
      ]
    },
    {
      "cell_type": "code",
      "metadata": {
        "id": "6vTqXG5E-A_s",
        "colab": {
          "base_uri": "https://localhost:8080/"
        },
        "outputId": "5a31d32e-afbf-4706-e0ec-7106ac966708"
      },
      "source": [
        "y_pred = knn.predict(x_test)\n",
        "print(classification_report(y_test, y_pred))\n",
        "print(confusion_matrix(y_test, y_pred))"
      ],
      "execution_count": 28,
      "outputs": [
        {
          "output_type": "stream",
          "name": "stdout",
          "text": [
            "              precision    recall  f1-score   support\n",
            "\n",
            "           0       0.98      1.00      0.99     22403\n",
            "           1       0.94      0.56      0.70      1099\n",
            "\n",
            "    accuracy                           0.98     23502\n",
            "   macro avg       0.96      0.78      0.85     23502\n",
            "weighted avg       0.98      0.98      0.98     23502\n",
            "\n",
            "[[22362    41]\n",
            " [  479   620]]\n"
          ]
        }
      ]
    },
    {
      "cell_type": "markdown",
      "metadata": {
        "id": "pSCxIger3fAy"
      },
      "source": [
        "Balancing the Dataset"
      ]
    },
    {
      "cell_type": "code",
      "metadata": {
        "id": "uomYoggjsnxh",
        "colab": {
          "base_uri": "https://localhost:8080/"
        },
        "outputId": "eca12a3a-1d6d-4618-b37b-0d6a9b5741f0"
      },
      "source": [
        "new_train_dataset = np.concatenate((train_inputs,train_targets.reshape((train_targets.shape[0],1))),axis=1)\n",
        "df = pd.DataFrame(new_train_dataset, columns = None)\n",
        "df.columns = [*df.columns[:-1], 'label']\n",
        "reps = [305 if val == 1 else 1 for val in df.label]\n",
        "df = df.loc[np.repeat(df.index.values, reps)].reset_index(drop=True)\n",
        "Balanced_train = df.to_numpy()\n",
        "print('Shape before Balancing :', new_train_dataset.shape)\n",
        "print('Shape After Balancing:', Balanced_train.shape)"
      ],
      "execution_count": 29,
      "outputs": [
        {
          "output_type": "stream",
          "name": "stdout",
          "text": [
            "Shape before Balancing : (55792, 601)\n",
            "Shape After Balancing: (829776, 601)\n"
          ]
        }
      ]
    },
    {
      "cell_type": "markdown",
      "metadata": {
        "id": "IOri445n3iMx"
      },
      "source": [
        "Train the model with Balanced dataset"
      ]
    },
    {
      "cell_type": "code",
      "metadata": {
        "id": "kZk2C4EDsnxi",
        "colab": {
          "base_uri": "https://localhost:8080/"
        },
        "outputId": "f30379f9-d0cb-42fd-dda5-8d962807f6db"
      },
      "source": [
        "input_size = 600\n",
        "output_size = 1\n",
        "hidden_layer_size = 50\n",
        "\n",
        "model = tf.keras.Sequential([\n",
        "                             tf.keras.layers.Dense(input_size,activation=\"relu\"),\n",
        "                             tf.keras.layers.Dense(hidden_layer_size, activation=\"relu\"),\n",
        "                             tf.keras.layers.Dense(hidden_layer_size,activation=\"relu\"),\n",
        "                             tf.keras.layers.Dense(1, activation='sigmoid')\n",
        "])\n",
        "\n",
        "model.compile(optimizer='adam', loss='binary_crossentropy', metrics=['accuracy'])\n",
        "\n",
        "batch_size = 100\n",
        "max_epochs = 50\n",
        "\n",
        "model.fit(Balanced_train[:,:-1],\n",
        "          Balanced_train[:,-1],\n",
        "          batch_size=batch_size,\n",
        "          epochs=max_epochs,\n",
        "          shuffle = True,\n",
        "          verbose = 1\n",
        "          )"
      ],
      "execution_count": 30,
      "outputs": [
        {
          "output_type": "stream",
          "name": "stdout",
          "text": [
            "Epoch 1/50\n",
            "8298/8298 [==============================] - 41s 5ms/step - loss: 0.0470 - accuracy: 0.9859\n",
            "Epoch 2/50\n",
            "8298/8298 [==============================] - 40s 5ms/step - loss: 0.0258 - accuracy: 0.9930\n",
            "Epoch 3/50\n",
            "8298/8298 [==============================] - 40s 5ms/step - loss: 0.0195 - accuracy: 0.9948\n",
            "Epoch 4/50\n",
            "8298/8298 [==============================] - 41s 5ms/step - loss: 0.0156 - accuracy: 0.9960\n",
            "Epoch 5/50\n",
            "8298/8298 [==============================] - 39s 5ms/step - loss: 0.0131 - accuracy: 0.9967\n",
            "Epoch 6/50\n",
            "8298/8298 [==============================] - 39s 5ms/step - loss: 0.0106 - accuracy: 0.9973\n",
            "Epoch 7/50\n",
            "8298/8298 [==============================] - 39s 5ms/step - loss: 0.0090 - accuracy: 0.9977\n",
            "Epoch 8/50\n",
            "8298/8298 [==============================] - 40s 5ms/step - loss: 0.0075 - accuracy: 0.9981\n",
            "Epoch 9/50\n",
            "8298/8298 [==============================] - 39s 5ms/step - loss: 0.0071 - accuracy: 0.9982\n",
            "Epoch 10/50\n",
            "8298/8298 [==============================] - 40s 5ms/step - loss: 0.0064 - accuracy: 0.9984\n",
            "Epoch 11/50\n",
            "8298/8298 [==============================] - 39s 5ms/step - loss: 0.0057 - accuracy: 0.9986\n",
            "Epoch 12/50\n",
            "8298/8298 [==============================] - 39s 5ms/step - loss: 0.0051 - accuracy: 0.9987\n",
            "Epoch 13/50\n",
            "8298/8298 [==============================] - 40s 5ms/step - loss: 0.0049 - accuracy: 0.9988\n",
            "Epoch 14/50\n",
            "8298/8298 [==============================] - 39s 5ms/step - loss: 0.0047 - accuracy: 0.9988\n",
            "Epoch 15/50\n",
            "8298/8298 [==============================] - 40s 5ms/step - loss: 0.0042 - accuracy: 0.9990\n",
            "Epoch 16/50\n",
            "8298/8298 [==============================] - 42s 5ms/step - loss: 0.0041 - accuracy: 0.9990\n",
            "Epoch 17/50\n",
            "8298/8298 [==============================] - 41s 5ms/step - loss: 0.0037 - accuracy: 0.9991\n",
            "Epoch 18/50\n",
            "8298/8298 [==============================] - 40s 5ms/step - loss: 0.0038 - accuracy: 0.9991\n",
            "Epoch 19/50\n",
            "8298/8298 [==============================] - 41s 5ms/step - loss: 0.0036 - accuracy: 0.9991\n",
            "Epoch 20/50\n",
            "8298/8298 [==============================] - 41s 5ms/step - loss: 0.0033 - accuracy: 0.9992\n",
            "Epoch 21/50\n",
            "8298/8298 [==============================] - 40s 5ms/step - loss: 0.0031 - accuracy: 0.9992\n",
            "Epoch 22/50\n",
            "8298/8298 [==============================] - 40s 5ms/step - loss: 0.0028 - accuracy: 0.9993\n",
            "Epoch 23/50\n",
            "8298/8298 [==============================] - 41s 5ms/step - loss: 0.0029 - accuracy: 0.9993\n",
            "Epoch 24/50\n",
            "8298/8298 [==============================] - 41s 5ms/step - loss: 0.0025 - accuracy: 0.9994\n",
            "Epoch 25/50\n",
            "8298/8298 [==============================] - 40s 5ms/step - loss: 0.0033 - accuracy: 0.9993\n",
            "Epoch 26/50\n",
            "8298/8298 [==============================] - 40s 5ms/step - loss: 0.0023 - accuracy: 0.9994\n",
            "Epoch 27/50\n",
            "8298/8298 [==============================] - 39s 5ms/step - loss: 0.0032 - accuracy: 0.9994\n",
            "Epoch 28/50\n",
            "8298/8298 [==============================] - 40s 5ms/step - loss: 0.0024 - accuracy: 0.9995\n",
            "Epoch 29/50\n",
            "8298/8298 [==============================] - 40s 5ms/step - loss: 0.0049 - accuracy: 0.9991\n",
            "Epoch 30/50\n",
            "8298/8298 [==============================] - 40s 5ms/step - loss: 0.0050 - accuracy: 0.9989\n",
            "Epoch 31/50\n",
            "8298/8298 [==============================] - 41s 5ms/step - loss: 0.0042 - accuracy: 0.9990\n",
            "Epoch 32/50\n",
            "8298/8298 [==============================] - 41s 5ms/step - loss: 0.0049 - accuracy: 0.9988\n",
            "Epoch 33/50\n",
            "8298/8298 [==============================] - 41s 5ms/step - loss: 0.0033 - accuracy: 0.9990\n",
            "Epoch 34/50\n",
            "8298/8298 [==============================] - 41s 5ms/step - loss: 0.0030 - accuracy: 0.9991\n",
            "Epoch 35/50\n",
            "8298/8298 [==============================] - 41s 5ms/step - loss: 0.0029 - accuracy: 0.9993\n",
            "Epoch 36/50\n",
            "8298/8298 [==============================] - 40s 5ms/step - loss: 0.0024 - accuracy: 0.9994\n",
            "Epoch 37/50\n",
            "8298/8298 [==============================] - 40s 5ms/step - loss: 0.0023 - accuracy: 0.9995\n",
            "Epoch 38/50\n",
            "8298/8298 [==============================] - 41s 5ms/step - loss: 0.0020 - accuracy: 0.9995\n",
            "Epoch 39/50\n",
            "8298/8298 [==============================] - 40s 5ms/step - loss: 0.0020 - accuracy: 0.9995\n",
            "Epoch 40/50\n",
            "8298/8298 [==============================] - 41s 5ms/step - loss: 0.0024 - accuracy: 0.9995\n",
            "Epoch 41/50\n",
            "8298/8298 [==============================] - 41s 5ms/step - loss: 0.0019 - accuracy: 0.9996\n",
            "Epoch 42/50\n",
            "8298/8298 [==============================] - 41s 5ms/step - loss: 0.0019 - accuracy: 0.9995\n",
            "Epoch 43/50\n",
            "8298/8298 [==============================] - 40s 5ms/step - loss: 0.0024 - accuracy: 0.9995\n",
            "Epoch 44/50\n",
            "8298/8298 [==============================] - 41s 5ms/step - loss: 0.0022 - accuracy: 0.9996\n",
            "Epoch 45/50\n",
            "8298/8298 [==============================] - 40s 5ms/step - loss: 0.0017 - accuracy: 0.9996\n",
            "Epoch 46/50\n",
            "8298/8298 [==============================] - 40s 5ms/step - loss: 0.0018 - accuracy: 0.9996\n",
            "Epoch 47/50\n",
            "8298/8298 [==============================] - 40s 5ms/step - loss: 0.0018 - accuracy: 0.9996\n",
            "Epoch 48/50\n",
            "8298/8298 [==============================] - 40s 5ms/step - loss: 0.0020 - accuracy: 0.9996\n",
            "Epoch 49/50\n",
            "8298/8298 [==============================] - 41s 5ms/step - loss: 0.0022 - accuracy: 0.9996\n",
            "Epoch 50/50\n",
            "8298/8298 [==============================] - 40s 5ms/step - loss: 0.0018 - accuracy: 0.9996\n"
          ]
        },
        {
          "output_type": "execute_result",
          "data": {
            "text/plain": [
              "<keras.callbacks.History at 0x7ffb22ef6910>"
            ]
          },
          "metadata": {},
          "execution_count": 30
        }
      ]
    },
    {
      "cell_type": "markdown",
      "metadata": {
        "id": "UHad5CBL3mzQ"
      },
      "source": [
        "Testing the model"
      ]
    },
    {
      "cell_type": "code",
      "metadata": {
        "colab": {
          "base_uri": "https://localhost:8080/"
        },
        "id": "sQRdJa3Usnxk",
        "outputId": "e65f34e8-960a-4c11-fcf8-d30012e4d83b"
      },
      "source": [
        "loss, accuracy = model.evaluate(test_inputs, test_targets, verbose=1)\n"
      ],
      "execution_count": 31,
      "outputs": [
        {
          "output_type": "stream",
          "name": "stdout",
          "text": [
            "735/735 [==============================] - 1s 2ms/step - loss: 0.3746 - accuracy: 0.9760\n"
          ]
        }
      ]
    },
    {
      "cell_type": "markdown",
      "metadata": {
        "id": "gOKQgBa13ocy"
      },
      "source": [
        "Evaluation of the model"
      ]
    },
    {
      "cell_type": "code",
      "metadata": {
        "colab": {
          "base_uri": "https://localhost:8080/",
          "height": 165
        },
        "id": "FCxvTAtcsnxk",
        "outputId": "f44ff57a-7618-40b2-94cc-476239698771"
      },
      "source": [
        "predictions = model.predict(test_inputs)\n",
        "conf_matrix = tf.math.confusion_matrix(labels=test_targets,\n",
        "                                       predictions=predictions).numpy()\n",
        "print(\"------ Confusion Matrix Created ------\")\n",
        "print()\n",
        "print(conf_matrix)\n",
        "print()\n",
        "\n",
        "precision_2 = (conf_matrix[1][1]/(conf_matrix[1][1]+conf_matrix[0][1])).round(2)\n",
        "recall_2 = (conf_matrix[1][1]/(conf_matrix[1][1]+conf_matrix[1][0])).round(2)\n",
        "f1Score_2 = ((2 * precision_2 * recall_2)/(precision_2 + recall_2)).round(2)\n",
        "statics = pd.DataFrame([[precision_2,recall_2,f1Score_2]],columns=[\"Precision\",\"Recall\",\"F1score\"])\n",
        "statics"
      ],
      "execution_count": 32,
      "outputs": [
        {
          "output_type": "stream",
          "name": "stdout",
          "text": [
            "------ Confusion Matrix Created ------\n",
            "\n",
            "[[22314    89]\n",
            " [  438   661]]\n",
            "\n"
          ]
        },
        {
          "output_type": "execute_result",
          "data": {
            "text/html": [
              "<div>\n",
              "<style scoped>\n",
              "    .dataframe tbody tr th:only-of-type {\n",
              "        vertical-align: middle;\n",
              "    }\n",
              "\n",
              "    .dataframe tbody tr th {\n",
              "        vertical-align: top;\n",
              "    }\n",
              "\n",
              "    .dataframe thead th {\n",
              "        text-align: right;\n",
              "    }\n",
              "</style>\n",
              "<table border=\"1\" class=\"dataframe\">\n",
              "  <thead>\n",
              "    <tr style=\"text-align: right;\">\n",
              "      <th></th>\n",
              "      <th>Precision</th>\n",
              "      <th>Recall</th>\n",
              "      <th>F1score</th>\n",
              "    </tr>\n",
              "  </thead>\n",
              "  <tbody>\n",
              "    <tr>\n",
              "      <th>0</th>\n",
              "      <td>0.88</td>\n",
              "      <td>0.6</td>\n",
              "      <td>0.71</td>\n",
              "    </tr>\n",
              "  </tbody>\n",
              "</table>\n",
              "</div>"
            ],
            "text/plain": [
              "   Precision  Recall  F1score\n",
              "0       0.88     0.6     0.71"
            ]
          },
          "metadata": {},
          "execution_count": 32
        }
      ]
    },
    {
      "cell_type": "markdown",
      "metadata": {
        "id": "dLEi0YD54kid"
      },
      "source": [
        "Balancing the train dataset for Svm and Logistic Regression Model"
      ]
    },
    {
      "cell_type": "code",
      "metadata": {
        "colab": {
          "base_uri": "https://localhost:8080/"
        },
        "id": "CUfCYwd4qfiL",
        "outputId": "95c70ce9-86fa-44f4-c2bb-563c98867930"
      },
      "source": [
        "new_train_dataset = np.concatenate((train_inputs,train_targets.reshape((train_targets.shape[0],1))),axis=1)\n",
        "df = pd.DataFrame(new_train_dataset, columns = None)\n",
        "df.columns = [*df.columns[:-1], 'label']\n",
        "reps = [128 if val == 1 else 1 for val in df.label]\n",
        "df = df.loc[np.repeat(df.index.values, reps)].reset_index(drop=True)\n",
        "Balanced_train = df.to_numpy()\n",
        "print('Shape before Balancing :', new_train_dataset.shape)\n",
        "print('Shape After Balancing:', Balanced_train.shape)"
      ],
      "execution_count": 33,
      "outputs": [
        {
          "output_type": "stream",
          "name": "stdout",
          "text": [
            "Shape before Balancing : (55792, 601)\n",
            "Shape After Balancing: (379134, 601)\n"
          ]
        }
      ]
    },
    {
      "cell_type": "markdown",
      "metadata": {
        "id": "hlQKZ6E04uVs"
      },
      "source": [
        "Logistic Regression After Balancing"
      ]
    },
    {
      "cell_type": "code",
      "metadata": {
        "colab": {
          "base_uri": "https://localhost:8080/"
        },
        "id": "Rn9NuCk5V7EP",
        "outputId": "fd54922b-d991-47bf-add3-abb508ae7846"
      },
      "source": [
        "reg = LogisticRegression()\n",
        "reg.fit(Balanced_train[:,:-1],Balanced_train[:,-1])"
      ],
      "execution_count": 34,
      "outputs": [
        {
          "output_type": "stream",
          "name": "stderr",
          "text": [
            "/usr/local/lib/python3.7/dist-packages/sklearn/linear_model/_logistic.py:940: ConvergenceWarning: lbfgs failed to converge (status=1):\n",
            "STOP: TOTAL NO. of ITERATIONS REACHED LIMIT.\n",
            "\n",
            "Increase the number of iterations (max_iter) or scale the data as shown in:\n",
            "    https://scikit-learn.org/stable/modules/preprocessing.html\n",
            "Please also refer to the documentation for alternative solver options:\n",
            "    https://scikit-learn.org/stable/modules/linear_model.html#logistic-regression\n",
            "  extra_warning_msg=_LOGISTIC_SOLVER_CONVERGENCE_MSG)\n"
          ]
        },
        {
          "output_type": "execute_result",
          "data": {
            "text/plain": [
              "LogisticRegression(C=1.0, class_weight=None, dual=False, fit_intercept=True,\n",
              "                   intercept_scaling=1, l1_ratio=None, max_iter=100,\n",
              "                   multi_class='auto', n_jobs=None, penalty='l2',\n",
              "                   random_state=None, solver='lbfgs', tol=0.0001, verbose=0,\n",
              "                   warm_start=False)"
            ]
          },
          "metadata": {},
          "execution_count": 34
        }
      ]
    },
    {
      "cell_type": "markdown",
      "metadata": {
        "id": "ujQVAxmO4zjU"
      },
      "source": [
        "Logistic Regression Evaluation"
      ]
    },
    {
      "cell_type": "code",
      "metadata": {
        "colab": {
          "base_uri": "https://localhost:8080/"
        },
        "id": "6lvoOIb-V7Ea",
        "outputId": "0551f688-18f0-44dc-fd03-c7d11e931a83"
      },
      "source": [
        "print(\"score on test: \"  + str(reg.score(x_test, y_test)))\n",
        "print(\"score on train: \" + str(reg.score(Balanced_train[:,:-1],Balanced_train[:,-1])))\n",
        "y_pred = reg.predict(x_test)\n",
        "print(classification_report(y_test, y_pred))\n",
        "print(confusion_matrix(y_test, y_pred))"
      ],
      "execution_count": 35,
      "outputs": [
        {
          "output_type": "stream",
          "name": "stdout",
          "text": [
            "score on test: 0.4984256659007744\n",
            "score on train: 0.9042581250956127\n",
            "              precision    recall  f1-score   support\n",
            "\n",
            "           0       0.99      0.48      0.64     22403\n",
            "           1       0.08      0.93      0.15      1099\n",
            "\n",
            "    accuracy                           0.50     23502\n",
            "   macro avg       0.54      0.70      0.40     23502\n",
            "weighted avg       0.95      0.50      0.62     23502\n",
            "\n",
            "[[10694 11709]\n",
            " [   79  1020]]\n"
          ]
        }
      ]
    },
    {
      "cell_type": "markdown",
      "metadata": {
        "id": "OWTN6mcX45fG"
      },
      "source": [
        "SVM After Balancing"
      ]
    },
    {
      "cell_type": "code",
      "metadata": {
        "colab": {
          "base_uri": "https://localhost:8080/"
        },
        "id": "5qeuyWYhV7Eb",
        "outputId": "bb865590-98c4-4cdb-e377-a74bdc0fc810"
      },
      "source": [
        "svm=LinearSVC(C=0.0001)\n",
        "svm.fit(Balanced_train[:,:-1],Balanced_train[:,-1])\n"
      ],
      "execution_count": 36,
      "outputs": [
        {
          "output_type": "execute_result",
          "data": {
            "text/plain": [
              "LinearSVC(C=0.0001, class_weight=None, dual=True, fit_intercept=True,\n",
              "          intercept_scaling=1, loss='squared_hinge', max_iter=1000,\n",
              "          multi_class='ovr', penalty='l2', random_state=None, tol=0.0001,\n",
              "          verbose=0)"
            ]
          },
          "metadata": {},
          "execution_count": 36
        }
      ]
    },
    {
      "cell_type": "markdown",
      "metadata": {
        "id": "-d1eQYnz47Hz"
      },
      "source": [
        "SVM Evaluation"
      ]
    },
    {
      "cell_type": "code",
      "metadata": {
        "colab": {
          "base_uri": "https://localhost:8080/"
        },
        "id": "opk3vCYBV7Ed",
        "outputId": "164e6cbe-2efa-449f-d88d-a74ec98ae391"
      },
      "source": [
        "print(\"score on test: \" + str(svm.score(x_test, y_test)))\n",
        "print(\"score on train: \"+ str(svm.score(Balanced_train[:,:-1], Balanced_train[:,-1])))\n",
        "y_pred = svm.predict(x_test)\n",
        "print(classification_report(y_test, y_pred))\n",
        "print(confusion_matrix(y_test, y_pred))"
      ],
      "execution_count": 37,
      "outputs": [
        {
          "output_type": "stream",
          "name": "stdout",
          "text": [
            "score on test: 0.2675942472981023\n",
            "score on train: 0.8843680598416391\n",
            "              precision    recall  f1-score   support\n",
            "\n",
            "           0       0.99      0.23      0.38     22403\n",
            "           1       0.06      0.97      0.11      1099\n",
            "\n",
            "    accuracy                           0.27     23502\n",
            "   macro avg       0.53      0.60      0.24     23502\n",
            "weighted avg       0.95      0.27      0.37     23502\n",
            "\n",
            "[[ 5219 17184]\n",
            " [   29  1070]]\n"
          ]
        }
      ]
    },
    {
      "cell_type": "markdown",
      "metadata": {
        "id": "uNUP6I8p2XKK"
      },
      "source": [
        "Balancing the dataset for KNN model"
      ]
    },
    {
      "cell_type": "code",
      "metadata": {
        "colab": {
          "base_uri": "https://localhost:8080/"
        },
        "id": "ngstARIu2XxR",
        "outputId": "933a2dbb-ab9d-4ebb-bd48-50990d319357"
      },
      "source": [
        "new_train_dataset = np.concatenate((train_inputs,train_targets.reshape((train_targets.shape[0],1))),axis=1)\n",
        "df = pd.DataFrame(new_train_dataset, columns = None)\n",
        "df.columns = [*df.columns[:-1], 'label']\n",
        "reps = [64 if val == 1 else 1 for val in df.label]\n",
        "df = df.loc[np.repeat(df.index.values, reps)].reset_index(drop=True)\n",
        "Balanced_train = df.to_numpy()\n",
        "print('Shape before Balancing :', new_train_dataset.shape)\n",
        "print('Shape After Balancing:', Balanced_train.shape)"
      ],
      "execution_count": 38,
      "outputs": [
        {
          "output_type": "stream",
          "name": "stdout",
          "text": [
            "Shape before Balancing : (55792, 601)\n",
            "Shape After Balancing: (216190, 601)\n"
          ]
        }
      ]
    },
    {
      "cell_type": "markdown",
      "metadata": {
        "id": "arg3l_XZ2wx1"
      },
      "source": [
        "Balance KNN implementation"
      ]
    },
    {
      "cell_type": "code",
      "metadata": {
        "colab": {
          "base_uri": "https://localhost:8080/"
        },
        "id": "u0Mdmn-p2wx1",
        "outputId": "2bacbff3-e003-4bdb-8dbc-d43093109a4b"
      },
      "source": [
        "knn = KNeighborsClassifier(n_neighbors=4)\n",
        "knn.fit(Balanced_train[:,:-1],Balanced_train[:,-1])"
      ],
      "execution_count": 39,
      "outputs": [
        {
          "output_type": "execute_result",
          "data": {
            "text/plain": [
              "KNeighborsClassifier(algorithm='auto', leaf_size=30, metric='minkowski',\n",
              "                     metric_params=None, n_jobs=None, n_neighbors=4, p=2,\n",
              "                     weights='uniform')"
            ]
          },
          "metadata": {},
          "execution_count": 39
        }
      ]
    },
    {
      "cell_type": "markdown",
      "metadata": {
        "id": "zI4VGFO52wx1"
      },
      "source": [
        "Balanced KNN evaluation"
      ]
    },
    {
      "cell_type": "code",
      "metadata": {
        "colab": {
          "base_uri": "https://localhost:8080/"
        },
        "id": "XUIghQdX2wx1",
        "outputId": "47c3f406-ab6d-4c5a-edf1-464b3987876c"
      },
      "source": [
        "y_pred = knn.predict(x_test)\n",
        "print(classification_report(y_test, y_pred))\n",
        "print(confusion_matrix(y_test, y_pred))"
      ],
      "execution_count": 40,
      "outputs": [
        {
          "output_type": "stream",
          "name": "stdout",
          "text": [
            "              precision    recall  f1-score   support\n",
            "\n",
            "           0       0.99      0.99      0.99     22403\n",
            "           1       0.73      0.74      0.73      1099\n",
            "\n",
            "    accuracy                           0.97     23502\n",
            "   macro avg       0.86      0.86      0.86     23502\n",
            "weighted avg       0.97      0.97      0.97     23502\n",
            "\n",
            "[[22100   303]\n",
            " [  289   810]]\n"
          ]
        }
      ]
    },
    {
      "cell_type": "markdown",
      "metadata": {
        "id": "TT1qAAPVHRDD"
      },
      "source": [
        "Models' Summary"
      ]
    },
    {
      "cell_type": "code",
      "metadata": {
        "colab": {
          "base_uri": "https://localhost:8080/",
          "height": 328
        },
        "id": "E4-Ab6KrGkNv",
        "outputId": "d7e9cc34-f66f-4330-f751-b1907a4677a0"
      },
      "source": [
        "conclusion = pd.DataFrame([['Neural Network',precision_1,recall_1,f1Score_1],\n",
        "              ['Logistic Regression',0.53,0.17,0.26],\n",
        "              ['SVM',0.38,0.01,0.03],\n",
        "              ['KNN',0.94,0.56,0.70],\n",
        "              ['Neural Network after Balancing',precision_2,recall_2,f1Score_2],\n",
        "              ['Logistic Regression after Balancing',0.08,0.93,0.15],\n",
        "              ['SVM after Balancing',0.06,0.97,0.11],\n",
        "              ['KNN after Balancing',0.73,0.73,0.73]],\n",
        "              columns=[\"Algorithm\",\"Precision\",\"Recall\",\"F1score\"])\n",
        "conclusion = conclusion.set_index('Algorithm')\n",
        "conclusion.style.background_gradient(cmap=\"YlOrRd\")\n"
      ],
      "execution_count": 76,
      "outputs": [
        {
          "output_type": "execute_result",
          "data": {
            "text/html": [
              "<style  type=\"text/css\" >\n",
              "#T_488bbc3c_3a6a_11ec_ac23_0242ac1c0002row0_col0,#T_488bbc3c_3a6a_11ec_ac23_0242ac1c0002row6_col1,#T_488bbc3c_3a6a_11ec_ac23_0242ac1c0002row7_col2{\n",
              "            background-color:  #800026;\n",
              "            color:  #f1f1f1;\n",
              "        }#T_488bbc3c_3a6a_11ec_ac23_0242ac1c0002row0_col1{\n",
              "            background-color:  #febf5a;\n",
              "            color:  #000000;\n",
              "        }#T_488bbc3c_3a6a_11ec_ac23_0242ac1c0002row0_col2{\n",
              "            background-color:  #f54026;\n",
              "            color:  #f1f1f1;\n",
              "        }#T_488bbc3c_3a6a_11ec_ac23_0242ac1c0002row1_col0{\n",
              "            background-color:  #fd883b;\n",
              "            color:  #000000;\n",
              "        }#T_488bbc3c_3a6a_11ec_ac23_0242ac1c0002row1_col1{\n",
              "            background-color:  #ffe793;\n",
              "            color:  #000000;\n",
              "        }#T_488bbc3c_3a6a_11ec_ac23_0242ac1c0002row1_col2{\n",
              "            background-color:  #fec05b;\n",
              "            color:  #000000;\n",
              "        }#T_488bbc3c_3a6a_11ec_ac23_0242ac1c0002row2_col0{\n",
              "            background-color:  #feba55;\n",
              "            color:  #000000;\n",
              "        }#T_488bbc3c_3a6a_11ec_ac23_0242ac1c0002row2_col1,#T_488bbc3c_3a6a_11ec_ac23_0242ac1c0002row2_col2,#T_488bbc3c_3a6a_11ec_ac23_0242ac1c0002row6_col0{\n",
              "            background-color:  #ffffcc;\n",
              "            color:  #000000;\n",
              "        }#T_488bbc3c_3a6a_11ec_ac23_0242ac1c0002row3_col0{\n",
              "            background-color:  #950026;\n",
              "            color:  #f1f1f1;\n",
              "        }#T_488bbc3c_3a6a_11ec_ac23_0242ac1c0002row3_col1{\n",
              "            background-color:  #fc6832;\n",
              "            color:  #000000;\n",
              "        }#T_488bbc3c_3a6a_11ec_ac23_0242ac1c0002row3_col2,#T_488bbc3c_3a6a_11ec_ac23_0242ac1c0002row5_col1{\n",
              "            background-color:  #930026;\n",
              "            color:  #f1f1f1;\n",
              "        }#T_488bbc3c_3a6a_11ec_ac23_0242ac1c0002row4_col0{\n",
              "            background-color:  #b40026;\n",
              "            color:  #f1f1f1;\n",
              "        }#T_488bbc3c_3a6a_11ec_ac23_0242ac1c0002row4_col1{\n",
              "            background-color:  #fc532b;\n",
              "            color:  #000000;\n",
              "        }#T_488bbc3c_3a6a_11ec_ac23_0242ac1c0002row4_col2{\n",
              "            background-color:  #8d0026;\n",
              "            color:  #f1f1f1;\n",
              "        }#T_488bbc3c_3a6a_11ec_ac23_0242ac1c0002row5_col0{\n",
              "            background-color:  #fffcc5;\n",
              "            color:  #000000;\n",
              "        }#T_488bbc3c_3a6a_11ec_ac23_0242ac1c0002row5_col2{\n",
              "            background-color:  #ffe691;\n",
              "            color:  #000000;\n",
              "        }#T_488bbc3c_3a6a_11ec_ac23_0242ac1c0002row6_col2{\n",
              "            background-color:  #ffefa4;\n",
              "            color:  #000000;\n",
              "        }#T_488bbc3c_3a6a_11ec_ac23_0242ac1c0002row7_col0{\n",
              "            background-color:  #e7231e;\n",
              "            color:  #f1f1f1;\n",
              "        }#T_488bbc3c_3a6a_11ec_ac23_0242ac1c0002row7_col1{\n",
              "            background-color:  #e2191c;\n",
              "            color:  #f1f1f1;\n",
              "        }</style><table id=\"T_488bbc3c_3a6a_11ec_ac23_0242ac1c0002\" class=\"dataframe\"><thead>    <tr>        <th class=\"blank level0\" ></th>        <th class=\"col_heading level0 col0\" >Precision</th>        <th class=\"col_heading level0 col1\" >Recall</th>        <th class=\"col_heading level0 col2\" >F1score</th>    </tr>    <tr>        <th class=\"index_name level0\" >Algorithm</th>        <th class=\"blank\" ></th>        <th class=\"blank\" ></th>        <th class=\"blank\" ></th>    </tr></thead><tbody>\n",
              "                <tr>\n",
              "                        <th id=\"T_488bbc3c_3a6a_11ec_ac23_0242ac1c0002level0_row0\" class=\"row_heading level0 row0\" >Neural Network</th>\n",
              "                        <td id=\"T_488bbc3c_3a6a_11ec_ac23_0242ac1c0002row0_col0\" class=\"data row0 col0\" >0.980000</td>\n",
              "                        <td id=\"T_488bbc3c_3a6a_11ec_ac23_0242ac1c0002row0_col1\" class=\"data row0 col1\" >0.330000</td>\n",
              "                        <td id=\"T_488bbc3c_3a6a_11ec_ac23_0242ac1c0002row0_col2\" class=\"data row0 col2\" >0.490000</td>\n",
              "            </tr>\n",
              "            <tr>\n",
              "                        <th id=\"T_488bbc3c_3a6a_11ec_ac23_0242ac1c0002level0_row1\" class=\"row_heading level0 row1\" >Logistic Regression</th>\n",
              "                        <td id=\"T_488bbc3c_3a6a_11ec_ac23_0242ac1c0002row1_col0\" class=\"data row1 col0\" >0.530000</td>\n",
              "                        <td id=\"T_488bbc3c_3a6a_11ec_ac23_0242ac1c0002row1_col1\" class=\"data row1 col1\" >0.170000</td>\n",
              "                        <td id=\"T_488bbc3c_3a6a_11ec_ac23_0242ac1c0002row1_col2\" class=\"data row1 col2\" >0.260000</td>\n",
              "            </tr>\n",
              "            <tr>\n",
              "                        <th id=\"T_488bbc3c_3a6a_11ec_ac23_0242ac1c0002level0_row2\" class=\"row_heading level0 row2\" >SVM</th>\n",
              "                        <td id=\"T_488bbc3c_3a6a_11ec_ac23_0242ac1c0002row2_col0\" class=\"data row2 col0\" >0.380000</td>\n",
              "                        <td id=\"T_488bbc3c_3a6a_11ec_ac23_0242ac1c0002row2_col1\" class=\"data row2 col1\" >0.010000</td>\n",
              "                        <td id=\"T_488bbc3c_3a6a_11ec_ac23_0242ac1c0002row2_col2\" class=\"data row2 col2\" >0.030000</td>\n",
              "            </tr>\n",
              "            <tr>\n",
              "                        <th id=\"T_488bbc3c_3a6a_11ec_ac23_0242ac1c0002level0_row3\" class=\"row_heading level0 row3\" >KNN</th>\n",
              "                        <td id=\"T_488bbc3c_3a6a_11ec_ac23_0242ac1c0002row3_col0\" class=\"data row3 col0\" >0.940000</td>\n",
              "                        <td id=\"T_488bbc3c_3a6a_11ec_ac23_0242ac1c0002row3_col1\" class=\"data row3 col1\" >0.560000</td>\n",
              "                        <td id=\"T_488bbc3c_3a6a_11ec_ac23_0242ac1c0002row3_col2\" class=\"data row3 col2\" >0.700000</td>\n",
              "            </tr>\n",
              "            <tr>\n",
              "                        <th id=\"T_488bbc3c_3a6a_11ec_ac23_0242ac1c0002level0_row4\" class=\"row_heading level0 row4\" >Neural Network after Balancing</th>\n",
              "                        <td id=\"T_488bbc3c_3a6a_11ec_ac23_0242ac1c0002row4_col0\" class=\"data row4 col0\" >0.880000</td>\n",
              "                        <td id=\"T_488bbc3c_3a6a_11ec_ac23_0242ac1c0002row4_col1\" class=\"data row4 col1\" >0.600000</td>\n",
              "                        <td id=\"T_488bbc3c_3a6a_11ec_ac23_0242ac1c0002row4_col2\" class=\"data row4 col2\" >0.710000</td>\n",
              "            </tr>\n",
              "            <tr>\n",
              "                        <th id=\"T_488bbc3c_3a6a_11ec_ac23_0242ac1c0002level0_row5\" class=\"row_heading level0 row5\" >Logistic Regression after Balancing</th>\n",
              "                        <td id=\"T_488bbc3c_3a6a_11ec_ac23_0242ac1c0002row5_col0\" class=\"data row5 col0\" >0.080000</td>\n",
              "                        <td id=\"T_488bbc3c_3a6a_11ec_ac23_0242ac1c0002row5_col1\" class=\"data row5 col1\" >0.930000</td>\n",
              "                        <td id=\"T_488bbc3c_3a6a_11ec_ac23_0242ac1c0002row5_col2\" class=\"data row5 col2\" >0.150000</td>\n",
              "            </tr>\n",
              "            <tr>\n",
              "                        <th id=\"T_488bbc3c_3a6a_11ec_ac23_0242ac1c0002level0_row6\" class=\"row_heading level0 row6\" >SVM after Balancing</th>\n",
              "                        <td id=\"T_488bbc3c_3a6a_11ec_ac23_0242ac1c0002row6_col0\" class=\"data row6 col0\" >0.060000</td>\n",
              "                        <td id=\"T_488bbc3c_3a6a_11ec_ac23_0242ac1c0002row6_col1\" class=\"data row6 col1\" >0.970000</td>\n",
              "                        <td id=\"T_488bbc3c_3a6a_11ec_ac23_0242ac1c0002row6_col2\" class=\"data row6 col2\" >0.110000</td>\n",
              "            </tr>\n",
              "            <tr>\n",
              "                        <th id=\"T_488bbc3c_3a6a_11ec_ac23_0242ac1c0002level0_row7\" class=\"row_heading level0 row7\" >KNN after Balancing</th>\n",
              "                        <td id=\"T_488bbc3c_3a6a_11ec_ac23_0242ac1c0002row7_col0\" class=\"data row7 col0\" >0.730000</td>\n",
              "                        <td id=\"T_488bbc3c_3a6a_11ec_ac23_0242ac1c0002row7_col1\" class=\"data row7 col1\" >0.730000</td>\n",
              "                        <td id=\"T_488bbc3c_3a6a_11ec_ac23_0242ac1c0002row7_col2\" class=\"data row7 col2\" >0.730000</td>\n",
              "            </tr>\n",
              "    </tbody></table>"
            ],
            "text/plain": [
              "<pandas.io.formats.style.Styler at 0x7ffb1f35d850>"
            ]
          },
          "metadata": {},
          "execution_count": 76
        }
      ]
    },
    {
      "cell_type": "markdown",
      "metadata": {
        "id": "HAV6ArSEQ0xd"
      },
      "source": [
        "As you see After Blancing the dataset Neural Network and KNN model do the best !"
      ]
    }
  ]
}