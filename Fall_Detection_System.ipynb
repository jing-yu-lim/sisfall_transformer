{
  "nbformat": 4,
  "nbformat_minor": 0,
  "metadata": {
    "colab": {
      "name": "Fall-Detection-System.ipynb",
      "provenance": [],
      "toc_visible": true,
      "authorship_tag": "ABX9TyNki2Na905JdGjZ15Xhyq+t",
      "include_colab_link": true
    },
    "kernelspec": {
      "name": "python3",
      "display_name": "Python 3"
    },
    "language_info": {
      "name": "python"
    }
  },
  "cells": [
    {
      "cell_type": "markdown",
      "metadata": {
        "id": "view-in-github",
        "colab_type": "text"
      },
      "source": [
        "<a href=\"https://colab.research.google.com/github/mojtabaSefidi/Fall-Detection-System/blob/main/Fall_Detection_System.ipynb\" target=\"_parent\"><img src=\"https://colab.research.google.com/assets/colab-badge.svg\" alt=\"Open In Colab\"/></a>"
      ]
    },
    {
      "cell_type": "markdown",
      "metadata": {
        "id": "XIWFK9t8bVk1"
      },
      "source": [
        "Import libraries and frameworks"
      ]
    },
    {
      "cell_type": "code",
      "metadata": {
        "collapsed": true,
        "id": "qhvZxm9n-jmF"
      },
      "source": [
        "from sklearn import preprocessing\n",
        "import tensorflow as tf\n",
        "from math import sqrt\n",
        "import pandas as pd\n",
        "import numpy as np\n",
        "import glob\n",
        "import os\n",
        "window_size = 200\n"
      ],
      "execution_count": 1,
      "outputs": []
    },
    {
      "cell_type": "markdown",
      "metadata": {
        "id": "ZOCs9eqca3NV"
      },
      "source": [
        "Get the sisfall and sisfall_enhanced dataset"
      ]
    },
    {
      "cell_type": "code",
      "metadata": {
        "id": "_XAle2BBAfFr"
      },
      "source": [
        "!gdown --id 1kyTRhIFhqwRkf9gERof1Xm5FVQ-klLVA\n",
        "!gdown --id 1gvOuxPc8dNgTnxuvPcVuCKifOf98-TV0\n",
        "!unzip SisFall_dataset.zip\n",
        "!unzip SisFall_enhanced.zip"
      ],
      "execution_count": null,
      "outputs": []
    },
    {
      "cell_type": "markdown",
      "metadata": {
        "id": "bgndfoWWKRIG"
      },
      "source": [
        "# Implementation"
      ]
    },
    {
      "cell_type": "markdown",
      "metadata": {
        "id": "8yS1sWUdbpyd"
      },
      "source": [
        "Get all addresses"
      ]
    },
    {
      "cell_type": "code",
      "metadata": {
        "id": "UoyddPaZ-jmI"
      },
      "source": [
        "def get_file_name(path):\n",
        "  allfiles = []\n",
        "  allFolders = glob.glob(path + \"*\")\n",
        "  for files in allFolders:\n",
        "      allfiles.append(glob.glob(files+\"/*.txt\"))\n",
        "  if 'desktop.ini' in allfiles:\n",
        "        allfiles.remove('desktop.ini')\n",
        "  return np.hstack(allfiles)"
      ],
      "execution_count": 3,
      "outputs": []
    },
    {
      "cell_type": "code",
      "metadata": {
        "colab": {
          "base_uri": "https://localhost:8080/"
        },
        "id": "dsyujmnJwmS_",
        "outputId": "6060ffcf-8fb1-42e7-fce2-50cb7e36cc71"
      },
      "source": [
        "get_file_name(\"SisFall_dataset/\")"
      ],
      "execution_count": 4,
      "outputs": [
        {
          "output_type": "execute_result",
          "data": {
            "text/plain": [
              "array(['SisFall_dataset/SE02/D11_SE02_R01.txt',\n",
              "       'SisFall_dataset/SE02/D12_SE02_R04.txt',\n",
              "       'SisFall_dataset/SE02/D08_SE02_R03.txt', ...,\n",
              "       'SisFall_dataset/SE08/D10_SE08_R01.txt',\n",
              "       'SisFall_dataset/SE08/D14_SE08_R02.txt',\n",
              "       'SisFall_dataset/SE08/D15_SE08_R01.txt'], dtype='<U37')"
            ]
          },
          "metadata": {},
          "execution_count": 4
        }
      ]
    },
    {
      "cell_type": "markdown",
      "metadata": {
        "id": "tCOqfWlyqoI3"
      },
      "source": [
        "read dataset from address path"
      ]
    },
    {
      "cell_type": "code",
      "metadata": {
        "id": "lkqhsxkq-jmJ"
      },
      "source": [
        "def read_data(data_path):\n",
        "    data = pd.read_csv(data_path, header=None)\n",
        "    data.columns = ['ADXL345_x', 'ADXL345_y', 'ADXL345_z', 'ITG3200_x', 'ITG3200_y', 'ITG3200_z', 'MMA8451Q_x',\n",
        "                    'MMA8451Q_y', 'MMA8451Q_z']\n",
        "    data['MMA8451Q_z'] = data['MMA8451Q_z'].map(lambda x: str(x)[:-1])\n",
        "    for name in data.columns :\n",
        "      data[name] = data[name].astype(float)\n",
        "    return data"
      ],
      "execution_count": 5,
      "outputs": []
    },
    {
      "cell_type": "markdown",
      "metadata": {
        "id": "ewT7PQsBqt1U"
      },
      "source": [
        "Feature Extraction"
      ]
    },
    {
      "cell_type": "code",
      "metadata": {
        "id": "qJ6fSDVg-jmJ"
      },
      "source": [
        "def add_features(dataset,data_path):\n",
        "    new_dataset = pd.DataFrame()\n",
        "    new_dataset['acc_1'] = dataset.apply(\n",
        "        lambda row: sqrt((row.ADXL345_x ** 2 + row.ADXL345_y ** 2 + row.ADXL345_z ** 2)), axis=1)\n",
        "    new_dataset['acc_2'] = dataset.apply(\n",
        "        lambda row: sqrt((row.MMA8451Q_x ** 2 + row.MMA8451Q_y ** 2 + row.MMA8451Q_z ** 2)), axis=1)\n",
        "    new_dataset['geo'] = dataset.apply(\n",
        "        lambda row: sqrt((row.ITG3200_x ** 2 + row.ITG3200_y ** 2 + row.ITG3200_z ** 2)), axis=1)\n",
        "    new_dataset['label'] = get_label(data_path)\n",
        "    return np.round(new_dataset.to_numpy(),2)\n"
      ],
      "execution_count": 6,
      "outputs": []
    },
    {
      "cell_type": "markdown",
      "metadata": {
        "id": "g7e7B8wIq6zL"
      },
      "source": [
        "Get the Label"
      ]
    },
    {
      "cell_type": "code",
      "metadata": {
        "id": "_s8X6VwxrIqS"
      },
      "source": [
        "def get_label(data_path):\n",
        "    label = data_path[21]\n",
        "    if label =='D':\n",
        "      return int(0)\n",
        "    elif label =='F':  \n",
        "      label_path = data_path.replace('dataset','enhanced')\n",
        "      labels = pd.read_csv(label_path,header=None)\n",
        "      labels[labels == 2] = 1\n",
        "      return labels\n"
      ],
      "execution_count": 7,
      "outputs": []
    },
    {
      "cell_type": "markdown",
      "metadata": {
        "id": "YxcfzuvVq-wj"
      },
      "source": [
        "Split Dataset to train and test"
      ]
    },
    {
      "cell_type": "code",
      "metadata": {
        "id": "K25bf_9qJYoc"
      },
      "source": [
        "def split_address(dataset_address):\n",
        "  np.random.shuffle(dataset_address)\n",
        "  train, test = np.split(dataset_address, [int(len(dataset_address)*0.7)])\n",
        "  return train, test"
      ],
      "execution_count": 8,
      "outputs": []
    },
    {
      "cell_type": "markdown",
      "metadata": {
        "id": "XsGm1z4krerJ"
      },
      "source": [
        "Extract features from All addresses"
      ]
    },
    {
      "cell_type": "code",
      "metadata": {
        "id": "6JxDiDpupQsq"
      },
      "source": [
        "def datasets_to_nparray(datasets_address_array):\n",
        "  result = np.empty((0, 4), int)\n",
        "  for address in datasets_address_array:\n",
        "    result = np.concatenate(\n",
        "        (result,add_features(read_data(address),address)),axis=0)\n",
        "  return result"
      ],
      "execution_count": 9,
      "outputs": []
    },
    {
      "cell_type": "markdown",
      "metadata": {
        "id": "5A375jCSrO0a"
      },
      "source": [
        "Windowing of the dataset"
      ]
    },
    {
      "cell_type": "code",
      "metadata": {
        "id": "zYq6z8xraHNQ"
      },
      "source": [
        "def windowing(dataset,window_size):\n",
        "  window = window_size * (dataset.shape[1]-1)\n",
        "  cut = dataset.shape[0] % window_size\n",
        "  feature = dataset[:-cut,0:-1]\n",
        "  label = dataset[:-cut,-1]\n",
        "  feature = feature.ravel().reshape(feature.size//window,window)\n",
        "  label = label.reshape(label.size//window_size,window_size)\n",
        "  label = label.sum(axis=1)\n",
        "  label[label > 0] = 1\n",
        "  return feature,label"
      ],
      "execution_count": 10,
      "outputs": []
    },
    {
      "cell_type": "markdown",
      "metadata": {
        "id": "77t5bmxwrrVR"
      },
      "source": [
        "Save the Train and Test Dataset as Tensor"
      ]
    },
    {
      "cell_type": "code",
      "metadata": {
        "id": "Emj874JvaBXp"
      },
      "source": [
        "def dataset_to_tensor(test,train,window_size):\n",
        "  test_feature , test_label = windowing(datasets_to_nparray(test),window_size)\n",
        "  np.savez('Sisfall_data_test', inputs=test_feature, targets=test_label)\n",
        "  train_feature , train_label = windowing(datasets_to_nparray(train),window_size)\n",
        "  np.savez('Sisfall_data_train', inputs=train_feature, targets=train_label)\n"
      ],
      "execution_count": 11,
      "outputs": []
    },
    {
      "cell_type": "markdown",
      "metadata": {
        "id": "wXsG6DAmfm7m"
      },
      "source": [
        "# Main"
      ]
    },
    {
      "cell_type": "markdown",
      "metadata": {
        "id": "9oiw8XrQ3O59"
      },
      "source": [
        "Data Pre-processing"
      ]
    },
    {
      "cell_type": "code",
      "metadata": {
        "id": "KMg6G8lbp-XQ"
      },
      "source": [
        "train, test = split_address(get_file_name(\"SisFall_dataset/\"))"
      ],
      "execution_count": 12,
      "outputs": []
    },
    {
      "cell_type": "code",
      "metadata": {
        "id": "UdqlG_F700h6"
      },
      "source": [
        "dataset_to_tensor(test,train,window_size)"
      ],
      "execution_count": 13,
      "outputs": []
    },
    {
      "cell_type": "code",
      "metadata": {
        "id": "aps0tvot1X6l"
      },
      "source": [
        "npz = np.load(\"Sisfall_data_train.npz\")\n",
        "train_inputs = preprocessing.scale(npz[\"inputs\"].astype(np.float))\n",
        "train_targets = npz[\"targets\"].astype(np.int)\n",
        "\n",
        "\n",
        "npz = np.load(\"Sisfall_data_test.npz\")\n",
        "test_inputs = preprocessing.scale(npz[\"inputs\"].astype(np.float))\n",
        "test_targets = npz[\"targets\"].astype(np.int)"
      ],
      "execution_count": 14,
      "outputs": []
    },
    {
      "cell_type": "code",
      "metadata": {
        "colab": {
          "base_uri": "https://localhost:8080/"
        },
        "id": "HpMHPA6cgVEA",
        "outputId": "fb12dbf7-6cfb-4b08-c2b9-4b628247ce17"
      },
      "source": [
        "print(train_inputs.shape)\n",
        "print(train_targets.shape)\n",
        "print(test_inputs.shape)\n",
        "print(test_targets.shape)"
      ],
      "execution_count": 15,
      "outputs": [
        {
          "output_type": "stream",
          "text": [
            "(54543, 600)\n",
            "(54543,)\n",
            "(24751, 600)\n",
            "(24751,)\n"
          ],
          "name": "stdout"
        }
      ]
    },
    {
      "cell_type": "markdown",
      "metadata": {
        "id": "FsuvZYw8g1wu"
      },
      "source": [
        "Neural Network Training"
      ]
    },
    {
      "cell_type": "code",
      "metadata": {
        "id": "uPfuY5aotW4K",
        "colab": {
          "base_uri": "https://localhost:8080/"
        },
        "outputId": "e7ab29b8-5067-4811-9362-e7ebac3384fc"
      },
      "source": [
        "input_size = 600\n",
        "output_size = 1\n",
        "hidden_layer_size = 50\n",
        "\n",
        "model = tf.keras.Sequential([\n",
        "                             tf.keras.layers.Dense(input_size,activation=\"relu\"),\n",
        "                             tf.keras.layers.Dense(hidden_layer_size, activation=\"relu\"),\n",
        "                             tf.keras.layers.Dense(hidden_layer_size,activation=\"relu\"),\n",
        "                             tf.keras.layers.Dense(1, activation='sigmoid')\n",
        "])\n",
        "\n",
        "model.compile(optimizer='adam', loss='binary_crossentropy', metrics=['accuracy'])\n",
        "\n",
        "batch_size = 100\n",
        "max_epochs = 50\n",
        "\n",
        "model.fit(train_inputs,\n",
        "          train_targets,\n",
        "          batch_size=batch_size,\n",
        "          epochs=max_epochs,\n",
        "          shuffle = True,\n",
        "          verbose = 1\n",
        "          )"
      ],
      "execution_count": 16,
      "outputs": [
        {
          "output_type": "stream",
          "text": [
            "Epoch 1/50\n",
            "546/546 [==============================] - 5s 8ms/step - loss: 0.1066 - accuracy: 0.9674\n",
            "Epoch 2/50\n",
            "546/546 [==============================] - 4s 8ms/step - loss: 0.0724 - accuracy: 0.9762\n",
            "Epoch 3/50\n",
            "546/546 [==============================] - 4s 8ms/step - loss: 0.0642 - accuracy: 0.9780\n",
            "Epoch 4/50\n",
            "546/546 [==============================] - 4s 8ms/step - loss: 0.0583 - accuracy: 0.9803\n",
            "Epoch 5/50\n",
            "546/546 [==============================] - 9s 17ms/step - loss: 0.0554 - accuracy: 0.9813\n",
            "Epoch 6/50\n",
            "546/546 [==============================] - 10s 18ms/step - loss: 0.0525 - accuracy: 0.9821\n",
            "Epoch 7/50\n",
            "546/546 [==============================] - 8s 15ms/step - loss: 0.0491 - accuracy: 0.9831\n",
            "Epoch 8/50\n",
            "546/546 [==============================] - 10s 19ms/step - loss: 0.0469 - accuracy: 0.9842\n",
            "Epoch 9/50\n",
            "546/546 [==============================] - 12s 22ms/step - loss: 0.0460 - accuracy: 0.9846\n",
            "Epoch 10/50\n",
            "546/546 [==============================] - 12s 22ms/step - loss: 0.0447 - accuracy: 0.9854\n",
            "Epoch 11/50\n",
            "546/546 [==============================] - 10s 19ms/step - loss: 0.0444 - accuracy: 0.9855\n",
            "Epoch 12/50\n",
            "546/546 [==============================] - 7s 14ms/step - loss: 0.0421 - accuracy: 0.9865\n",
            "Epoch 13/50\n",
            "546/546 [==============================] - 10s 19ms/step - loss: 0.0404 - accuracy: 0.9868\n",
            "Epoch 14/50\n",
            "546/546 [==============================] - 10s 18ms/step - loss: 0.0404 - accuracy: 0.9867\n",
            "Epoch 15/50\n",
            "546/546 [==============================] - 10s 18ms/step - loss: 0.0390 - accuracy: 0.9873\n",
            "Epoch 16/50\n",
            "546/546 [==============================] - 7s 13ms/step - loss: 0.0347 - accuracy: 0.9885\n",
            "Epoch 17/50\n",
            "546/546 [==============================] - 9s 16ms/step - loss: 0.0342 - accuracy: 0.9889\n",
            "Epoch 18/50\n",
            "546/546 [==============================] - 11s 20ms/step - loss: 0.0358 - accuracy: 0.9884\n",
            "Epoch 19/50\n",
            "546/546 [==============================] - 11s 21ms/step - loss: 0.0328 - accuracy: 0.9898\n",
            "Epoch 20/50\n",
            "546/546 [==============================] - 10s 19ms/step - loss: 0.0333 - accuracy: 0.9893\n",
            "Epoch 21/50\n",
            "546/546 [==============================] - 11s 21ms/step - loss: 0.0339 - accuracy: 0.9894\n",
            "Epoch 22/50\n",
            "546/546 [==============================] - 9s 16ms/step - loss: 0.0335 - accuracy: 0.9894\n",
            "Epoch 23/50\n",
            "546/546 [==============================] - 12s 21ms/step - loss: 0.0331 - accuracy: 0.9898\n",
            "Epoch 24/50\n",
            "546/546 [==============================] - 9s 17ms/step - loss: 0.0298 - accuracy: 0.9909\n",
            "Epoch 25/50\n",
            "546/546 [==============================] - 12s 22ms/step - loss: 0.0283 - accuracy: 0.9912\n",
            "Epoch 26/50\n",
            "546/546 [==============================] - 11s 20ms/step - loss: 0.0300 - accuracy: 0.9908\n",
            "Epoch 27/50\n",
            "546/546 [==============================] - 8s 14ms/step - loss: 0.0279 - accuracy: 0.9912\n",
            "Epoch 28/50\n",
            "546/546 [==============================] - 11s 21ms/step - loss: 0.0294 - accuracy: 0.9914\n",
            "Epoch 29/50\n",
            "546/546 [==============================] - 9s 17ms/step - loss: 0.0309 - accuracy: 0.9907\n",
            "Epoch 30/50\n",
            "546/546 [==============================] - 7s 13ms/step - loss: 0.0287 - accuracy: 0.9911\n",
            "Epoch 31/50\n",
            "546/546 [==============================] - 11s 21ms/step - loss: 0.0238 - accuracy: 0.9926\n",
            "Epoch 32/50\n",
            "546/546 [==============================] - 7s 13ms/step - loss: 0.0250 - accuracy: 0.9924\n",
            "Epoch 33/50\n",
            "546/546 [==============================] - 11s 20ms/step - loss: 0.0264 - accuracy: 0.9920\n",
            "Epoch 34/50\n",
            "546/546 [==============================] - 8s 15ms/step - loss: 0.0284 - accuracy: 0.9920\n",
            "Epoch 35/50\n",
            "546/546 [==============================] - 7s 13ms/step - loss: 0.0235 - accuracy: 0.9929\n",
            "Epoch 36/50\n",
            "546/546 [==============================] - 10s 17ms/step - loss: 0.0273 - accuracy: 0.9922\n",
            "Epoch 37/50\n",
            "546/546 [==============================] - 9s 16ms/step - loss: 0.0272 - accuracy: 0.9923\n",
            "Epoch 38/50\n",
            "546/546 [==============================] - 10s 18ms/step - loss: 0.0252 - accuracy: 0.9927\n",
            "Epoch 39/50\n",
            "546/546 [==============================] - 13s 24ms/step - loss: 0.0213 - accuracy: 0.9938\n",
            "Epoch 40/50\n",
            "546/546 [==============================] - 10s 18ms/step - loss: 0.0235 - accuracy: 0.9929\n",
            "Epoch 41/50\n",
            "546/546 [==============================] - 13s 24ms/step - loss: 0.0255 - accuracy: 0.9929\n",
            "Epoch 42/50\n",
            "546/546 [==============================] - 10s 18ms/step - loss: 0.0276 - accuracy: 0.9919\n",
            "Epoch 43/50\n",
            "546/546 [==============================] - 9s 17ms/step - loss: 0.0273 - accuracy: 0.9924\n",
            "Epoch 44/50\n",
            "546/546 [==============================] - 9s 16ms/step - loss: 0.0233 - accuracy: 0.9933\n",
            "Epoch 45/50\n",
            "546/546 [==============================] - 12s 21ms/step - loss: 0.0198 - accuracy: 0.9945\n",
            "Epoch 46/50\n",
            "546/546 [==============================] - 12s 23ms/step - loss: 0.0234 - accuracy: 0.9929\n",
            "Epoch 47/50\n",
            "546/546 [==============================] - 6s 11ms/step - loss: 0.0224 - accuracy: 0.9934\n",
            "Epoch 48/50\n",
            "546/546 [==============================] - 7s 13ms/step - loss: 0.0233 - accuracy: 0.9931\n",
            "Epoch 49/50\n",
            "546/546 [==============================] - 9s 16ms/step - loss: 0.0222 - accuracy: 0.9937\n",
            "Epoch 50/50\n",
            "546/546 [==============================] - 9s 17ms/step - loss: 0.0203 - accuracy: 0.9940\n"
          ],
          "name": "stdout"
        },
        {
          "output_type": "execute_result",
          "data": {
            "text/plain": [
              "<keras.callbacks.History at 0x7fcc697e2d10>"
            ]
          },
          "metadata": {},
          "execution_count": 16
        }
      ]
    },
    {
      "cell_type": "markdown",
      "metadata": {
        "id": "zdeLAiXZhKh9"
      },
      "source": [
        "Neural Network Evaluation"
      ]
    },
    {
      "cell_type": "code",
      "metadata": {
        "colab": {
          "base_uri": "https://localhost:8080/"
        },
        "id": "knUqnrvvkFBY",
        "outputId": "5ad46347-ff81-41da-ec6c-4e26985b5543"
      },
      "source": [
        "loss, accuracy = model.evaluate(test_inputs, test_targets, verbose=1)"
      ],
      "execution_count": 17,
      "outputs": [
        {
          "output_type": "stream",
          "text": [
            "774/774 [==============================] - 7s 8ms/step - loss: 0.1184 - accuracy: 0.9801\n"
          ],
          "name": "stdout"
        }
      ]
    },
    {
      "cell_type": "markdown",
      "metadata": {
        "id": "LtPz_BhfhY0U"
      },
      "source": [
        "Confusion Matrix"
      ]
    },
    {
      "cell_type": "code",
      "metadata": {
        "colab": {
          "base_uri": "https://localhost:8080/",
          "height": 165
        },
        "id": "_Rca-mX_3uDt",
        "outputId": "d0ad61fb-59db-4ec3-8c3e-cacc1242bca0"
      },
      "source": [
        "predictions = model.predict(test_inputs)\n",
        "conf_matrix = tf.math.confusion_matrix(labels=test_targets,\n",
        "                                       predictions=predictions).numpy()\n",
        "print(\"------ Confusion Matrix Created ------\")\n",
        "print()\n",
        "print(conf_matrix)\n",
        "print()\n",
        "\n",
        "precision = conf_matrix[1][1]/(conf_matrix[1][1]+conf_matrix[0][1]).round()\n",
        "recall = conf_matrix[1][1]/(conf_matrix[1][1]+conf_matrix[1][0]).round()\n",
        "f1Score = (2 * precision * recall)/(precision + recall).round()\n",
        "statics = pd.DataFrame([[precision,recall,f1Score]],columns=[\"Precision\",\"Recall\",\"F1score\"])\n",
        "statics"
      ],
      "execution_count": 26,
      "outputs": [
        {
          "output_type": "stream",
          "text": [
            "------ Confusion Matrix Created ------\n",
            "\n",
            "[[23673     7]\n",
            " [  738   333]]\n",
            "\n"
          ],
          "name": "stdout"
        },
        {
          "output_type": "execute_result",
          "data": {
            "text/html": [
              "<div>\n",
              "<style scoped>\n",
              "    .dataframe tbody tr th:only-of-type {\n",
              "        vertical-align: middle;\n",
              "    }\n",
              "\n",
              "    .dataframe tbody tr th {\n",
              "        vertical-align: top;\n",
              "    }\n",
              "\n",
              "    .dataframe thead th {\n",
              "        text-align: right;\n",
              "    }\n",
              "</style>\n",
              "<table border=\"1\" class=\"dataframe\">\n",
              "  <thead>\n",
              "    <tr style=\"text-align: right;\">\n",
              "      <th></th>\n",
              "      <th>Precision</th>\n",
              "      <th>Recall</th>\n",
              "      <th>F1score</th>\n",
              "    </tr>\n",
              "  </thead>\n",
              "  <tbody>\n",
              "    <tr>\n",
              "      <th>0</th>\n",
              "      <td>0.979412</td>\n",
              "      <td>0.310924</td>\n",
              "      <td>0.609046</td>\n",
              "    </tr>\n",
              "  </tbody>\n",
              "</table>\n",
              "</div>"
            ],
            "text/plain": [
              "   Precision    Recall   F1score\n",
              "0   0.979412  0.310924  0.609046"
            ]
          },
          "metadata": {},
          "execution_count": 26
        }
      ]
    },
    {
      "cell_type": "markdown",
      "metadata": {
        "id": "BWOuA-MKiOGS"
      },
      "source": [
        "### SVM and Logistic Regression"
      ]
    },
    {
      "cell_type": "code",
      "metadata": {
        "id": "Fi-sMrHTHaB_"
      },
      "source": [
        "from sklearn.metrics import classification_report, confusion_matrix\n",
        "from sklearn.linear_model import LogisticRegression\n",
        "from sklearn.svm import LinearSVC\n",
        "x = train_inputs\n",
        "y = train_targets\n",
        "x_test = test_inputs\n",
        "y_test = test_targets"
      ],
      "execution_count": 19,
      "outputs": []
    },
    {
      "cell_type": "markdown",
      "metadata": {
        "id": "woLdg7-0iXKR"
      },
      "source": [
        "Logistic Regression"
      ]
    },
    {
      "cell_type": "code",
      "metadata": {
        "id": "n8SCcfa_NS-U",
        "colab": {
          "base_uri": "https://localhost:8080/"
        },
        "outputId": "4a60b043-47f7-457b-b7a2-41b85ada1577"
      },
      "source": [
        "reg = LogisticRegression()\n",
        "reg.fit(x,y)"
      ],
      "execution_count": 20,
      "outputs": [
        {
          "output_type": "stream",
          "text": [
            "/usr/local/lib/python3.7/dist-packages/sklearn/linear_model/_logistic.py:940: ConvergenceWarning: lbfgs failed to converge (status=1):\n",
            "STOP: TOTAL NO. of ITERATIONS REACHED LIMIT.\n",
            "\n",
            "Increase the number of iterations (max_iter) or scale the data as shown in:\n",
            "    https://scikit-learn.org/stable/modules/preprocessing.html\n",
            "Please also refer to the documentation for alternative solver options:\n",
            "    https://scikit-learn.org/stable/modules/linear_model.html#logistic-regression\n",
            "  extra_warning_msg=_LOGISTIC_SOLVER_CONVERGENCE_MSG)\n"
          ],
          "name": "stderr"
        },
        {
          "output_type": "execute_result",
          "data": {
            "text/plain": [
              "LogisticRegression(C=1.0, class_weight=None, dual=False, fit_intercept=True,\n",
              "                   intercept_scaling=1, l1_ratio=None, max_iter=100,\n",
              "                   multi_class='auto', n_jobs=None, penalty='l2',\n",
              "                   random_state=None, solver='lbfgs', tol=0.0001, verbose=0,\n",
              "                   warm_start=False)"
            ]
          },
          "metadata": {},
          "execution_count": 20
        }
      ]
    },
    {
      "cell_type": "markdown",
      "metadata": {
        "id": "HKrfoewGiedJ"
      },
      "source": [
        "Logistic Regression Evaluation"
      ]
    },
    {
      "cell_type": "code",
      "metadata": {
        "id": "OFoXD4_h1fFt",
        "colab": {
          "base_uri": "https://localhost:8080/"
        },
        "outputId": "a8f76d60-5c5c-4e32-a5c6-e958f6649f6c"
      },
      "source": [
        "print(\"score on test: \" + str(reg.score(x_test, y_test)))\n",
        "print(\"score on train: \"+ str(reg.score(x, y)))\n",
        "print()\n",
        "y_pred = reg.predict(x_test)\n",
        "print(classification_report(y_test, y_pred))\n",
        "print(confusion_matrix(y_test, y_pred))"
      ],
      "execution_count": 21,
      "outputs": [
        {
          "output_type": "stream",
          "text": [
            "score on test: 0.9571734475374732\n",
            "score on train: 0.9592981684175788\n",
            "\n",
            "              precision    recall  f1-score   support\n",
            "\n",
            "           0       0.96      0.99      0.98     23680\n",
            "           1       0.52      0.17      0.26      1071\n",
            "\n",
            "    accuracy                           0.96     24751\n",
            "   macro avg       0.74      0.58      0.62     24751\n",
            "weighted avg       0.94      0.96      0.95     24751\n",
            "\n",
            "[[23506   174]\n",
            " [  886   185]]\n"
          ],
          "name": "stdout"
        }
      ]
    },
    {
      "cell_type": "markdown",
      "metadata": {
        "id": "5tHGnjVxikKg"
      },
      "source": [
        "Svm Model\n"
      ]
    },
    {
      "cell_type": "code",
      "metadata": {
        "id": "S1iUjGveOBH_",
        "colab": {
          "base_uri": "https://localhost:8080/"
        },
        "outputId": "9f7454e0-f9f1-46ff-c3ec-1c2b5b55f636"
      },
      "source": [
        "svm=LinearSVC(C = 0.0001)\n",
        "svm.fit(x, y)\n"
      ],
      "execution_count": 22,
      "outputs": [
        {
          "output_type": "execute_result",
          "data": {
            "text/plain": [
              "LinearSVC(C=0.0001, class_weight=None, dual=True, fit_intercept=True,\n",
              "          intercept_scaling=1, loss='squared_hinge', max_iter=1000,\n",
              "          multi_class='ovr', penalty='l2', random_state=None, tol=0.0001,\n",
              "          verbose=0)"
            ]
          },
          "metadata": {},
          "execution_count": 22
        }
      ]
    },
    {
      "cell_type": "markdown",
      "metadata": {
        "id": "4psyZG_0inSI"
      },
      "source": [
        "Svm Model Evaluation"
      ]
    },
    {
      "cell_type": "code",
      "metadata": {
        "id": "8VW1xMT5UeVV",
        "colab": {
          "base_uri": "https://localhost:8080/"
        },
        "outputId": "b8e234c5-fb0a-40a6-9fbf-b29189345ae1"
      },
      "source": [
        "print(\"score on test: \"  + str(svm.score(x_test, y_test)))\n",
        "print(\"score on train: \" + str(svm.score(x, y)))\n",
        "print()\n",
        "y_pred = svm.predict(x_test)\n",
        "print(classification_report(y_test, y_pred))\n",
        "print(confusion_matrix(y_test, y_pred))"
      ],
      "execution_count": 23,
      "outputs": [
        {
          "output_type": "stream",
          "text": [
            "score on test: 0.9569714354975557\n",
            "score on train: 0.9531378912051043\n",
            "\n",
            "              precision    recall  f1-score   support\n",
            "\n",
            "           0       0.96      1.00      0.98     23680\n",
            "           1       0.59      0.02      0.03      1071\n",
            "\n",
            "    accuracy                           0.96     24751\n",
            "   macro avg       0.78      0.51      0.51     24751\n",
            "weighted avg       0.94      0.96      0.94     24751\n",
            "\n",
            "[[23667    13]\n",
            " [ 1052    19]]\n"
          ],
          "name": "stdout"
        }
      ]
    }
  ]
}