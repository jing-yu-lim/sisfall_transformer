{
  "cells": [
    {
      "cell_type": "markdown",
      "metadata": {
        "id": "view-in-github",
        "colab_type": "text"
      },
      "source": [
        "<a href=\"https://colab.research.google.com/github/mojtabaSefidi/Fall-Detection-System/blob/master/Fall_Detection_System_v2.ipynb\" target=\"_parent\"><img src=\"https://colab.research.google.com/assets/colab-badge.svg\" alt=\"Open In Colab\"/></a>"
      ]
    },
    {
      "cell_type": "code",
      "execution_count": 2,
      "metadata": {
        "colab": {
          "base_uri": "https://localhost:8080/"
        },
        "id": "x4Hyqy-KZ3Eu",
        "outputId": "abc45c1f-2ef1-44cc-a167-024974d2fa71"
      },
      "outputs": [
        {
          "output_type": "stream",
          "name": "stdout",
          "text": [
            "Mounted at /content/gdrive\n"
          ]
        }
      ],
      "source": [
        "from google.colab import drive\n",
        "drive.mount(\"/content/gdrive\")"
      ]
    },
    {
      "cell_type": "markdown",
      "metadata": {
        "id": "XIWFK9t8bVk1"
      },
      "source": [
        "### Imports and installation"
      ]
    },
    {
      "cell_type": "code",
      "execution_count": 3,
      "metadata": {
        "id": "MwqF72o5A4-2"
      },
      "outputs": [],
      "source": [
        "!pip install -q tqdm"
      ]
    },
    {
      "cell_type": "code",
      "execution_count": 4,
      "metadata": {
        "collapsed": true,
        "id": "qhvZxm9n-jmF"
      },
      "outputs": [],
      "source": [
        "from sklearn.metrics import classification_report, confusion_matrix, precision_recall_curve, roc_auc_score, roc_curve\n",
        "from sklearn.model_selection import train_test_split, GridSearchCV\n",
        "from sklearn.ensemble import RandomForestClassifier\n",
        "from sklearn.linear_model import LogisticRegression\n",
        "from sklearn.neighbors import KNeighborsClassifier\n",
        "from sklearn.preprocessing import StandardScaler\n",
        "from sklearn.tree import DecisionTreeClassifier\n",
        "from sklearn.utils import compute_class_weight\n",
        "from itertools import groupby, chain\n",
        "import matplotlib.pyplot as plt\n",
        "from tensorflow import keras\n",
        "import tensorflow as tf\n",
        "from tqdm import tqdm\n",
        "from math import sqrt\n",
        "import seaborn as sn\n",
        "import pandas as pd\n",
        "import numpy as np\n",
        "import random\n",
        "import pickle\n",
        "import glob\n",
        "import os\n",
        "sn.set()\n"
      ]
    },
    {
      "cell_type": "code",
      "source": [
        "window_size = 200"
      ],
      "metadata": {
        "id": "qQ54WqPC91ZF"
      },
      "execution_count": 5,
      "outputs": []
    },
    {
      "cell_type": "markdown",
      "metadata": {
        "id": "RPXpiZUY6HBc"
      },
      "source": [
        "### Additional Functions"
      ]
    },
    {
      "cell_type": "code",
      "execution_count": 19,
      "metadata": {
        "id": "Mw2f3Oyj7z4b"
      },
      "outputs": [],
      "source": [
        "colors = plt.rcParams['axes.prop_cycle'].by_key()['color']\n",
        "\n",
        "def plot_confusion_matrix(confusion_matrix, title='', cmap ='Greens'):\n",
        "    df = pd.DataFrame(confusion_matrix, ['not fall', 'fall'], ['not fall', 'fall'])\n",
        "    plt.figure(figsize=(7,4))\n",
        "    if title == '' :\n",
        "        plt.title('Confusion Matrix')\n",
        "    else:\n",
        "        plt.title('Confusion Matrix for' + ' ' + title)\n",
        "    sn.set(font_scale=1) # for label size\n",
        "    sn.heatmap(df, annot=True, annot_kws={\"size\": 12},fmt='.0f',cmap=cmap) # font size\n",
        "    plt.ylabel('Actual label')\n",
        "    plt.xlabel('Predicted label')\n",
        "    plt.show()\n",
        "\n",
        "\n",
        "def plot_precision_recall_curve(actual_labels, prediction, title='', model_name='', file_name=None):\n",
        "    precision, recall, thresholds=precision_recall_curve(actual_labels, prediction)\n",
        "    plt.figure(figsize=(8,6))\n",
        "    fig, ax = plt.subplots()\n",
        "    ax.plot(recall, precision, label='Model: {model_name}'.format(model_name=model_name), color='purple')\n",
        "\n",
        "    # add axis labels to plot\n",
        "    if title == '':\n",
        "        plt.title(title)\n",
        "    else:\n",
        "        plt.title('Precision-Recall Curve')\n",
        "    ax.set_ylabel('Precision')\n",
        "    ax.set_xlabel('Recall')\n",
        "\n",
        "    # display plot\n",
        "    plt.show()\n",
        "    if file_name is not None:\n",
        "        plt.savefig(file_name)\n",
        "\n",
        "def plot_roc_curve(actual_labels, prediction, title='', model_name='', file_name=None):\n",
        "    fpr, tpr, _ = roc_curve(actual_labels, prediction)\n",
        "    plt.figure(figsize=(8,6))\n",
        "    plt.plot(fpr, tpr, label='Model: {model_name}'.format(model_name=model_name), color='blue')\n",
        "    if title == '':\n",
        "        plt.title(title)\n",
        "    else:\n",
        "        plt.title('ROC Learning Curves')\n",
        "    plt.xlabel('false positive rate')\n",
        "    plt.ylabel('true positive rate')\n",
        "    plt.show()\n",
        "\n",
        "    if file_name is not None:\n",
        "        plt.savefig(file_name)\n",
        "\n",
        "def plot_metrics(history):\n",
        "    metrics = ['loss', 'PRC', 'Precision', 'Recall']\n",
        "    plt.figure(figsize=(10,10),linewidth = 7, edgecolor=\"whitesmoke\")\n",
        "\n",
        "    for n, metric in enumerate(metrics):\n",
        "        name = metric.replace(\"_\",\" \").capitalize()\n",
        "        plt.subplot(2,2,n+1)\n",
        "        plt.plot(history.epoch, history.history[metric], color=colors[0], label='Train')\n",
        "        plt.plot(history.epoch, history.history['val_'+metric],\n",
        "             color=colors[0], linestyle=\"--\", label='Val')\n",
        "        plt.xlabel('Epoch')\n",
        "        plt.ylabel(name)\n",
        "    if metric == 'loss':\n",
        "        plt.ylim([0, plt.ylim()[1]])\n",
        "    elif metric == 'auc':\n",
        "        plt.ylim([0.8,1])\n",
        "    else:\n",
        "        plt.ylim([0,1])\n",
        "\n",
        "    plt.legend()\n",
        "\n",
        "def plot_auc_curve(actual_labels, prediction, title='', model_name='', file_name = None):\n",
        "    fpr, tpr, _ = roc_curve(actual_labels,  prediction)\n",
        "    auc = roc_auc_score(actual_labels, prediction).round(4)\n",
        "    plt.figure(figsize=(8,6))\n",
        "    if title == '':\n",
        "        plt.title(title)\n",
        "    else:\n",
        "        plt.title('AUC Learning Curves')\n",
        "    plt.plot(fpr,tpr, label='Model: '+ model_name + \", AUC=\" + str(auc), color='red')\n",
        "    plt.legend(loc=4)\n",
        "    plt.show()\n",
        "    if file_name is not None:\n",
        "        plt.savefig(file_name)\n",
        "\n",
        "def plot_history(history):\n",
        "\n",
        "    plt.figure(figsize=(10,5),linewidth = 7, edgecolor=\"whitesmoke\")\n",
        "    n = len(history.history['Accuracy'])\n",
        "\n",
        "    plt.plot(np.arange(0,n)+1,history.history['Accuracy'], color='orange',marker=\".\")\n",
        "    plt.plot(np.arange(0,n)+1,history.history['loss'],'b',marker=\".\")\n",
        "\n",
        "    # offset both validation curves\n",
        "    plt.plot(np.arange(0,n)+ 1,history.history['val_Accuracy'],'r')\n",
        "    plt.plot(np.arange(0,n)+ 1,history.history['val_loss'],'g')\n",
        "\n",
        "    plt.legend(['Train Acc','Train Loss','Val Acc','Val Loss'])\n",
        "    plt.grid(True)\n",
        "\n",
        "    # set vertical limit to 1\n",
        "    plt.gca().set_ylim(0,1)\n",
        "\n",
        "    plt.xlabel(\"Number of Epochs\")\n",
        "    plt.ylabel(\"Value\")\n",
        "    plt.suptitle(\"Learning Curve\", size=16, y=0.927)\n",
        "    plt.show()\n"
      ]
    },
    {
      "cell_type": "markdown",
      "metadata": {
        "id": "tCOqfWlyqoI3"
      },
      "source": [
        "## Pre-Processor"
      ]
    },
    {
      "cell_type": "code",
      "execution_count": 7,
      "metadata": {
        "id": "Rh4rp7_Z_i0q"
      },
      "outputs": [],
      "source": [
        "class DatasetProcessor():\n",
        "\n",
        "  def get_file_name(self, path, ratio=0.8):\n",
        "    allfiles = []\n",
        "    allFolders = sorted(glob.glob(path + \"*\"))\n",
        "    for files in allFolders:\n",
        "      allfiles.append(sorted(glob.glob(files+\"/*.txt\")))\n",
        "    if 'desktop.ini' in allfiles:\n",
        "          allfiles.remove('desktop.ini')\n",
        "\n",
        "    dataset = np.hstack(allfiles)\n",
        "    start = dataset[0].rfind('/') + 1\n",
        "    end = dataset[0][start:].find('_') + start\n",
        "    dataset = [list(g) for k, g in groupby(dataset, key=lambda x: x[start:end])]\n",
        "    train = []\n",
        "    test = []\n",
        "    for data in dataset:\n",
        "      if len(data) == 1:\n",
        "        if random.randint(1,100)>=81:\n",
        "          test.extend(data)\n",
        "        else:\n",
        "          train.extend(data)\n",
        "\n",
        "      else:\n",
        "        random.shuffle(data)\n",
        "        train.extend(data[:int(len(data)*ratio)])\n",
        "        test.extend(data[int(len(data)*ratio):])\n",
        "\n",
        "    return train, test\n",
        "\n",
        "  def __read_data(self, data_path):\n",
        "    data = pd.read_csv(data_path, header=None)\n",
        "    data.columns = ['ADXL345_x', 'ADXL345_y', 'ADXL345_z', 'ITG3200_x', 'ITG3200_y', 'ITG3200_z', 'MMA8451Q_x',\n",
        "                    'MMA8451Q_y', 'MMA8451Q_z']\n",
        "    data['MMA8451Q_z'] = data['MMA8451Q_z'].map(lambda x: str(x)[:-1])\n",
        "    for name in data.columns :\n",
        "      data[name] = data[name].astype(float)\n",
        "    return data\n",
        "\n",
        "  def __add_label(self, data_path, merge_feature=False):\n",
        "\n",
        "    dataset = self.__read_data(data_path)\n",
        "\n",
        "    if not merge_feature:\n",
        "      dataset['label'] = self.__get_label(data_path)\n",
        "      return dataset.to_numpy()\n",
        "\n",
        "    else:\n",
        "      new_dataset = pd.DataFrame()\n",
        "      new_dataset['acc_1'] = dataset.apply(\n",
        "          lambda row: sqrt((row.ADXL345_x ** 2 + row.ADXL345_y ** 2 + row.ADXL345_z ** 2)), axis=1)\n",
        "      new_dataset['acc_2'] = dataset.apply(\n",
        "          lambda row: sqrt((row.MMA8451Q_x ** 2 + row.MMA8451Q_y ** 2 + row.MMA8451Q_z ** 2)), axis=1)\n",
        "      new_dataset['geo'] = dataset.apply(\n",
        "          lambda row: sqrt((row.ITG3200_x ** 2 + row.ITG3200_y ** 2 + row.ITG3200_z ** 2)), axis=1)\n",
        "      new_dataset['label'] = self.__get_label(data_path)\n",
        "\n",
        "      return np.round(new_dataset.to_numpy(), 2)\n",
        "\n",
        "  def __get_label(self, data_path):\n",
        "    label = data_path[54]\n",
        "    if label =='D':\n",
        "      return int(0)\n",
        "    elif label =='F':\n",
        "      label_path = data_path.replace('dataset', 'enhanced')\n",
        "      labels = pd.read_csv(label_path, header=None)\n",
        "      return labels\n",
        "\n",
        "  def datasets_to_nparray(self, datasets_address_array, outputsize=20000000, column_dimension=10):\n",
        "    result = np.zeros((outputsize, column_dimension), 'int16')\n",
        "    first_index = 0\n",
        "    for address in tqdm(datasets_address_array, ncols=50):\n",
        "      feature = self.__add_label(address)\n",
        "      result[first_index : (first_index+len(feature))] = feature\n",
        "      first_index += len(feature)\n",
        "\n",
        "    return result[result.sum(axis=1) != 0]\n",
        "\n",
        "  def windowing2d(self, dataset, window_size=200):\n",
        "    window = window_size * (dataset.shape[1]-1)\n",
        "    cut = dataset.shape[0] % window_size\n",
        "    feature = dataset[:-cut,0:-1]\n",
        "    label = dataset[:-cut,-1]\n",
        "    feature = feature.ravel().reshape(feature.size//window,window)\n",
        "    label = label.reshape(label.size// window_size, window_size)\n",
        "    label = label.sum(axis=1)\n",
        "    label[label > 0] = 1\n",
        "    feature = np.roll((np.roll(feature, -1, axis=0) - feature), 1, axis=0)\n",
        "    feature[0] = 0\n",
        "    return feature, label.ravel()\n",
        "\n",
        "  def windowing3d(self, dataset, window_size=200):\n",
        "    n_windows = len(dataset) // window_size\n",
        "    cut = dataset.shape[0] % window_size\n",
        "    feature = dataset[:-cut,0:-1]\n",
        "    label = dataset[:-cut,-1]\n",
        "    feature = feature.reshape(n_windows, window_size, dataset.shape[1]-1)\n",
        "    label = label.reshape(n_windows, window_size, 1)\n",
        "    label = label.sum(axis=1)\n",
        "    label[label > 0] = 1\n",
        "    feature = np.roll((np.roll(feature, -1, axis=0) - feature), 1, axis=0)\n",
        "    feature[0] = 0\n",
        "    return feature, label.ravel()\n",
        "\n",
        "  def normalizer(self, scaler, X_train, X_test):\n",
        "    X_train = scaler.fit_transform(X_train.reshape(-1, X_train.shape[-1])).reshape(X_train.shape)\n",
        "    X_test = scaler.transform(X_test.reshape(-1, X_test.shape[-1])).reshape(X_test.shape)\n",
        "    return X_train, X_test\n",
        "\n",
        "  def dataset_to_tensor(self, window_size, dataset, saving_path):\n",
        "    features, labels = self.windowing(self.__datasets_to_nparray(dataset), window_size)\n",
        "    return features, labels\n",
        "\n",
        "  def downsampling(self, dataset, down_sampleing_factor):\n",
        "      positive = dataset[dataset['targets']==1]\n",
        "      negative = dataset[dataset['targets']==0].sample(n=int(len(positive)* down_sampleing_factor))\n",
        "      return pd.concat([positive, negative], ignore_index=True).sample(frac=1).reset_index(drop=True)\n",
        "\n",
        "  def generate_class_weight(self, label):\n",
        "    class_weights = compute_class_weight(class_weight = \"balanced\",\n",
        "                                         classes = np.unique(label),\n",
        "                                         y = label)\n",
        "    return dict(zip(np.unique(label), class_weights))\n"
      ]
    },
    {
      "cell_type": "code",
      "execution_count": null,
      "metadata": {
        "colab": {
          "background_save": true,
          "base_uri": "https://localhost:8080/",
          "height": 402
        },
        "id": "_1pcZKGXL-OM",
        "outputId": "66391140-a941-4315-f7ac-c4ad0d6e8a64"
      },
      "outputs": [
        {
          "name": "stdout",
          "output_type": "stream",
          "text": [
            "1.Split Adresses...\n",
            "2.Extract Features and Labels...\n",
            "------------------------Train Dataset\n"
          ]
        },
        {
          "name": "stderr",
          "output_type": "stream",
          "text": [
            "  9%|▉         | 327/3508 [00:39<24:38,  2.15it/s]"
          ]
        }
      ],
      "source": [
        "%%time\n",
        "\n",
        "dp = DatasetProcessor()\n",
        "print('1.Split Adresses...')\n",
        "train, test = dp.get_file_name('/content/gdrive/MyDrive/Datasets/SisFall_dataset/')\n",
        "\n",
        "print('2.Extract Features and Labels...')\n",
        "print('------------------------Train Dataset')\n",
        "train_dataset = dp.datasets_to_nparray(train)\n",
        "print('------------------------Test Dataset')\n",
        "test_dataset = dp.datasets_to_nparray(test)\n",
        "\n",
        "print('3.Windowing...')\n",
        "print('------------------------Train Dataset')\n",
        "X_train, y_train = dp.windowing3d(train_dataset)\n",
        "print('------------------------Test Dataset')\n",
        "X_test, y_test = dp.windowing3d(test_dataset)\n",
        "\n",
        "print('4.Normalizing...')\n",
        "scaler = StandardScaler()\n",
        "X_train, X_test = dp.normalizer(scaler, X_train, X_test)\n",
        "\n",
        "print('5.Calculate Class Weight...')\n",
        "class_weight = dp.generate_class_weight(y_train)\n"
      ]
    },
    {
      "cell_type": "markdown",
      "metadata": {
        "id": "2FcPKDH_MSoi"
      },
      "source": [
        "### Save/Load train & test dataset"
      ]
    },
    {
      "cell_type": "code",
      "execution_count": 8,
      "metadata": {
        "id": "5X6ABVhhLfNk"
      },
      "outputs": [],
      "source": [
        "save = False\n",
        "if save:\n",
        "  with open('/content/gdrive/MyDrive/Fall Detection System/Dataset/X_train','wb') as f:\n",
        "    pickle.dump(X_train, f)\n",
        "\n",
        "  with open('/content/gdrive/MyDrive/Fall Detection System/Dataset/y_train.pkl','wb') as f:\n",
        "    pickle.dump(y_train, f)\n",
        "\n",
        "  with open('/content/gdrive/MyDrive/Fall Detection System/Dataset/X_test.pkl','wb') as f:\n",
        "    pickle.dump(X_test, f)\n",
        "\n",
        "  with open('/content/gdrive/MyDrive/Fall Detection System/Dataset/y_test.pkl','wb') as f:\n",
        "    pickle.dump(y_test, f)\n",
        "\n",
        "else:\n",
        "  with open('/content/gdrive/MyDrive/Fall Detection System/Dataset/X_train.pkl','rb') as f:\n",
        "    X_train = pickle.load(f)\n",
        "\n",
        "  with open('/content/gdrive/MyDrive/Fall Detection System/Dataset/y_train.pkl','rb') as f:\n",
        "    y_train = pickle.load(f)\n",
        "\n",
        "  with open('/content/gdrive/MyDrive/Fall Detection System/Dataset/X_test.pkl','rb') as f:\n",
        "    X_test = pickle.load(f)\n",
        "\n",
        "  with open('/content/gdrive/MyDrive/Fall Detection System/Dataset/y_test.pkl','rb') as f:\n",
        "    y_test = pickle.load(f)\n",
        "    dp = DatasetProcessor()\n",
        "    class_weight = dp.generate_class_weight(y_train)\n"
      ]
    },
    {
      "cell_type": "code",
      "execution_count": 9,
      "metadata": {
        "id": "qp2AhaTKkGxN",
        "colab": {
          "base_uri": "https://localhost:8080/"
        },
        "outputId": "c1c6df53-923c-4577-c731-3c929c003a2a"
      },
      "outputs": [
        {
          "output_type": "stream",
          "name": "stdout",
          "text": [
            "X_train shape: (61036, 200, 9)\n",
            "y_train shape: (61036,)\n",
            "X_test shape: (16375, 200, 9)\n",
            "y_test shape: (16375,)\n"
          ]
        }
      ],
      "source": [
        "print(f'X_train shape: {X_train.shape}')\n",
        "print(f'y_train shape: {y_train.shape}')\n",
        "print(f'X_test shape: {X_test.shape}')\n",
        "print(f'y_test shape: {y_test.shape}')"
      ]
    },
    {
      "cell_type": "markdown",
      "metadata": {
        "id": "wXsG6DAmfm7m"
      },
      "source": [
        "## Train & Evaluate"
      ]
    },
    {
      "cell_type": "code",
      "execution_count": 10,
      "metadata": {
        "id": "lXXuUHUODbJL"
      },
      "outputs": [],
      "source": [
        "class Traditional_Models():\n",
        "\n",
        "  def __init__(self,\n",
        "               models,\n",
        "               model_parameters,\n",
        "               predictions={},\n",
        "               results={}):\n",
        "    self.models = models\n",
        "    self.model_parameters = model_parameters\n",
        "    self.predictions = predictions\n",
        "    self.results = results\n",
        "\n",
        "  def __validation(self, X_train, y_train, validation_size=0.35):\n",
        "    _, X_validation, _, y_validation = train_test_split(X_train, y_train, test_size=validation_size, stratify=y_train)\n",
        "    return X_validation, y_validation\n",
        "\n",
        "  def __flatten(self, feature_3d):\n",
        "    return feature_3d.reshape(feature_3d.shape[0], feature_3d.shape[1]*feature_3d.shape[-1])\n",
        "\n",
        "  def __feature_selector(self, X_train, y_train, X_test, class_weight, d=64):\n",
        "    feature_selector = DecisionTreeClassifier(class_weight=class_weight).fit(X_train, y_train)\n",
        "    important_features = np.argpartition(feature_selector.feature_importances_, -d)[-d:]\n",
        "    return X_train[:,important_features], X_test[:,important_features]\n",
        "\n",
        "  def __parameter_tuning(self, model, parameters, X_validation, y_validation, scoring='f1_macro'):\n",
        "    optimizer = GridSearchCV(estimator=model, param_grid=parameters, scoring=scoring)\n",
        "    optimizer.fit(X_validation, y_validation)\n",
        "    return model.set_params(**optimizer.best_params_)\n",
        "\n",
        "  def __train_model(self, model, X_train, y_train):\n",
        "    return model.fit(X_train, y_train)\n",
        "\n",
        "  def __evaluate(self, model, X_test, y_test, title=''):\n",
        "    prediction = model.predict(X_test)\n",
        "    self.results[title] = classification_report(y_test, prediction, output_dict=True)\n",
        "    plot_confusion_matrix(confusion_matrix(y_test, prediction), title=title)\n",
        "    return prediction\n",
        "\n",
        "  def pipeline(self,\n",
        "               X_train,\n",
        "               y_train,\n",
        "               X_test,\n",
        "               y_test,\n",
        "               class_weight,\n",
        "               validation_size=35,\n",
        "               number_features=64,\n",
        "               tuning_metric='f1_macro'):\n",
        "    print('1) Reducing dimension of feature matrices...')\n",
        "    X_train_flattened, X_test_flattened = self.__flatten(X_train), self.__flatten(X_test)\n",
        "    print('2) Feature selection...')\n",
        "    X_train_flattened, X_test_flattened = self.__feature_selector(X_train_flattened, y_train, X_test_flattened, class_weight=class_weight, d=number_features)\n",
        "    print('3) Generating validation matrices for hyper-parameter tuning...')\n",
        "    X_validation, y_validation = self.__validation(X_train_flattened, y_train, validation_size=validation_size)\n",
        "    print('4) Train & Evaluation...')\n",
        "    for model_name, model in self.models.items():\n",
        "      print()\n",
        "      print(f'----------------- Working on {model_name} -----------------')\n",
        "      print()\n",
        "      if model_name in self.model_parameters:\n",
        "        model = self.__parameter_tuning(model, self.model_parameters[model_name], X_validation, y_validation, scoring=tuning_metric)\n",
        "      mdoel =  self.__train_model(model, X_train_flattened, y_train)\n",
        "      self.predictions[model_name] = self.__evaluate(model, X_test_flattened, y_test, title=model_name)\n",
        "    return self.predictions, self.results"
      ]
    },
    {
      "cell_type": "code",
      "source": [
        "model_parameters = {'KNN':{'n_neighbors':[2,4,8,16], 'metric':['euclidean','cosine']},\n",
        "                    'Random Forest':{'criterion':['gini', 'entropy', 'log_loss']},\n",
        "                    'Decision Tree':{'criterion':['gini', 'entropy', 'log_loss']},\n",
        "                    }\n",
        "\n",
        "\n",
        "tradional_models = Traditional_Models(models = {'Logestic Regression':LogisticRegression(class_weight=class_weight),\n",
        "                                                'Random Forest':RandomForestClassifier(class_weight=class_weight),\n",
        "                                                'KNN':KNeighborsClassifier(),\n",
        "                                                'Decision Tree': DecisionTreeClassifier(class_weight=class_weight)},\n",
        "                                      model_parameters = model_parameters)"
      ],
      "metadata": {
        "id": "IGgWBPtvYrrf"
      },
      "execution_count": 56,
      "outputs": []
    },
    {
      "cell_type": "code",
      "source": [
        "predictions, results = tradional_models.pipeline(X_train,\n",
        "                                                 y_train,\n",
        "                                                 X_test,\n",
        "                                                 y_test,\n",
        "                                                 class_weight)"
      ],
      "metadata": {
        "colab": {
          "base_uri": "https://localhost:8080/",
          "height": 1000
        },
        "id": "TRjn12NRwgUb",
        "outputId": "ece71c35-31b9-4440-c355-7a86718bc10e"
      },
      "execution_count": 57,
      "outputs": [
        {
          "output_type": "stream",
          "name": "stdout",
          "text": [
            "1) Reducing dimension of feature matrices...\n",
            "2) Feature selection...\n",
            "3) Generating validation matrices for hyper-parameter tuning...\n",
            "4) Train & Evaluation...\n",
            "\n",
            "    ----------------- Working on Logestic Regression -----------------\n",
            "\n"
          ]
        },
        {
          "output_type": "display_data",
          "data": {
            "text/plain": [
              "<Figure size 600x300 with 2 Axes>"
            ],
            "image/png": "[encoded data removed]"
          },
          "metadata": {}
        },
        {
          "output_type": "stream",
          "name": "stdout",
          "text": [
            "\n",
            "    ----------------- Working on Random Forest -----------------\n",
            "\n"
          ]
        },
        {
          "output_type": "stream",
          "name": "stderr",
          "text": [
            "/usr/local/lib/python3.10/dist-packages/sklearn/model_selection/_split.py:700: UserWarning: The least populated class in y has only 2 members, which is less than n_splits=5.\n",
            "  warnings.warn(\n"
          ]
        },
        {
          "output_type": "display_data",
          "data": {
            "text/plain": [
              "<Figure size 600x300 with 2 Axes>"
            ],
            "image/png": "[encoded data removed]"
          },
          "metadata": {}
        },
        {
          "output_type": "stream",
          "name": "stdout",
          "text": [
            "\n",
            "    ----------------- Working on KNN -----------------\n",
            "\n"
          ]
        },
        {
          "output_type": "stream",
          "name": "stderr",
          "text": [
            "/usr/local/lib/python3.10/dist-packages/sklearn/model_selection/_split.py:700: UserWarning: The least populated class in y has only 2 members, which is less than n_splits=5.\n",
            "  warnings.warn(\n"
          ]
        },
        {
          "output_type": "display_data",
          "data": {
            "text/plain": [
              "<Figure size 600x300 with 2 Axes>"
            ],
            "image/png": "[encoded data removed]"
          },
          "metadata": {}
        }
      ]
    },
    {
      "cell_type": "code",
      "source": [
        "METRICS = [\n",
        "      keras.metrics.TruePositives(name='TP'),\n",
        "      keras.metrics.FalsePositives(name='FP'),\n",
        "      keras.metrics.TrueNegatives(name='TN'),\n",
        "      keras.metrics.FalseNegatives(name='FN'),\n",
        "      keras.metrics.BinaryAccuracy(name='Accuracy'),\n",
        "      keras.metrics.Precision(name='Precision'),\n",
        "      keras.metrics.Recall(name='Recall'),\n",
        "      keras.metrics.AUC(name='AUC'),\n",
        "      keras.metrics.AUC(name='PRC', curve='PR')\n",
        "]\n",
        "\n",
        "early_stopping = keras.callbacks.EarlyStopping(\n",
        "    monitor='val_PRC',\n",
        "    verbose=1,\n",
        "    patience=10,\n",
        "    mode='max',\n",
        "    restore_best_weights=True)\n",
        "\n",
        "# checkpoint_path = \"/content/gdrive/MyDrive/Model Checkpoints/TrendDetection.ckpt\"\n",
        "# # save_freq = 'epoch'\n",
        "\n",
        "# cp_callback = tensorflow.keras.callbacks.ModelCheckpoint(\n",
        "#    checkpoint_path, verbose=1, save_weights_only=True,\n",
        "#    # Save weights, every epoch.\n",
        "#    save_freq = 10*3030)"
      ],
      "metadata": {
        "id": "CYhDyLekeZVa"
      },
      "execution_count": 11,
      "outputs": []
    },
    {
      "cell_type": "code",
      "source": [
        "class Train_Evaluate_Deep():\n",
        "\n",
        "  def __init__(self,\n",
        "               predictions={},\n",
        "               results={}):\n",
        "\n",
        "      self.predictions = predictions\n",
        "      self.results = results\n",
        "\n",
        "  def build_cnn(self, input_size, units=128, drop_rate=0.25, filter=32, kernel_size=(1*9), output_size=1):\n",
        "    input = keras.layers.Input((input_size))\n",
        "    x = keras.layers.Conv1D(filters=filter//2, kernel_size=kernel_size, padding='same', activation='relu', name=\"conv1\")(input)\n",
        "    x = keras.layers.Conv1D(filters=filter, kernel_size=kernel_size, padding='same', activation='relu', name=\"conv2\")(x)\n",
        "    x = keras.layers.Conv1D(filters=filter*2, kernel_size=kernel_size, padding='same', activation='relu', name=\"conv3\")(x)\n",
        "    x = tf.keras.layers.Flatten()(x)\n",
        "    classifier = keras.layers.Dense(units*4, activation='relu')(x)\n",
        "    classifier = keras.layers.Dropout(drop_rate)(classifier)\n",
        "    classifier = keras.layers.Dense(units, activation='relu')(classifier)\n",
        "    classifier = keras.layers.Dropout(drop_rate)(classifier)\n",
        "    classifier = keras.layers.Dense(units//2, activation='relu')(classifier)\n",
        "    classifier = keras.layers.Dropout(drop_rate)(classifier)\n",
        "    output = keras.layers.Dense(output_size, activation='sigmoid')(classifier)\n",
        "    model = keras.Model(inputs=input, outputs=output)\n",
        "    return model\n",
        "\n",
        "  def build_lstm(self, input_size, units=128, drop_rate=0.25, lstm_units=16, output_size=1):\n",
        "    input = keras.layers.Input((input_size))\n",
        "    x = keras.layers.LSTM(units=lstm_units//2, input_shape=input_size, return_sequences=True, name=\"lstm1\")(input)\n",
        "    x = keras.layers.LSTM(units=lstm_units, input_shape=input_size, return_sequences=True, name=\"lstm2\")(x)\n",
        "    x = keras.layers.LSTM(units=lstm_units*2, input_shape=input_size, return_sequences=True, name=\"lstm3\")(x)\n",
        "    x = tf.keras.layers.Flatten()(x)\n",
        "    classifier = keras.layers.Dense(units*4, activation='relu')(x)\n",
        "    classifier = keras.layers.Dropout(drop_rate)(classifier)\n",
        "    classifier = keras.layers.Dense(units, activation='relu')(classifier)\n",
        "    classifier = keras.layers.Dropout(drop_rate)(classifier)\n",
        "    classifier = keras.layers.Dense(units//2, activation='relu')(classifier)\n",
        "    classifier = keras.layers.Dropout(drop_rate)(classifier)\n",
        "    output = keras.layers.Dense(output_size, activation='sigmoid')(classifier)\n",
        "    model = keras.Model(inputs=input, outputs=output)\n",
        "    return model\n",
        "\n",
        "  def build_mlp(self, input_size, hidden_layer_size=128, output_size=1, drop_rate=0.25):\n",
        "    input = keras.layers.Input((input_size))\n",
        "    x = keras.layers.Dense(hidden_layer_size//4, activation='relu')(input)\n",
        "    x = keras.layers.Dense(hidden_layer_size//2, activation='relu')(x)\n",
        "    x = keras.layers.Dense(hidden_layer_size, activation='relu')(x)\n",
        "    x = tf.keras.layers.Flatten()(x)\n",
        "    classifier = keras.layers.Dense(hidden_layer_size*4, activation='relu')(x)\n",
        "    classifier = keras.layers.Dropout(drop_rate)(classifier)\n",
        "    classifier = keras.layers.Dense(hidden_layer_size, activation='relu')(classifier)\n",
        "    classifier = keras.layers.Dropout(drop_rate)(classifier)\n",
        "    classifier = keras.layers.Dense(hidden_layer_size//2, activation='relu')(classifier)\n",
        "    classifier = keras.layers.Dropout(drop_rate)(classifier)\n",
        "    output = keras.layers.Dense(output_size, activation='sigmoid')(classifier)\n",
        "    model = keras.Model(inputs=input, outputs=output)\n",
        "    return model\n",
        "\n",
        "\n",
        "  def train_deep_model(self, model, X_train, y_train, class_weight, epochs=100, batch_size=128, learning_rate=0.001, validation_split=0.2):\n",
        "\n",
        "    print('----------------------------------')\n",
        "    print(model.summary())\n",
        "    print('----------------------------------')\n",
        "\n",
        "    model.compile(optimizer = tf.optimizers.SGD(learning_rate=learning_rate),\n",
        "                  loss = keras.losses.BinaryCrossentropy(),\n",
        "                  metrics=METRICS)\n",
        "\n",
        "    history = model.fit(X_train,\n",
        "                        y_train,\n",
        "                        batch_size = batch_size,\n",
        "                        epochs = epochs,\n",
        "                        shuffle = True,\n",
        "                        class_weight = class_weight,\n",
        "                        validation_split=validation_split,\n",
        "                        callbacks = [early_stopping],\n",
        "                        verbose = 1)\n",
        "    return history\n",
        "\n",
        "  def evaluate(self, model, X_test, y_test, batch_size=128, threshold=0.5, title='', model_name='', plot=True):\n",
        "    prediction = model.predict(X_test, batch_size=batch_size)\n",
        "    self.predictions[model_name] = prediction\n",
        "    prediction = np.where(prediction >= threshold, 1, 0)\n",
        "    if plot:\n",
        "      print()\n",
        "      print('1) Plot ROC Curve...')\n",
        "      print()\n",
        "      plot_roc_curve(y_test, prediction, title='ROC Curve of {model_name} Model'.format(model_name=model_name), model_name=model_name, file_name=None)\n",
        "      print()\n",
        "      print('2) Plot AUC Curve...')\n",
        "      print()\n",
        "      plot_auc_curve(y_test, prediction, title='AUC Curve of {model_name} Model'.format(model_name=model_name), model_name=model_name, file_name = None)\n",
        "      print()\n",
        "      print('3) Plot Percision_Recall Curve......')\n",
        "      print()\n",
        "      plot_precision_recall_curve(y_test, prediction, title='Percision_Recall Curve of {model_name} Model'.format(model_name=model_name), model_name=model_name, file_name=None)\n",
        "    report = classification_report(y_test, prediction, output_dict=True)\n",
        "    self.results[model_name] = report\n",
        "    print()\n",
        "    plot_confusion_matrix(confusion_matrix(y_test, prediction), title=title)\n",
        "    print()\n",
        "    return prediction\n",
        "\n",
        "  def plot_learning_curves(self, history):\n",
        "    print('1) Plot learning process based on different metrics...')\n",
        "    print()\n",
        "    plot_metrics(history)\n",
        "    print()\n",
        "    print('2) Plot learning curve...')\n",
        "    print()\n",
        "    return plot_history(history)"
      ],
      "metadata": {
        "id": "IWaY8m0jJzxu"
      },
      "execution_count": 20,
      "outputs": []
    },
    {
      "cell_type": "code",
      "source": [
        "train_evaluate_deep = Train_Evaluate_Deep()"
      ],
      "metadata": {
        "id": "c0eccXuZbDBx"
      },
      "execution_count": 21,
      "outputs": []
    },
    {
      "cell_type": "code",
      "source": [
        "print('1. Build Model...')\n",
        "cnn_model = train_evaluate_deep.build_cnn(input_size=X_train.shape[1:])\n",
        "print('2. Train Model...')\n",
        "cnn_history = train_evaluate_deep.train_deep_model(cnn_model, X_train, y_train, class_weight, epochs=5)\n",
        "print('3. Evaluation...')\n",
        "prediction = train_evaluate_deep.evaluate(cnn_model, X_test, y_test, batch_size=128, threshold=0.5, title='CNN + MLP', model_name='CNN + MLP', plot=False)\n",
        "\n",
        "plot_learning_curves=False\n",
        "if plot_learning_curves:\n",
        "  print('4. Plot learning curves...')\n",
        "  _ = train_evaluate_deep.plot_learning_curves(cnn_history)"
      ],
      "metadata": {
        "id": "rgyXc1aC-tRI",
        "colab": {
          "base_uri": "https://localhost:8080/",
          "height": 1000
        },
        "outputId": "a6b301fa-5a4b-459c-dc37-b746a07b7178"
      },
      "execution_count": 22,
      "outputs": [
        {
          "output_type": "stream",
          "name": "stdout",
          "text": [
            "1. Build Model...\n",
            "2. Train Model...\n",
            "----------------------------------\n",
            "Model: \"model_2\"\n",
            "_________________________________________________________________\n",
            " Layer (type)                Output Shape              Param #   \n",
            "=================================================================\n",
            " input_3 (InputLayer)        [(None, 200, 9)]          0         \n",
            "                                                                 \n",
            " conv1 (Conv1D)              (None, 200, 16)           1312      \n",
            "                                                                 \n",
            " conv2 (Conv1D)              (None, 200, 32)           4640      \n",
            "                                                                 \n",
            " conv3 (Conv1D)              (None, 200, 64)           18496     \n",
            "                                                                 \n",
            " flatten_2 (Flatten)         (None, 12800)             0         \n",
            "                                                                 \n",
            " dense_8 (Dense)             (None, 512)               6554112   \n",
            "                                                                 \n",
            " dropout_6 (Dropout)         (None, 512)               0         \n",
            "                                                                 \n",
            " dense_9 (Dense)             (None, 128)               65664     \n",
            "                                                                 \n",
            " dropout_7 (Dropout)         (None, 128)               0         \n",
            "                                                                 \n",
            " dense_10 (Dense)            (None, 64)                8256      \n",
            "                                                                 \n",
            " dropout_8 (Dropout)         (None, 64)                0         \n",
            "                                                                 \n",
            " dense_11 (Dense)            (None, 1)                 65        \n",
            "                                                                 \n",
            "=================================================================\n",
            "Total params: 6652545 (25.38 MB)\n",
            "Trainable params: 6652545 (25.38 MB)\n",
            "Non-trainable params: 0 (0.00 Byte)\n",
            "_________________________________________________________________\n",
            "None\n",
            "----------------------------------\n",
            "Epoch 1/5\n",
            "382/382 [==============================] - 7s 13ms/step - loss: 0.6237 - TP: 2695.0000 - FP: 32868.0000 - TN: 25362.0000 - FN: 111.0000 - Accuracy: 0.4597 - Precision: 0.0758 - Recall: 0.9604 - AUC: 0.8741 - PRC: 0.2610 - val_loss: 0.9707 - val_TP: 126.0000 - val_FP: 8137.0000 - val_TN: 3945.0000 - val_FN: 0.0000e+00 - val_Accuracy: 0.3335 - val_Precision: 0.0152 - val_Recall: 1.0000 - val_AUC: 0.8667 - val_PRC: 0.0461\n",
            "Epoch 2/5\n",
            "382/382 [==============================] - 4s 11ms/step - loss: 0.5459 - TP: 2607.0000 - FP: 20861.0000 - TN: 25287.0000 - FN: 73.0000 - Accuracy: 0.5713 - Precision: 0.1111 - Recall: 0.9728 - AUC: 0.9189 - PRC: 0.4488 - val_loss: 0.8504 - val_TP: 121.0000 - val_FP: 5996.0000 - val_TN: 6086.0000 - val_FN: 5.0000 - val_Accuracy: 0.5084 - val_Precision: 0.0198 - val_Recall: 0.9603 - val_AUC: 0.8929 - val_PRC: 0.1327\n",
            "Epoch 3/5\n",
            "382/382 [==============================] - 5s 13ms/step - loss: 0.4526 - TP: 2487.0000 - FP: 10239.0000 - TN: 35909.0000 - FN: 193.0000 - Accuracy: 0.7864 - Precision: 0.1954 - Recall: 0.9280 - AUC: 0.9343 - PRC: 0.6787 - val_loss: 0.5876 - val_TP: 112.0000 - val_FP: 2043.0000 - val_TN: 10039.0000 - val_FN: 14.0000 - val_Accuracy: 0.8315 - val_Precision: 0.0520 - val_Recall: 0.8889 - val_AUC: 0.9230 - val_PRC: 0.2902\n",
            "Epoch 4/5\n",
            "382/382 [==============================] - 4s 11ms/step - loss: 0.3574 - TP: 2444.0000 - FP: 4898.0000 - TN: 41250.0000 - FN: 236.0000 - Accuracy: 0.8949 - Precision: 0.3329 - Recall: 0.9119 - AUC: 0.9462 - PRC: 0.7668 - val_loss: 0.4235 - val_TP: 110.0000 - val_FP: 1163.0000 - val_TN: 10919.0000 - val_FN: 16.0000 - val_Accuracy: 0.9034 - val_Precision: 0.0864 - val_Recall: 0.8730 - val_AUC: 0.9352 - val_PRC: 0.3164\n",
            "Epoch 5/5\n",
            "382/382 [==============================] - 4s 10ms/step - loss: 0.2905 - TP: 2463.0000 - FP: 3696.0000 - TN: 42452.0000 - FN: 217.0000 - Accuracy: 0.9199 - Precision: 0.3999 - Recall: 0.9190 - AUC: 0.9602 - PRC: 0.7929 - val_loss: 0.3479 - val_TP: 111.0000 - val_FP: 1082.0000 - val_TN: 11000.0000 - val_FN: 15.0000 - val_Accuracy: 0.9101 - val_Precision: 0.0930 - val_Recall: 0.8810 - val_AUC: 0.9441 - val_PRC: 0.3061\n",
            "3. Evaluation...\n",
            "128/128 [==============================] - 1s 4ms/step\n",
            "\n"
          ]
        },
        {
          "output_type": "display_data",
          "data": {
            "text/plain": [
              "<Figure size 700x400 with 2 Axes>"
            ],
            "image/png": "[encoded data removed]"
          },
          "metadata": {}
        },
        {
          "output_type": "stream",
          "name": "stdout",
          "text": [
            "\n"
          ]
        }
      ]
    },
    {
      "cell_type": "code",
      "source": [
        "print('1. Build Model...')\n",
        "LSTM_model = train_evaluate_deep.build_lstm(input_size=X_train.shape[1:])\n",
        "print('2. Train Model...')\n",
        "LSTM_history = train_evaluate_deep.train_deep_model(LSTM_model, X_train, y_train, class_weight, epochs=5)\n",
        "print('3. Evaluation...')\n",
        "prediction = train_evaluate_deep.evaluate(LSTM_model, X_test, y_test, batch_size=128, threshold=0.5, title='LSTM + MLP', model_name='LSTM + MLP', plot=False)\n",
        "\n",
        "plot_learning_curves=False\n",
        "if plot_learning_curves:\n",
        "  print('4. Plot learning curves...')\n",
        "  _ = train_evaluate_deep.plot_learning_curves(LSTM_history)"
      ],
      "metadata": {
        "colab": {
          "base_uri": "https://localhost:8080/",
          "height": 1000
        },
        "id": "7viiuY4BdAK0",
        "outputId": "5acf23a4-1cd1-43b2-b37f-e4c19849c5f9"
      },
      "execution_count": 14,
      "outputs": [
        {
          "output_type": "stream",
          "name": "stdout",
          "text": [
            "1. Build Model...\n",
            "2. Train Model...\n",
            "----------------------------------\n",
            "Model: \"model_1\"\n",
            "_________________________________________________________________\n",
            " Layer (type)                Output Shape              Param #   \n",
            "=================================================================\n",
            " input_2 (InputLayer)        [(None, 200, 9)]          0         \n",
            "                                                                 \n",
            " lstm1 (LSTM)                (None, 200, 8)            576       \n",
            "                                                                 \n",
            " lstm2 (LSTM)                (None, 200, 16)           1600      \n",
            "                                                                 \n",
            " lstm3 (LSTM)                (None, 200, 32)           6272      \n",
            "                                                                 \n",
            " flatten_1 (Flatten)         (None, 6400)              0         \n",
            "                                                                 \n",
            " dense_4 (Dense)             (None, 512)               3277312   \n",
            "                                                                 \n",
            " dropout_3 (Dropout)         (None, 512)               0         \n",
            "                                                                 \n",
            " dense_5 (Dense)             (None, 128)               65664     \n",
            "                                                                 \n",
            " dropout_4 (Dropout)         (None, 128)               0         \n",
            "                                                                 \n",
            " dense_6 (Dense)             (None, 64)                8256      \n",
            "                                                                 \n",
            " dropout_5 (Dropout)         (None, 64)                0         \n",
            "                                                                 \n",
            " dense_7 (Dense)             (None, 1)                 65        \n",
            "                                                                 \n",
            "=================================================================\n",
            "Total params: 3359745 (12.82 MB)\n",
            "Trainable params: 3359745 (12.82 MB)\n",
            "Non-trainable params: 0 (0.00 Byte)\n",
            "_________________________________________________________________\n",
            "None\n",
            "----------------------------------\n",
            "Epoch 1/5\n",
            "382/382 [==============================] - 21s 34ms/step - loss: 0.7643 - TP: 909.0000 - FP: 25504.0000 - TN: 32726.0000 - FN: 1897.0000 - Accuracy: 0.5511 - Precision: 0.0344 - Recall: 0.3239 - AUC: 0.4999 - PRC: 0.0652 - val_loss: 0.7010 - val_TP: 92.0000 - val_FP: 9849.0000 - val_TN: 2233.0000 - val_FN: 34.0000 - val_Accuracy: 0.1904 - val_Precision: 0.0093 - val_Recall: 0.7302 - val_AUC: 0.4757 - val_PRC: 0.0110\n",
            "Epoch 2/5\n",
            "382/382 [==============================] - 13s 34ms/step - loss: 0.7570 - TP: 1801.0000 - FP: 38342.0000 - TN: 7806.0000 - FN: 879.0000 - Accuracy: 0.1968 - Precision: 0.0449 - Recall: 0.6720 - AUC: 0.4716 - PRC: 0.0754 - val_loss: 0.7137 - val_TP: 126.0000 - val_FP: 11831.0000 - val_TN: 251.0000 - val_FN: 0.0000e+00 - val_Accuracy: 0.0309 - val_Precision: 0.0105 - val_Recall: 1.0000 - val_AUC: 0.7332 - val_PRC: 0.0248\n",
            "Epoch 3/5\n",
            "382/382 [==============================] - 11s 28ms/step - loss: 0.7501 - TP: 2378.0000 - FP: 42704.0000 - TN: 3444.0000 - FN: 302.0000 - Accuracy: 0.1192 - Precision: 0.0527 - Recall: 0.8873 - AUC: 0.6175 - PRC: 0.1101 - val_loss: 0.7194 - val_TP: 126.0000 - val_FP: 11970.0000 - val_TN: 112.0000 - val_FN: 0.0000e+00 - val_Accuracy: 0.0195 - val_Precision: 0.0104 - val_Recall: 1.0000 - val_AUC: 0.8226 - val_PRC: 0.0403\n",
            "Epoch 4/5\n",
            "382/382 [==============================] - 12s 31ms/step - loss: 0.7423 - TP: 2561.0000 - FP: 39833.0000 - TN: 6315.0000 - FN: 119.0000 - Accuracy: 0.1818 - Precision: 0.0604 - Recall: 0.9556 - AUC: 0.7321 - PRC: 0.1506 - val_loss: 0.7173 - val_TP: 126.0000 - val_FP: 9815.0000 - val_TN: 2267.0000 - val_FN: 0.0000e+00 - val_Accuracy: 0.1960 - val_Precision: 0.0127 - val_Recall: 1.0000 - val_AUC: 0.8631 - val_PRC: 0.0527\n",
            "Epoch 5/5\n",
            "382/382 [==============================] - 10s 27ms/step - loss: 0.7328 - TP: 2572.0000 - FP: 31624.0000 - TN: 14524.0000 - FN: 108.0000 - Accuracy: 0.3501 - Precision: 0.0752 - Recall: 0.9597 - AUC: 0.7981 - PRC: 0.1828 - val_loss: 0.7026 - val_TP: 124.0000 - val_FP: 6700.0000 - val_TN: 5382.0000 - val_FN: 2.0000 - val_Accuracy: 0.4510 - val_Precision: 0.0182 - val_Recall: 0.9841 - val_AUC: 0.8851 - val_PRC: 0.0652\n",
            "3. Evaluation...\n",
            "128/128 [==============================] - 3s 10ms/step\n",
            "\n"
          ]
        },
        {
          "output_type": "display_data",
          "data": {
            "text/plain": [
              "<Figure size 600x300 with 2 Axes>"
            ],
            "image/png": "[encoded data removed]"
          },
          "metadata": {}
        },
        {
          "output_type": "stream",
          "name": "stdout",
          "text": [
            "\n"
          ]
        }
      ]
    },
    {
      "cell_type": "code",
      "source": [
        "print('1. Build Model...')\n",
        "mlp_model = train_evaluate_deep.build_mlp(input_size=X_train.shape[1:], hidden_layer_size=128, output_size=1)\n",
        "print('2. Train Model...')\n",
        "mlp_history = train_evaluate_deep.train_deep_model(mlp_model, X_train, y_train, class_weight, epochs=5)\n",
        "print('3. Evaluation...')\n",
        "prediction = train_evaluate_deep.evaluate(mlp_model, X_test, y_test, batch_size=128, threshold=0.5, title='MLP', model_name='MLP', plot=False)\n",
        "\n",
        "plot_learning_curves=False\n",
        "if plot_learning_curves:\n",
        "  print('4. Plot learning curves...')\n",
        "  _ = train_evaluate_deep.plot_learning_curves(mlp_history)"
      ],
      "metadata": {
        "colab": {
          "base_uri": "https://localhost:8080/",
          "height": 1000
        },
        "id": "kQDbYzy-dZJg",
        "outputId": "2b672b72-847b-4ea1-c1d1-87ba193153d5"
      },
      "execution_count": 15,
      "outputs": [
        {
          "output_type": "stream",
          "name": "stdout",
          "text": [
            "1. Build Model...\n",
            "2. Train Model...\n",
            "----------------------------------\n",
            "Model: \"model_2\"\n",
            "_________________________________________________________________\n",
            " Layer (type)                Output Shape              Param #   \n",
            "=================================================================\n",
            " input_3 (InputLayer)        [(None, 200, 9)]          0         \n",
            "                                                                 \n",
            " dense_8 (Dense)             (None, 200, 32)           320       \n",
            "                                                                 \n",
            " dense_9 (Dense)             (None, 200, 64)           2112      \n",
            "                                                                 \n",
            " dense_10 (Dense)            (None, 200, 128)          8320      \n",
            "                                                                 \n",
            " flatten_2 (Flatten)         (None, 25600)             0         \n",
            "                                                                 \n",
            " dense_11 (Dense)            (None, 512)               13107712  \n",
            "                                                                 \n",
            " dropout_6 (Dropout)         (None, 512)               0         \n",
            "                                                                 \n",
            " dense_12 (Dense)            (None, 128)               65664     \n",
            "                                                                 \n",
            " dropout_7 (Dropout)         (None, 128)               0         \n",
            "                                                                 \n",
            " dense_13 (Dense)            (None, 64)                8256      \n",
            "                                                                 \n",
            " dropout_8 (Dropout)         (None, 64)                0         \n",
            "                                                                 \n",
            " dense_14 (Dense)            (None, 1)                 65        \n",
            "                                                                 \n",
            "=================================================================\n",
            "Total params: 13192449 (50.33 MB)\n",
            "Trainable params: 13192449 (50.33 MB)\n",
            "Non-trainable params: 0 (0.00 Byte)\n",
            "_________________________________________________________________\n",
            "None\n",
            "----------------------------------\n",
            "Epoch 1/5\n",
            "382/382 [==============================] - 9s 18ms/step - loss: 0.5934 - TP: 2768.0000 - FP: 39758.0000 - TN: 18472.0000 - FN: 38.0000 - Accuracy: 0.3480 - Precision: 0.0651 - Recall: 0.9865 - AUC: 0.9006 - PRC: 0.3945 - val_loss: 0.9162 - val_TP: 126.0000 - val_FP: 8151.0000 - val_TN: 3931.0000 - val_FN: 0.0000e+00 - val_Accuracy: 0.3323 - val_Precision: 0.0152 - val_Recall: 1.0000 - val_AUC: 0.8987 - val_PRC: 0.0799\n",
            "Epoch 2/5\n",
            "382/382 [==============================] - 5s 12ms/step - loss: 0.5210 - TP: 2624.0000 - FP: 20420.0000 - TN: 25728.0000 - FN: 56.0000 - Accuracy: 0.5807 - Precision: 0.1139 - Recall: 0.9791 - AUC: 0.9383 - PRC: 0.5935 - val_loss: 0.7958 - val_TP: 123.0000 - val_FP: 5350.0000 - val_TN: 6732.0000 - val_FN: 3.0000 - val_Accuracy: 0.5615 - val_Precision: 0.0225 - val_Recall: 0.9762 - val_AUC: 0.9168 - val_PRC: 0.1692\n",
            "Epoch 3/5\n",
            "382/382 [==============================] - 5s 12ms/step - loss: 0.4620 - TP: 2537.0000 - FP: 11054.0000 - TN: 35094.0000 - FN: 143.0000 - Accuracy: 0.7707 - Precision: 0.1867 - Recall: 0.9466 - AUC: 0.9431 - PRC: 0.6928 - val_loss: 0.6793 - val_TP: 120.0000 - val_FP: 2892.0000 - val_TN: 9190.0000 - val_FN: 6.0000 - val_Accuracy: 0.7626 - val_Precision: 0.0398 - val_Recall: 0.9524 - val_AUC: 0.9280 - val_PRC: 0.2241\n",
            "Epoch 4/5\n",
            "382/382 [==============================] - 6s 16ms/step - loss: 0.4053 - TP: 2475.0000 - FP: 6385.0000 - TN: 39763.0000 - FN: 205.0000 - Accuracy: 0.8650 - Precision: 0.2793 - Recall: 0.9235 - AUC: 0.9458 - PRC: 0.7426 - val_loss: 0.5411 - val_TP: 113.0000 - val_FP: 1455.0000 - val_TN: 10627.0000 - val_FN: 13.0000 - val_Accuracy: 0.8798 - val_Precision: 0.0721 - val_Recall: 0.8968 - val_AUC: 0.9392 - val_PRC: 0.2544\n",
            "Epoch 5/5\n",
            "382/382 [==============================] - 5s 13ms/step - loss: 0.3514 - TP: 2431.0000 - FP: 4211.0000 - TN: 41937.0000 - FN: 249.0000 - Accuracy: 0.9087 - Precision: 0.3660 - Recall: 0.9071 - AUC: 0.9490 - PRC: 0.7732 - val_loss: 0.4666 - val_TP: 114.0000 - val_FP: 1193.0000 - val_TN: 10889.0000 - val_FN: 12.0000 - val_Accuracy: 0.9013 - val_Precision: 0.0872 - val_Recall: 0.9048 - val_AUC: 0.9455 - val_PRC: 0.2857\n",
            "3. Evaluation...\n",
            "128/128 [==============================] - 1s 4ms/step\n",
            "\n"
          ]
        },
        {
          "output_type": "display_data",
          "data": {
            "text/plain": [
              "<Figure size 600x300 with 2 Axes>"
            ],
            "image/png": "[encoded data removed]"
          },
          "metadata": {}
        },
        {
          "output_type": "stream",
          "name": "stdout",
          "text": [
            "\n"
          ]
        }
      ]
    },
    {
      "cell_type": "markdown",
      "metadata": {
        "id": "TT1qAAPVHRDD"
      },
      "source": [
        "Models' Summary"
      ]
    }
  ],
  "metadata": {
    "colab": {
      "provenance": [],
      "gpuType": "T4",
      "authorship_tag": "ABX9TyNx64WcfWKnzzhuBdNAOLf5",
      "include_colab_link": true
    },
    "kernelspec": {
      "display_name": "Python 3",
      "name": "python3"
    },
    "language_info": {
      "name": "python"
    },
    "accelerator": "GPU"
  },
  "nbformat": 4,
  "nbformat_minor": 0
}