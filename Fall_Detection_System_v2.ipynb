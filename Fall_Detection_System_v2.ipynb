{
  "nbformat": 4,
  "nbformat_minor": 0,
  "metadata": {
    "colab": {
      "provenance": [],
      "gpuType": "T4",
      "authorship_tag": "ABX9TyNHWZuIXakCJpKmhmjPMpKm",
      "include_colab_link": true
    },
    "kernelspec": {
      "display_name": "Python 3",
      "name": "python3"
    },
    "language_info": {
      "name": "python"
    }
  },
  "cells": [
    {
      "cell_type": "markdown",
      "metadata": {
        "id": "view-in-github",
        "colab_type": "text"
      },
      "source": [
        "<a href=\"https://colab.research.google.com/github/mojtabaSefidi/Fall-Detection-System/blob/master/Fall_Detection_System_v2.ipynb\" target=\"_parent\"><img src=\"https://colab.research.google.com/assets/colab-badge.svg\" alt=\"Open In Colab\"/></a>"
      ]
    },
    {
      "cell_type": "code",
      "source": [
        "from google.colab import drive\n",
        "drive.mount(\"/content/gdrive\")"
      ],
      "metadata": {
        "colab": {
          "base_uri": "https://localhost:8080/"
        },
        "id": "x4Hyqy-KZ3Eu",
        "outputId": "0a2d7c92-40b4-4ef2-8511-94fdd2887233"
      },
      "execution_count": 1,
      "outputs": [
        {
          "output_type": "stream",
          "name": "stdout",
          "text": [
            "Mounted at /content/gdrive\n"
          ]
        }
      ]
    },
    {
      "cell_type": "markdown",
      "metadata": {
        "id": "XIWFK9t8bVk1"
      },
      "source": [
        "### Imports"
      ]
    },
    {
      "cell_type": "code",
      "source": [
        "!pip install -q tqdm"
      ],
      "metadata": {
        "id": "MwqF72o5A4-2"
      },
      "execution_count": 2,
      "outputs": []
    },
    {
      "cell_type": "code",
      "metadata": {
        "collapsed": true,
        "id": "qhvZxm9n-jmF"
      },
      "source": [
        "from tqdm import tqdm\n",
        "from sklearn import preprocessing\n",
        "import tensorflow as tf\n",
        "from tensorflow import keras\n",
        "from math import sqrt\n",
        "import pandas as pd\n",
        "import numpy as np\n",
        "import glob\n",
        "import os\n",
        "from sklearn.utils import compute_class_weight\n",
        "import matplotlib.pyplot as plt\n",
        "import seaborn as sn\n",
        "sn.set()\n",
        "from sklearn.model_selection import train_test_split\n",
        "from sklearn.metrics import classification_report, confusion_matrix\n",
        "from sklearn.metrics import precision_recall_curve, roc_auc_score, roc_curve\n",
        "from sklearn.preprocessing import StandardScaler\n",
        "import random\n",
        "from itertools import groupby, chain\n",
        "import pickle"
      ],
      "execution_count": 3,
      "outputs": []
    },
    {
      "cell_type": "markdown",
      "source": [
        "### Additional Functions"
      ],
      "metadata": {
        "id": "RPXpiZUY6HBc"
      }
    },
    {
      "cell_type": "code",
      "source": [
        "window_size = 200"
      ],
      "metadata": {
        "id": "xwGG-KeU6GAL"
      },
      "execution_count": 4,
      "outputs": []
    },
    {
      "cell_type": "code",
      "source": [
        "colors = plt.rcParams['axes.prop_cycle'].by_key()['color']\n",
        "\n",
        "def plot_confusion_matrix(confusion_matrix, title='', cmap ='Purples'):\n",
        "    df = pd.DataFrame(confusion_matrix, range(len(confusion_matrix)), range(len(confusion_matrix)))\n",
        "    plt.figure(figsize=(6,3))\n",
        "    if title == '' :\n",
        "        plt.title('Confusion Matrix')\n",
        "    else:\n",
        "        plt.title('Confusion Matrix' + ' ' + title)\n",
        "    sn.set(font_scale=1) # for label size\n",
        "    sn.heatmap(df, annot=True, annot_kws={\"size\": 12},fmt='.0f',cmap=cmap) # font size\n",
        "    plt.ylabel('Actual label')\n",
        "    plt.xlabel('Predicted label')\n",
        "    plt.show()\n",
        "\n",
        "\n",
        "def plot_precision_recall_curve(actual_labels, prediction, title='', file_name=None):\n",
        "    precision, recall, thresholds=precision_recall_curve(actual_labels, prediction)\n",
        "    plt.figure(figsize=(8,6))\n",
        "    fig, ax = plt.subplots()\n",
        "    ax.plot(recall, precision, color='purple')\n",
        "\n",
        "    # add axis labels to plot\n",
        "    if title == '':\n",
        "        plt.title(title)\n",
        "    else:\n",
        "        plt.title('Precision-Recall Curve')\n",
        "    ax.set_ylabel('Precision')\n",
        "    ax.set_xlabel('Recall')\n",
        "\n",
        "    # display plot\n",
        "    plt.show()\n",
        "    if file_name is not None:\n",
        "        plt.savefig(file_name)\n",
        "\n",
        "def plot_roc_curve(actual_labels, prediction, title='', file_name=None):\n",
        "    fpr, tpr, _ = roc_curve(actual_labels, prediction)\n",
        "    plt.figure(figsize=(8,6))\n",
        "    plt.plot(fpr, tpr)\n",
        "    if title == '':\n",
        "        plt.title(title)\n",
        "    else:\n",
        "        plt.title('ROC Learning Curves')\n",
        "    plt.xlabel('false positive rate')\n",
        "    plt.ylabel('true positive rate')\n",
        "    plt.show()\n",
        "\n",
        "    if file_name is not None:\n",
        "        plt.savefig(file_name)\n",
        "\n",
        "\n",
        "def plot_metrics(history):\n",
        "    metrics = ['loss', 'PRC', 'Precision', 'Recall']\n",
        "    plt.figure(figsize=(10,10),linewidth = 7, edgecolor=\"whitesmoke\")\n",
        "\n",
        "    for n, metric in enumerate(metrics):\n",
        "        name = metric.replace(\"_\",\" \").capitalize()\n",
        "        plt.subplot(2,2,n+1)\n",
        "        plt.plot(history.epoch, history.history[metric], color=colors[0], label='Train')\n",
        "        plt.plot(history.epoch, history.history['val_'+metric],\n",
        "             color=colors[0], linestyle=\"--\", label='Val')\n",
        "        plt.xlabel('Epoch')\n",
        "        plt.ylabel(name)\n",
        "    if metric == 'loss':\n",
        "        plt.ylim([0, plt.ylim()[1]])\n",
        "    elif metric == 'auc':\n",
        "        plt.ylim([0.8,1])\n",
        "    else:\n",
        "        plt.ylim([0,1])\n",
        "\n",
        "    plt.legend()\n",
        "\n",
        "def plot_auc_curve(actual_labels, prediction, model_name, title='', file_name = None):\n",
        "    fpr, tpr, _ = roc_curve(actual_labels,  prediction)\n",
        "    auc = roc_auc_score(actual_labels, prediction).round(4)\n",
        "    plt.figure(figsize=(8,6))\n",
        "    if title == '':\n",
        "        plt.title(title)\n",
        "    else:\n",
        "        plt.title('AUC Learning Curves')\n",
        "    plt.plot(fpr,tpr, label='Model: '+ model_name + \", AUC=\" + str(auc), color='red')\n",
        "    plt.legend(loc=4)\n",
        "    plt.show()\n",
        "    if file_name is not None:\n",
        "        plt.savefig(file_name)\n",
        "\n",
        "def plot_history(history):\n",
        "\n",
        "    plt.figure(figsize=(10,5),linewidth = 7, edgecolor=\"whitesmoke\")\n",
        "    n = len(history.history['Accuracy'])\n",
        "\n",
        "    plt.plot(np.arange(0,n)+1,history.history['Accuracy'], color='orange',marker=\".\")\n",
        "    plt.plot(np.arange(0,n)+1,history.history['loss'],'b',marker=\".\")\n",
        "\n",
        "    # offset both validation curves\n",
        "    plt.plot(np.arange(0,n)+ 1,history.history['val_Accuracy'],'r')\n",
        "    plt.plot(np.arange(0,n)+ 1,history.history['val_loss'],'g')\n",
        "\n",
        "    plt.legend(['Train Acc','Train Loss','Val Acc','Val Loss'])\n",
        "    plt.grid(True)\n",
        "\n",
        "    # set vertical limit to 1\n",
        "    plt.gca().set_ylim(0,1)\n",
        "\n",
        "    plt.xlabel(\"Number of Epochs\")\n",
        "    plt.ylabel(\"Value\")\n",
        "    plt.suptitle(\"Learning Curve\", size=16, y=0.927)\n",
        "    plt.show()\n"
      ],
      "metadata": {
        "id": "Mw2f3Oyj7z4b"
      },
      "execution_count": null,
      "outputs": []
    },
    {
      "cell_type": "code",
      "metadata": {
        "id": "UoyddPaZ-jmI"
      },
      "source": [
        "def get_file_name(path, ratio=0.8):\n",
        "  allfiles = []\n",
        "  allFolders = sorted(glob.glob(path + \"*\"))\n",
        "  for files in allFolders:\n",
        "    allfiles.append(sorted(glob.glob(files+\"/*.txt\")))\n",
        "  if 'desktop.ini' in allfiles:\n",
        "        allfiles.remove('desktop.ini')\n",
        "\n",
        "  dataset = np.hstack(allfiles)\n",
        "  start = dataset[0].rfind('/') + 1\n",
        "  end = dataset[0][start:].find('_') + start\n",
        "  dataset = [list(g) for k, g in groupby(dataset, key=lambda x: x[start:end])]\n",
        "  train = []\n",
        "  test = []\n",
        "  for data in dataset:\n",
        "    if len(data) == 1:\n",
        "      if random.randint(1,100)>=81:\n",
        "        test.extend(data)\n",
        "      else:\n",
        "        train.extend(data)\n",
        "\n",
        "    else:\n",
        "      random.shuffle(data)\n",
        "      train.extend(data[:int(len(data)*ratio)])\n",
        "      test.extend(data[int(len(data)*ratio):])\n",
        "\n",
        "  return train, test\n"
      ],
      "execution_count": 13,
      "outputs": []
    },
    {
      "cell_type": "markdown",
      "metadata": {
        "id": "tCOqfWlyqoI3"
      },
      "source": [
        "## Pre-Processor"
      ]
    },
    {
      "cell_type": "code",
      "source": [
        "class DatasetProcessor():\n",
        "\n",
        "  def __read_data(self, data_path):\n",
        "    data = pd.read_csv(data_path, header=None)\n",
        "    data.columns = ['ADXL345_x', 'ADXL345_y', 'ADXL345_z', 'ITG3200_x', 'ITG3200_y', 'ITG3200_z', 'MMA8451Q_x',\n",
        "                    'MMA8451Q_y', 'MMA8451Q_z']\n",
        "    data['MMA8451Q_z'] = data['MMA8451Q_z'].map(lambda x: str(x)[:-1])\n",
        "    for name in data.columns :\n",
        "      data[name] = data[name].astype(float)\n",
        "    return data\n",
        "\n",
        "  def __add_label(self, data_path, merge_feature=False):\n",
        "\n",
        "    dataset = self.__read_data(data_path)\n",
        "\n",
        "    if not merge_feature:\n",
        "      dataset['label'] = self.__get_label(data_path)\n",
        "      return dataset.to_numpy()\n",
        "\n",
        "    else:\n",
        "      new_dataset = pd.DataFrame()\n",
        "      new_dataset['acc_1'] = dataset.apply(\n",
        "          lambda row: sqrt((row.ADXL345_x ** 2 + row.ADXL345_y ** 2 + row.ADXL345_z ** 2)), axis=1)\n",
        "      new_dataset['acc_2'] = dataset.apply(\n",
        "          lambda row: sqrt((row.MMA8451Q_x ** 2 + row.MMA8451Q_y ** 2 + row.MMA8451Q_z ** 2)), axis=1)\n",
        "      new_dataset['geo'] = dataset.apply(\n",
        "          lambda row: sqrt((row.ITG3200_x ** 2 + row.ITG3200_y ** 2 + row.ITG3200_z ** 2)), axis=1)\n",
        "      new_dataset['label'] = self.__get_label(data_path)\n",
        "\n",
        "      return np.round(new_dataset.to_numpy(), 2)\n",
        "\n",
        "  def __get_label(self, data_path):\n",
        "    label = data_path[54]\n",
        "    if label =='D':\n",
        "      return int(0)\n",
        "    elif label =='F':\n",
        "      label_path = data_path.replace('dataset', 'enhanced')\n",
        "      labels = pd.read_csv(label_path, header=None)\n",
        "      return labels\n",
        "\n",
        "  def datasets_to_nparray(self, datasets_address_array, outputsize=20000000, column_dimension=10):\n",
        "    result = np.zeros((outputsize, column_dimension), 'int16')\n",
        "    first_index = 0\n",
        "    for address in tqdm(datasets_address_array, ncols=50):\n",
        "      feature = self.__add_label(address)\n",
        "      result[first_index : (first_index+len(feature))] = feature\n",
        "      first_index += len(feature)\n",
        "\n",
        "    return result[result.sum(axis=1) != 0]\n",
        "\n",
        "  def windowing2d(self, dataset, window_size=200):\n",
        "    window = window_size * (dataset.shape[1]-1)\n",
        "    cut = dataset.shape[0] % window_size\n",
        "    feature = dataset[:-cut,0:-1]\n",
        "    label = dataset[:-cut,-1]\n",
        "    feature = feature.ravel().reshape(feature.size//window,window)\n",
        "    label = label.reshape(label.size// window_size, window_size)\n",
        "    label = label.sum(axis=1)\n",
        "    label[label > 0] = 1\n",
        "    feature = np.roll((np.roll(feature, -1, axis=0) - feature), 1, axis=0)\n",
        "    feature[0] = 0\n",
        "    return feature, label.ravel()\n",
        "\n",
        "  def windowing3d(self, dataset, window_size=200):\n",
        "    n_windows = len(dataset) // window_size\n",
        "    cut = dataset.shape[0] % window_size\n",
        "    feature = dataset[:-cut,0:-1]\n",
        "    label = dataset[:-cut,-1]\n",
        "    feature = feature.reshape(n_windows, window_size, dataset.shape[1]-1)\n",
        "    label = label.reshape(n_windows, window_size, 1)\n",
        "    label = label.sum(axis=1)\n",
        "    label[label > 0] = 1\n",
        "    feature = np.roll((np.roll(feature, -1, axis=0) - feature), 1, axis=0)\n",
        "    feature[0] = 0\n",
        "    return feature, label.ravel()\n",
        "\n",
        "  def normalizer(self, scaler, X_train, X_test):\n",
        "    X_train = scaler.fit_transform(X_train.reshape(-1, X_train.shape[-1])).reshape(X_train.shape)\n",
        "    X_test = scaler.transform(X_test.reshape(-1, X_test.shape[-1])).reshape(X_test.shape)\n",
        "    return X_train, X_test\n",
        "\n",
        "  def dataset_to_tensor(self, window_size, dataset, saving_path):\n",
        "    features, labels = self.windowing(self.__datasets_to_nparray(dataset), window_size)\n",
        "    return features, labels\n",
        "\n",
        "  def downsampling(self, dataset, down_sampleing_factor):\n",
        "      positive = dataset[dataset['targets']==1]\n",
        "      negative = dataset[dataset['targets']==0].sample(n=int(len(positive)* down_sampleing_factor))\n",
        "      return pd.concat([positive, negative], ignore_index=True).sample(frac=1).reset_index(drop=True)\n",
        "\n",
        "  def generate_class_weight(self, label):\n",
        "    class_weights = compute_class_weight(class_weight = \"balanced\",\n",
        "                                         classes = np.unique(y_train),\n",
        "                                         y = y_train)\n",
        "    return dict(zip(np.unique(y_train), class_weights))\n"
      ],
      "metadata": {
        "id": "Rh4rp7_Z_i0q"
      },
      "execution_count": null,
      "outputs": []
    },
    {
      "cell_type": "code",
      "source": [
        "%%time\n",
        "\n",
        "dp = DatasetProcessor()\n",
        "\n",
        "print('1.Split Adresses...')\n",
        "train, test = get_file_name('/content/gdrive/MyDrive/Datasets/SisFall_dataset/')\n",
        "\n",
        "print('2.Extract Features and Labels...')\n",
        "print('------------------------Train Dataset')\n",
        "train_dataset = dp.datasets_to_nparray(train)\n",
        "print('------------------------Test Dataset')\n",
        "test_dataset = dp.datasets_to_nparray(test)\n",
        "\n",
        "print('3.Windowing...')\n",
        "print('------------------------Train Dataset')\n",
        "X_train, y_train = dp.windowing3d(train_dataset)\n",
        "print('------------------------Test Dataset')\n",
        "X_test, y_test = dp.windowing3d(test_dataset)\n",
        "\n",
        "print('4.Normalizing...')\n",
        "scaler = StandardScaler()\n",
        "X_train, X_test = dp.normalizer(scaler, X_train, X_test)\n",
        "\n",
        "print('5.Calculate Class Weight...')\n",
        "class_weight = dp.generate_class_weight(y_train)\n"
      ],
      "metadata": {
        "id": "_1pcZKGXL-OM"
      },
      "execution_count": null,
      "outputs": []
    },
    {
      "cell_type": "markdown",
      "source": [
        "### Save/Load train & test dataset"
      ],
      "metadata": {
        "id": "2FcPKDH_MSoi"
      }
    },
    {
      "cell_type": "code",
      "source": [
        "save = False\n",
        "if save:\n",
        "  with open('/content/gdrive/MyDrive/Inputs/X_train_fall.pkl','wb') as f:\n",
        "    pickle.dump(X_train, f)\n",
        "\n",
        "  with open('/content/gdrive/MyDrive/Inputs/y_train_fall.pkl','wb') as f:\n",
        "    pickle.dump(y_train, f)\n",
        "\n",
        "  with open('/content/gdrive/MyDrive/Inputs/X_test_fall.pkl','wb') as f:\n",
        "    pickle.dump(X_test, f)\n",
        "\n",
        "  with open('/content/gdrive/MyDrive/Inputs/y_test_fall.pkl','wb') as f:\n",
        "    pickle.dump(y_test, f)\n",
        "\n",
        "else:\n",
        "  with open('/content/gdrive/MyDrive/Inputs/X_train_fall.pkl','rb') as f:\n",
        "    X_train = pickle.load(f)\n",
        "\n",
        "  with open('/content/gdrive/MyDrive/Inputs/y_train_fall.pkl','rb') as f:\n",
        "    y_train = pickle.load(f)\n",
        "\n",
        "  with open('/content/gdrive/MyDrive/Inputs/X_test_fall.pkl','rb') as f:\n",
        "    X_test = pickle.load(f)\n",
        "\n",
        "  with open('/content/gdrive/MyDrive/Inputs/y_test_fall.pkl','rb') as f:\n",
        "    y_test = pickle.load(f)\n",
        "    dp = DatasetProcessor()\n",
        "    class_weight = dp.generate_class_weight(y_train)\n"
      ],
      "metadata": {
        "id": "5X6ABVhhLfNk"
      },
      "execution_count": null,
      "outputs": []
    },
    {
      "cell_type": "markdown",
      "metadata": {
        "id": "wXsG6DAmfm7m"
      },
      "source": [
        "## Train & Evaluate"
      ]
    },
    {
      "cell_type": "code",
      "source": [
        "METRICS = [\n",
        "      keras.metrics.TruePositives(name='TP'),\n",
        "      keras.metrics.FalsePositives(name='FP'),\n",
        "      keras.metrics.TrueNegatives(name='TN'),\n",
        "      keras.metrics.FalseNegatives(name='FN'),\n",
        "      keras.metrics.BinaryAccuracy(name='Accuracy'),\n",
        "      keras.metrics.Precision(name='Precision'),\n",
        "      keras.metrics.Recall(name='Recall'),\n",
        "      keras.metrics.AUC(name='AUC'),\n",
        "      keras.metrics.AUC(name='PRC', curve='PR')\n",
        "]\n",
        "\n",
        "early_stopping = keras.callbacks.EarlyStopping(\n",
        "    monitor='Precision',\n",
        "    verbose=1,\n",
        "    patience=10,\n",
        "    mode='max',\n",
        "    restore_best_weights=True)\n",
        "\n",
        "# checkpoint_path = \"/content/gdrive/MyDrive/Model Checkpoints/TrendDetection.ckpt\"\n",
        "# # save_freq = 'epoch'\n",
        "\n",
        "# cp_callback = tensorflow.keras.callbacks.ModelCheckpoint(\n",
        "#    checkpoint_path, verbose=1, save_weights_only=True,\n",
        "#    # Save weights, every epoch.\n",
        "#    save_freq = 10*3030)"
      ],
      "metadata": {
        "id": "_g6IkRVaDk26"
      },
      "execution_count": null,
      "outputs": []
    },
    {
      "cell_type": "code",
      "source": [
        "class Train_Evaluate():\n",
        "\n",
        "  def build_cnn(self, input_size, units=512, drop_rate=0.25, filter=16, kernel_size=(3*3), output_size=1):\n",
        "    input = keras.layers.Input((input_size))\n",
        "    x = keras.layers.Conv1D(filters=filter, kernel_size=kernel_size, padding='same', activation='relu', name=\"conv1\")(input)\n",
        "    x = keras.layers.MaxPooling1D(padding=\"same\")(x)\n",
        "    x = keras.layers.Conv1D(filters=filter*4, kernel_size=kernel_size, padding='same', activation='relu', name=\"conv2\")(x)\n",
        "    x = keras.layers.MaxPooling1D(padding=\"same\")(x)\n",
        "    x = keras.layers.Conv1D(filters=filter*16, kernel_size=kernel_size, padding='same', activation='relu', name=\"conv3\")(x)\n",
        "    x = keras.layers.GlobalAveragePooling1D()(x)\n",
        "    classifier = keras.layers.Dense(units, activation='relu')(x)\n",
        "    classifier = keras.layers.Dropout(drop_rate)(classifier)\n",
        "    output = keras.layers.Dense(output_size, activation='sigmoid')(classifier)\n",
        "    model = keras.Model(inputs=input, outputs=output)\n",
        "    return model\n",
        "\n",
        "  def build_lstm(self, input_size, units=128, drop_rate=0.25, lstm_units=16, output_size=1):\n",
        "    input = keras.layers.Input((input_size))\n",
        "    x = keras.layers.LSTM(units=lstm_units, input_shape=input_size, return_sequences=True, name=\"lstm1\")(input)\n",
        "    x = keras.layers.LSTM(units=lstm_units*4, input_shape=input_size, return_sequences=True, name=\"lstm2\")(x)\n",
        "    x = keras.layers.GlobalAveragePooling1D()(x)\n",
        "    classifier = keras.layers.Dense(units, activation='relu')(x)\n",
        "    classifier = keras.layers.Dropout(drop_rate)(classifier)\n",
        "    output = keras.layers.Dense(output_size, activation='sigmoid')(classifier)\n",
        "    model = keras.Model(inputs=input, outputs=output)\n",
        "    return model\n",
        "\n",
        "  def build_mlp(self, input_size, hidden_layer_size, output_size):\n",
        "\n",
        "    input = keras.layers.Input((input_size))\n",
        "    x = keras.layers.Dense(hidden_layer_size, activation='relu')(input)\n",
        "    x = keras.layers.Dense(hidden_layer_size, activation='relu')(x)\n",
        "    x = keras.layers.Dense(hidden_layer_size, activation='relu')(x)\n",
        "    output = keras.layers.Dense(output_size, activation='relu')(x)\n",
        "    model = keras.Model(inputs=input, outputs=output)\n",
        "    return model\n",
        "\n",
        "\n",
        "  def train_model(self, model, X_train, y_train, class_weight, epochs=100, batch_size=256, learning_rate=0.01, validation_split=0.2):\n",
        "\n",
        "    print('----------------------------------')\n",
        "    print(model.summary())\n",
        "    print('----------------------------------')\n",
        "\n",
        "    model.compile(optimizer = tf.optimizers.Adam(learning_rate=learning_rate),\n",
        "                  loss = tf.keras.losses.BinaryCrossentropy(),\n",
        "                  metrics=METRICS)\n",
        "\n",
        "    history = model.fit(X_train,\n",
        "                        y_train,\n",
        "                        batch_size = batch_size,\n",
        "                        epochs = epochs,\n",
        "                        shuffle = True,\n",
        "                        class_weight = class_weight,\n",
        "                        validation_split=validation_split,\n",
        "                        callbacks = [early_stopping],\n",
        "                        verbose = 1)\n",
        "    return history\n",
        "\n",
        "  def evaluate(self, model, X_test, Y_train, batch_size=256, threshold=0.5, title='', model_name='', plot=True):\n",
        "    prediction = model.predict(X_test, batch_size=batch_size)\n",
        "    prediction = np.where(prediction >= threshold, 1, 0)\n",
        "    print(classification_report(y_test, prediction))\n",
        "    plot_confusion_matrix(confusion_matrix(y_test, prediction), title=title)\n",
        "    if plot:\n",
        "      print('1) Plot ROC Curve...')\n",
        "      plot_roc_curve(y_test, prediction, title='ROC Curve Of Model'+title, file_name=None)\n",
        "      print('2) Plot AUC Curve...')\n",
        "      plot_auc_curve(y_test, prediction, model_name=model_name, title='AUC Curve Of Model'+title, file_name = None)\n",
        "      print('3) Plot Percision_Recall Curve......')\n",
        "      plot_precision_recall_curve(y_test, prediction, title='Percision_Recall Curve Of Model'+title, file_name=None)\n",
        "    return prediction\n",
        "\n",
        "  def plot_learning_curves(self, history):\n",
        "    print('1) Plot learning process based on different metrics...')\n",
        "    plot_metrics(history)\n",
        "    print('2) Plot learning curve...')\n",
        "    return plot_history(history)"
      ],
      "metadata": {
        "id": "lXXuUHUODbJL"
      },
      "execution_count": null,
      "outputs": []
    },
    {
      "cell_type": "code",
      "source": [
        "-baselines model\n",
        "-define_train\n",
        "-plots\n",
        "-lstm many-to-many\n",
        "-results"
      ],
      "metadata": {
        "id": "KF9FJjlAaWb9"
      },
      "execution_count": null,
      "outputs": []
    },
    {
      "cell_type": "code",
      "source": [],
      "metadata": {
        "id": "jYkwD9PtaWWK"
      },
      "execution_count": null,
      "outputs": []
    },
    {
      "cell_type": "markdown",
      "metadata": {
        "id": "4CzHQADbnzVt"
      },
      "source": [
        "Prediction based on Ensemble Concept"
      ]
    },
    {
      "cell_type": "markdown",
      "metadata": {
        "id": "TT1qAAPVHRDD"
      },
      "source": [
        "Models' Summary"
      ]
    },
    {
      "cell_type": "code",
      "metadata": {
        "colab": {
          "base_uri": "https://localhost:8080/",
          "height": 363
        },
        "id": "E4-Ab6KrGkNv",
        "outputId": "37cb1cb3-3976-49d6-d813-eb690ea4ed86"
      },
      "source": [
        "conclusion = pd.DataFrame([['Neural Network',precision_1,recall_1,f1Score_1],\n",
        "              ['Logistic Regression',0.53,0.17,0.26],\n",
        "              ['SVM',0.38,0.01,0.03],\n",
        "              ['KNN',0.94,0.56,0.70],\n",
        "              ['Neural Network after Balancing',precision_2,recall_2,f1Score_2],\n",
        "              ['Logistic Regression after Balancing',0.08,0.93,0.15],\n",
        "              ['SVM after Balancing',0.06,0.97,0.11],\n",
        "              ['KNN after Balancing',0.73,0.73,0.73],\n",
        "              ['Ensemble concept after Balancing',0.65,0.81,0.72]],\n",
        "              columns=[\"Algorithm\",\"Precision\",\"Recall\",\"F1score\"])\n",
        "conclusion = conclusion.set_index('Algorithm')\n",
        "conclusion.style.background_gradient(cmap=\"YlOrRd\")\n"
      ],
      "execution_count": null,
      "outputs": [
        {
          "output_type": "execute_result",
          "data": {
            "text/html": [
              "<style  type=\"text/css\" >\n",
              "#T_611e1a9c_5135_11ec_be3e_0242ac1c0002row0_col0,#T_611e1a9c_5135_11ec_be3e_0242ac1c0002row6_col1,#T_611e1a9c_5135_11ec_be3e_0242ac1c0002row7_col2{\n",
              "            background-color:  #800026;\n",
              "            color:  #f1f1f1;\n",
              "        }#T_611e1a9c_5135_11ec_be3e_0242ac1c0002row0_col1,#T_611e1a9c_5135_11ec_be3e_0242ac1c0002row2_col0{\n",
              "            background-color:  #febb56;\n",
              "            color:  #000000;\n",
              "        }#T_611e1a9c_5135_11ec_be3e_0242ac1c0002row0_col2{\n",
              "            background-color:  #f03523;\n",
              "            color:  #f1f1f1;\n",
              "        }#T_611e1a9c_5135_11ec_be3e_0242ac1c0002row1_col0{\n",
              "            background-color:  #fd8a3b;\n",
              "            color:  #000000;\n",
              "        }#T_611e1a9c_5135_11ec_be3e_0242ac1c0002row1_col1{\n",
              "            background-color:  #ffe793;\n",
              "            color:  #000000;\n",
              "        }#T_611e1a9c_5135_11ec_be3e_0242ac1c0002row1_col2{\n",
              "            background-color:  #fec05b;\n",
              "            color:  #000000;\n",
              "        }#T_611e1a9c_5135_11ec_be3e_0242ac1c0002row2_col1,#T_611e1a9c_5135_11ec_be3e_0242ac1c0002row2_col2,#T_611e1a9c_5135_11ec_be3e_0242ac1c0002row6_col0{\n",
              "            background-color:  #ffffcc;\n",
              "            color:  #000000;\n",
              "        }#T_611e1a9c_5135_11ec_be3e_0242ac1c0002row3_col0{\n",
              "            background-color:  #990026;\n",
              "            color:  #f1f1f1;\n",
              "        }#T_611e1a9c_5135_11ec_be3e_0242ac1c0002row3_col1{\n",
              "            background-color:  #fc6832;\n",
              "            color:  #000000;\n",
              "        }#T_611e1a9c_5135_11ec_be3e_0242ac1c0002row3_col2,#T_611e1a9c_5135_11ec_be3e_0242ac1c0002row4_col2,#T_611e1a9c_5135_11ec_be3e_0242ac1c0002row5_col1{\n",
              "            background-color:  #930026;\n",
              "            color:  #f1f1f1;\n",
              "        }#T_611e1a9c_5135_11ec_be3e_0242ac1c0002row4_col0{\n",
              "            background-color:  #b90026;\n",
              "            color:  #f1f1f1;\n",
              "        }#T_611e1a9c_5135_11ec_be3e_0242ac1c0002row4_col1{\n",
              "            background-color:  #fc5d2e;\n",
              "            color:  #000000;\n",
              "        }#T_611e1a9c_5135_11ec_be3e_0242ac1c0002row5_col0{\n",
              "            background-color:  #fffcc5;\n",
              "            color:  #000000;\n",
              "        }#T_611e1a9c_5135_11ec_be3e_0242ac1c0002row5_col2{\n",
              "            background-color:  #ffe691;\n",
              "            color:  #000000;\n",
              "        }#T_611e1a9c_5135_11ec_be3e_0242ac1c0002row6_col2{\n",
              "            background-color:  #ffefa4;\n",
              "            color:  #000000;\n",
              "        }#T_611e1a9c_5135_11ec_be3e_0242ac1c0002row7_col0{\n",
              "            background-color:  #e9261f;\n",
              "            color:  #f1f1f1;\n",
              "        }#T_611e1a9c_5135_11ec_be3e_0242ac1c0002row7_col1{\n",
              "            background-color:  #e2191c;\n",
              "            color:  #f1f1f1;\n",
              "        }#T_611e1a9c_5135_11ec_be3e_0242ac1c0002row8_col0{\n",
              "            background-color:  #fa4a29;\n",
              "            color:  #000000;\n",
              "        }#T_611e1a9c_5135_11ec_be3e_0242ac1c0002row8_col1{\n",
              "            background-color:  #c90823;\n",
              "            color:  #f1f1f1;\n",
              "        }#T_611e1a9c_5135_11ec_be3e_0242ac1c0002row8_col2{\n",
              "            background-color:  #860026;\n",
              "            color:  #f1f1f1;\n",
              "        }</style><table id=\"T_611e1a9c_5135_11ec_be3e_0242ac1c0002\" class=\"dataframe\"><thead>    <tr>        <th class=\"blank level0\" ></th>        <th class=\"col_heading level0 col0\" >Precision</th>        <th class=\"col_heading level0 col1\" >Recall</th>        <th class=\"col_heading level0 col2\" >F1score</th>    </tr>    <tr>        <th class=\"index_name level0\" >Algorithm</th>        <th class=\"blank\" ></th>        <th class=\"blank\" ></th>        <th class=\"blank\" ></th>    </tr></thead><tbody>\n",
              "                <tr>\n",
              "                        <th id=\"T_611e1a9c_5135_11ec_be3e_0242ac1c0002level0_row0\" class=\"row_heading level0 row0\" >Neural Network</th>\n",
              "                        <td id=\"T_611e1a9c_5135_11ec_be3e_0242ac1c0002row0_col0\" class=\"data row0 col0\" >0.990000</td>\n",
              "                        <td id=\"T_611e1a9c_5135_11ec_be3e_0242ac1c0002row0_col1\" class=\"data row0 col1\" >0.340000</td>\n",
              "                        <td id=\"T_611e1a9c_5135_11ec_be3e_0242ac1c0002row0_col2\" class=\"data row0 col2\" >0.510000</td>\n",
              "            </tr>\n",
              "            <tr>\n",
              "                        <th id=\"T_611e1a9c_5135_11ec_be3e_0242ac1c0002level0_row1\" class=\"row_heading level0 row1\" >Logistic Regression</th>\n",
              "                        <td id=\"T_611e1a9c_5135_11ec_be3e_0242ac1c0002row1_col0\" class=\"data row1 col0\" >0.530000</td>\n",
              "                        <td id=\"T_611e1a9c_5135_11ec_be3e_0242ac1c0002row1_col1\" class=\"data row1 col1\" >0.170000</td>\n",
              "                        <td id=\"T_611e1a9c_5135_11ec_be3e_0242ac1c0002row1_col2\" class=\"data row1 col2\" >0.260000</td>\n",
              "            </tr>\n",
              "            <tr>\n",
              "                        <th id=\"T_611e1a9c_5135_11ec_be3e_0242ac1c0002level0_row2\" class=\"row_heading level0 row2\" >SVM</th>\n",
              "                        <td id=\"T_611e1a9c_5135_11ec_be3e_0242ac1c0002row2_col0\" class=\"data row2 col0\" >0.380000</td>\n",
              "                        <td id=\"T_611e1a9c_5135_11ec_be3e_0242ac1c0002row2_col1\" class=\"data row2 col1\" >0.010000</td>\n",
              "                        <td id=\"T_611e1a9c_5135_11ec_be3e_0242ac1c0002row2_col2\" class=\"data row2 col2\" >0.030000</td>\n",
              "            </tr>\n",
              "            <tr>\n",
              "                        <th id=\"T_611e1a9c_5135_11ec_be3e_0242ac1c0002level0_row3\" class=\"row_heading level0 row3\" >KNN</th>\n",
              "                        <td id=\"T_611e1a9c_5135_11ec_be3e_0242ac1c0002row3_col0\" class=\"data row3 col0\" >0.940000</td>\n",
              "                        <td id=\"T_611e1a9c_5135_11ec_be3e_0242ac1c0002row3_col1\" class=\"data row3 col1\" >0.560000</td>\n",
              "                        <td id=\"T_611e1a9c_5135_11ec_be3e_0242ac1c0002row3_col2\" class=\"data row3 col2\" >0.700000</td>\n",
              "            </tr>\n",
              "            <tr>\n",
              "                        <th id=\"T_611e1a9c_5135_11ec_be3e_0242ac1c0002level0_row4\" class=\"row_heading level0 row4\" >Neural Network after Balancing</th>\n",
              "                        <td id=\"T_611e1a9c_5135_11ec_be3e_0242ac1c0002row4_col0\" class=\"data row4 col0\" >0.880000</td>\n",
              "                        <td id=\"T_611e1a9c_5135_11ec_be3e_0242ac1c0002row4_col1\" class=\"data row4 col1\" >0.580000</td>\n",
              "                        <td id=\"T_611e1a9c_5135_11ec_be3e_0242ac1c0002row4_col2\" class=\"data row4 col2\" >0.700000</td>\n",
              "            </tr>\n",
              "            <tr>\n",
              "                        <th id=\"T_611e1a9c_5135_11ec_be3e_0242ac1c0002level0_row5\" class=\"row_heading level0 row5\" >Logistic Regression after Balancing</th>\n",
              "                        <td id=\"T_611e1a9c_5135_11ec_be3e_0242ac1c0002row5_col0\" class=\"data row5 col0\" >0.080000</td>\n",
              "                        <td id=\"T_611e1a9c_5135_11ec_be3e_0242ac1c0002row5_col1\" class=\"data row5 col1\" >0.930000</td>\n",
              "                        <td id=\"T_611e1a9c_5135_11ec_be3e_0242ac1c0002row5_col2\" class=\"data row5 col2\" >0.150000</td>\n",
              "            </tr>\n",
              "            <tr>\n",
              "                        <th id=\"T_611e1a9c_5135_11ec_be3e_0242ac1c0002level0_row6\" class=\"row_heading level0 row6\" >SVM after Balancing</th>\n",
              "                        <td id=\"T_611e1a9c_5135_11ec_be3e_0242ac1c0002row6_col0\" class=\"data row6 col0\" >0.060000</td>\n",
              "                        <td id=\"T_611e1a9c_5135_11ec_be3e_0242ac1c0002row6_col1\" class=\"data row6 col1\" >0.970000</td>\n",
              "                        <td id=\"T_611e1a9c_5135_11ec_be3e_0242ac1c0002row6_col2\" class=\"data row6 col2\" >0.110000</td>\n",
              "            </tr>\n",
              "            <tr>\n",
              "                        <th id=\"T_611e1a9c_5135_11ec_be3e_0242ac1c0002level0_row7\" class=\"row_heading level0 row7\" >KNN after Balancing</th>\n",
              "                        <td id=\"T_611e1a9c_5135_11ec_be3e_0242ac1c0002row7_col0\" class=\"data row7 col0\" >0.730000</td>\n",
              "                        <td id=\"T_611e1a9c_5135_11ec_be3e_0242ac1c0002row7_col1\" class=\"data row7 col1\" >0.730000</td>\n",
              "                        <td id=\"T_611e1a9c_5135_11ec_be3e_0242ac1c0002row7_col2\" class=\"data row7 col2\" >0.730000</td>\n",
              "            </tr>\n",
              "            <tr>\n",
              "                        <th id=\"T_611e1a9c_5135_11ec_be3e_0242ac1c0002level0_row8\" class=\"row_heading level0 row8\" >Ensemble concept after Balancing</th>\n",
              "                        <td id=\"T_611e1a9c_5135_11ec_be3e_0242ac1c0002row8_col0\" class=\"data row8 col0\" >0.650000</td>\n",
              "                        <td id=\"T_611e1a9c_5135_11ec_be3e_0242ac1c0002row8_col1\" class=\"data row8 col1\" >0.810000</td>\n",
              "                        <td id=\"T_611e1a9c_5135_11ec_be3e_0242ac1c0002row8_col2\" class=\"data row8 col2\" >0.720000</td>\n",
              "            </tr>\n",
              "    </tbody></table>"
            ],
            "text/plain": [
              "<pandas.io.formats.style.Styler at 0x7fa5792cc150>"
            ]
          },
          "metadata": {},
          "execution_count": 109
        }
      ]
    },
    {
      "cell_type": "markdown",
      "metadata": {
        "id": "HAV6ArSEQ0xd"
      },
      "source": [
        "As you see After Blancing the dataset Ensemble concept and KNN model do the best !"
      ]
    }
  ]
}