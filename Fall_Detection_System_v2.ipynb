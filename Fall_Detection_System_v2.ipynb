{
  "nbformat": 4,
  "nbformat_minor": 0,
  "metadata": {
    "colab": {
      "provenance": [],
      "gpuType": "T4",
      "authorship_tag": "ABX9TyO+h4lxpePmPwDJ80V+L/2c",
      "include_colab_link": true
    },
    "kernelspec": {
      "display_name": "Python 3",
      "name": "python3"
    },
    "language_info": {
      "name": "python"
    }
  },
  "cells": [
    {
      "cell_type": "markdown",
      "metadata": {
        "id": "view-in-github",
        "colab_type": "text"
      },
      "source": [
        "<a href=\"https://colab.research.google.com/github/mojtabaSefidi/Fall-Detection-System/blob/master/Fall_Detection_System_v2.ipynb\" target=\"_parent\"><img src=\"https://colab.research.google.com/assets/colab-badge.svg\" alt=\"Open In Colab\"/></a>"
      ]
    },
    {
      "cell_type": "code",
      "source": [
        "from google.colab import drive\n",
        "drive.mount(\"/content/gdrive\")"
      ],
      "metadata": {
        "colab": {
          "base_uri": "https://localhost:8080/"
        },
        "id": "x4Hyqy-KZ3Eu",
        "outputId": "30f852dd-85c7-4acc-a757-c64853047558"
      },
      "execution_count": 1,
      "outputs": [
        {
          "output_type": "stream",
          "name": "stdout",
          "text": [
            "Mounted at /content/gdrive\n"
          ]
        }
      ]
    },
    {
      "cell_type": "markdown",
      "metadata": {
        "id": "XIWFK9t8bVk1"
      },
      "source": [
        "Import libraries and frameworks"
      ]
    },
    {
      "cell_type": "code",
      "source": [
        "!pip install -q tqdm"
      ],
      "metadata": {
        "id": "MwqF72o5A4-2"
      },
      "execution_count": 2,
      "outputs": []
    },
    {
      "cell_type": "code",
      "metadata": {
        "collapsed": true,
        "id": "qhvZxm9n-jmF"
      },
      "source": [
        "from tqdm import tqdm\n",
        "from sklearn import preprocessing\n",
        "import tensorflow as tf\n",
        "from tensorflow import keras\n",
        "from math import sqrt\n",
        "import pandas as pd\n",
        "import numpy as np\n",
        "import glob\n",
        "import os\n",
        "window_size = 200\n",
        "from sklearn.utils import compute_class_weight\n",
        "import matplotlib.pyplot as plt\n",
        "import seaborn as sn\n",
        "sn.set()\n",
        "from sklearn.model_selection import train_test_split\n",
        "from sklearn.metrics import classification_report, confusion_matrix\n",
        "from sklearn.preprocessing import StandardScaler\n",
        "import random\n",
        "from itertools import groupby, chain\n",
        "import pickle"
      ],
      "execution_count": 3,
      "outputs": []
    },
    {
      "cell_type": "markdown",
      "metadata": {
        "id": "ZOCs9eqca3NV"
      },
      "source": [
        "Get the sisfall and sisfall_enhanced dataset"
      ]
    },
    {
      "cell_type": "code",
      "metadata": {
        "id": "_XAle2BBAfFr"
      },
      "source": [
        "# !unzip /content/gdrive/MyDrive/Datasets/SisFall_dataset.zip\n",
        "# !unzip /content/gdrive/MyDrive/Datasets/SisFall_enhanced.zip"
      ],
      "execution_count": 4,
      "outputs": []
    },
    {
      "cell_type": "markdown",
      "metadata": {
        "id": "bgndfoWWKRIG"
      },
      "source": [
        "# Implementation"
      ]
    },
    {
      "cell_type": "code",
      "source": [
        "def plot_confusion_matrix(confusion_matrix):\n",
        "    df = pd.DataFrame(confusion_matrix, range(len(confusion_matrix)), range(len(confusion_matrix)))\n",
        "    plt.figure(figsize=(6,4))\n",
        "    plt.title('Confusion Matrix')\n",
        "    sn.set(font_scale=1) # for label size\n",
        "    sn.heatmap(df, annot=True, annot_kws={\"size\": 12},fmt='.0f',cmap='Greens') # font size\n",
        "    plt.show()"
      ],
      "metadata": {
        "id": "Gi1u8eYf4VuO"
      },
      "execution_count": 5,
      "outputs": []
    },
    {
      "cell_type": "markdown",
      "metadata": {
        "id": "8yS1sWUdbpyd"
      },
      "source": [
        "Get all addresses"
      ]
    },
    {
      "cell_type": "code",
      "metadata": {
        "id": "UoyddPaZ-jmI"
      },
      "source": [
        "def get_file_name(path, ratio=0.8):\n",
        "  allfiles = []\n",
        "  allFolders = sorted(glob.glob(path + \"*\"))\n",
        "  for files in allFolders:\n",
        "    allfiles.append(sorted(glob.glob(files+\"/*.txt\")))\n",
        "  if 'desktop.ini' in allfiles:\n",
        "        allfiles.remove('desktop.ini')\n",
        "\n",
        "  dataset = np.hstack(allfiles)\n",
        "  start = dataset[0].rfind('/') + 1\n",
        "  end = dataset[0][start:].find('_') + start\n",
        "  dataset = [list(g) for k, g in groupby(dataset, key=lambda x: x[start:end])]\n",
        "  train = []\n",
        "  test = []\n",
        "  for data in dataset:\n",
        "    if len(data) == 1:\n",
        "      if random.randint(1,100)>=81:\n",
        "        test.extend(data)\n",
        "      else:\n",
        "        train.extend(data)\n",
        "\n",
        "    else:\n",
        "      random.shuffle(data)\n",
        "      train.extend(data[:int(len(data)*ratio)])\n",
        "      test.extend(data[int(len(data)*ratio):])\n",
        "\n",
        "  return train, test\n"
      ],
      "execution_count": 6,
      "outputs": []
    },
    {
      "cell_type": "markdown",
      "metadata": {
        "id": "tCOqfWlyqoI3"
      },
      "source": [
        "read dataset from address path"
      ]
    },
    {
      "cell_type": "code",
      "source": [
        "class DatasetProcessor():\n",
        "\n",
        "  def __init__(self,\n",
        "               train_dataset_saving_path=None,\n",
        "               test_dataset_saving_path=None\n",
        "               ):\n",
        "    self.train_dataset_saving_path = train_dataset_saving_path\n",
        "    self.test_dataset_saving_path = test_dataset_saving_path\n",
        "\n",
        "  def __read_data(self, data_path):\n",
        "    data = pd.read_csv(data_path, header=None)\n",
        "    data.columns = ['ADXL345_x', 'ADXL345_y', 'ADXL345_z', 'ITG3200_x', 'ITG3200_y', 'ITG3200_z', 'MMA8451Q_x',\n",
        "                    'MMA8451Q_y', 'MMA8451Q_z']\n",
        "    data['MMA8451Q_z'] = data['MMA8451Q_z'].map(lambda x: str(x)[:-1])\n",
        "    for name in data.columns :\n",
        "      data[name] = data[name].astype(float)\n",
        "    return data\n",
        "\n",
        "  def __add_label(self, data_path, merge_feature=False):\n",
        "\n",
        "    dataset = self.__read_data(data_path)\n",
        "\n",
        "    if not merge_feature:\n",
        "      dataset['label'] = self.__get_label(data_path)\n",
        "      return dataset.to_numpy()\n",
        "\n",
        "    else:\n",
        "      new_dataset = pd.DataFrame()\n",
        "      new_dataset['acc_1'] = dataset.apply(\n",
        "          lambda row: sqrt((row.ADXL345_x ** 2 + row.ADXL345_y ** 2 + row.ADXL345_z ** 2)), axis=1)\n",
        "      new_dataset['acc_2'] = dataset.apply(\n",
        "          lambda row: sqrt((row.MMA8451Q_x ** 2 + row.MMA8451Q_y ** 2 + row.MMA8451Q_z ** 2)), axis=1)\n",
        "      new_dataset['geo'] = dataset.apply(\n",
        "          lambda row: sqrt((row.ITG3200_x ** 2 + row.ITG3200_y ** 2 + row.ITG3200_z ** 2)), axis=1)\n",
        "      new_dataset['label'] = self.__get_label(data_path)\n",
        "\n",
        "      return np.round(new_dataset.to_numpy(), 2)\n",
        "\n",
        "  def __get_label(self, data_path):\n",
        "    label = data_path[54]\n",
        "    if label =='D':\n",
        "      return int(0)\n",
        "    elif label =='F':\n",
        "      label_path = data_path.replace('dataset', 'enhanced')\n",
        "      labels = pd.read_csv(label_path, header=None)\n",
        "      # labels[labels == 2] = 1\n",
        "      return labels\n",
        "\n",
        "  def datasets_to_nparray(self, datasets_address_array, outputsize=20000000, column_dimension=10):\n",
        "    result = np.zeros((outputsize, column_dimension), 'int16')\n",
        "    first_index = 0\n",
        "    for address in tqdm(datasets_address_array, ncols=50):\n",
        "      feature = self.__add_label(address)\n",
        "      # print(len(feature), first_index)\n",
        "      result[first_index : (first_index+len(feature))] = feature\n",
        "      first_index += len(feature)\n",
        "\n",
        "    return result[result.sum(axis=1) != 0]\n",
        "\n",
        "  def windowing2d(self, dataset, window_size=200):\n",
        "    window = window_size * (dataset.shape[1]-1)\n",
        "    cut = dataset.shape[0] % window_size\n",
        "    feature = dataset[:-cut,0:-1]\n",
        "    label = dataset[:-cut,-1]\n",
        "    feature = feature.ravel().reshape(feature.size//window,window)\n",
        "    label = label.reshape(label.size// window_size, window_size)\n",
        "    label = label.sum(axis=1)\n",
        "    label[label > 0] = 1\n",
        "    # return feature, label\n",
        "    feature = np.roll((np.roll(feature, -1, axis=0) - feature), 1, axis=0)\n",
        "    feature[0] = 0\n",
        "    return feature, label.ravel()\n",
        "\n",
        "  def windowing3d(self, dataset, window_size=200):\n",
        "    n_windows = len(dataset) // window_size\n",
        "    cut = dataset.shape[0] % window_size\n",
        "    feature = dataset[:-cut,0:-1]\n",
        "    label = dataset[:-cut,-1]\n",
        "    feature = feature.reshape(n_windows, window_size, dataset.shape[1]-1)\n",
        "    label = label.reshape(n_windows, window_size, 1)\n",
        "    label = label.sum(axis=1)\n",
        "    label[label > 0] = 1\n",
        "    # return feature, label.ravel()\n",
        "    feature = np.roll((np.roll(feature, -1, axis=0) - feature), 1, axis=0)\n",
        "    feature[0] = 0\n",
        "    return feature, label.ravel()\n",
        "\n",
        "  def normalizer(self, scaler, X_train, X_test):\n",
        "    X_train = scaler.fit_transform(X_train.reshape(-1, X_train.shape[-1])).reshape(X_train.shape)\n",
        "    X_test = scaler.transform(X_test.reshape(-1, X_test.shape[-1])).reshape(X_test.shape)\n",
        "    return X_train, X_test\n",
        "\n",
        "  def dataset_to_tensor(self, window_size, dataset, saving_path):\n",
        "    features, labels = self.windowing(self.__datasets_to_nparray(dataset), window_size)\n",
        "    return features, labels\n",
        "    # return np.savez(saving_path, inputs=features, targets=labels)\n",
        "\n",
        "  def dataset_loader(self, data_path):\n",
        "    npz = np.load(data_path)\n",
        "    return npz[\"inputs\"].astype(np.float), npz[\"targets\"].astype(np.int)\n",
        "\n",
        "  def downsampling(self, dataset, down_sampleing_factor):\n",
        "      positive = dataset[dataset['targets']==1]\n",
        "      negative = dataset[dataset['targets']==0].sample(n=int(len(positive)* down_sampleing_factor))\n",
        "      return pd.concat([positive, negative], ignore_index=True).sample(frac=1).reset_index(drop=True)\n",
        "\n",
        "  def generate_class_weight(self, label):\n",
        "    class_weights = compute_class_weight(class_weight = \"balanced\",\n",
        "                                         classes = np.unique(y_train),\n",
        "                                         y = y_train)\n",
        "    return dict(zip(np.unique(y_train), class_weights))\n"
      ],
      "metadata": {
        "id": "Rh4rp7_Z_i0q"
      },
      "execution_count": 7,
      "outputs": []
    },
    {
      "cell_type": "code",
      "source": [
        "%%time\n",
        "\n",
        "dp = DatasetProcessor()\n",
        "\n",
        "print('1.Split Adresses...')\n",
        "train, test = get_file_name('/content/gdrive/MyDrive/Datasets/SisFall_dataset/')\n",
        "\n",
        "print('2.Extract Features and Labels...')\n",
        "print('------------------------Train Dataset')\n",
        "train_dataset = dp.datasets_to_nparray(train)\n",
        "print('------------------------Test Dataset')\n",
        "test_dataset = dp.datasets_to_nparray(test)\n",
        "\n",
        "print('3.Windowing...')\n",
        "print('------------------------Train Dataset')\n",
        "X_train, y_train = dp.windowing3d(train_dataset)\n",
        "print('------------------------Test Dataset')\n",
        "X_test, y_test = dp.windowing3d(test_dataset)\n",
        "\n",
        "print('4.Normalizing...')\n",
        "X_train, X_test = dp.normalizer(StandardScaler(), X_train, X_test)\n",
        "\n",
        "print('5.Calculate Class Weight...')\n",
        "class_weight = dp.generate_class_weight(y_train)\n"
      ],
      "metadata": {
        "id": "_1pcZKGXL-OM"
      },
      "execution_count": null,
      "outputs": []
    },
    {
      "cell_type": "markdown",
      "source": [
        "### Save/Load train & test dataset"
      ],
      "metadata": {
        "id": "2FcPKDH_MSoi"
      }
    },
    {
      "cell_type": "code",
      "source": [
        "save = False\n",
        "if save:\n",
        "  with open('/content/gdrive/MyDrive/Inputs/X_train_fall.pkl','wb') as f:\n",
        "    pickle.dump(X_train, f)\n",
        "\n",
        "  with open('/content/gdrive/MyDrive/Inputs/y_train_fall.pkl','wb') as f:\n",
        "    pickle.dump(y_train, f)\n",
        "\n",
        "  with open('/content/gdrive/MyDrive/Inputs/X_test_fall.pkl','wb') as f:\n",
        "    pickle.dump(X_test, f)\n",
        "\n",
        "  with open('/content/gdrive/MyDrive/Inputs/y_test_fall.pkl','wb') as f:\n",
        "    pickle.dump(y_test, f)\n",
        "\n",
        "else:\n",
        "  with open('/content/gdrive/MyDrive/Inputs/X_train_fall.pkl','rb') as f:\n",
        "    X_train = pickle.load(f)\n",
        "\n",
        "  with open('/content/gdrive/MyDrive/Inputs/y_train_fall.pkl','rb') as f:\n",
        "    y_train = pickle.load(f)\n",
        "\n",
        "  with open('/content/gdrive/MyDrive/Inputs/X_test_fall.pkl','rb') as f:\n",
        "    X_test = pickle.load(f)\n",
        "\n",
        "  with open('/content/gdrive/MyDrive/Inputs/y_test_fall.pkl','rb') as f:\n",
        "    y_test = pickle.load(f)\n",
        "    dp = DatasetProcessor()\n",
        "    class_weight = dp.generate_class_weight(y_train)\n"
      ],
      "metadata": {
        "id": "5X6ABVhhLfNk"
      },
      "execution_count": 8,
      "outputs": []
    },
    {
      "cell_type": "markdown",
      "metadata": {
        "id": "wXsG6DAmfm7m"
      },
      "source": [
        "# Main"
      ]
    },
    {
      "cell_type": "markdown",
      "metadata": {
        "id": "9oiw8XrQ3O59"
      },
      "source": [
        "Data Pre-processing"
      ]
    },
    {
      "cell_type": "markdown",
      "metadata": {
        "id": "FsuvZYw8g1wu"
      },
      "source": [
        "Neural Network Training"
      ]
    },
    {
      "cell_type": "code",
      "source": [
        "METRICS = [\n",
        "      keras.metrics.TruePositives(name='TP'),\n",
        "      keras.metrics.FalsePositives(name='FP'),\n",
        "      keras.metrics.TrueNegatives(name='TN'),\n",
        "      keras.metrics.FalseNegatives(name='FN'),\n",
        "      keras.metrics.BinaryAccuracy(name='Accuracy'),\n",
        "      keras.metrics.Precision(name='Precision'),\n",
        "      keras.metrics.Recall(name='Recall'),\n",
        "      keras.metrics.AUC(name='AUC'),\n",
        "      keras.metrics.AUC(name='PRC', curve='PR')\n",
        "]\n",
        "\n",
        "early_stopping = keras.callbacks.EarlyStopping(\n",
        "    monitor='Precision',\n",
        "    verbose=1,\n",
        "    patience=10,\n",
        "    mode='max',\n",
        "    restore_best_weights=True)\n",
        "\n",
        "# checkpoint_path = \"/content/gdrive/MyDrive/Model Checkpoints/TrendDetection.ckpt\"\n",
        "# # save_freq = 'epoch'\n",
        "\n",
        "# cp_callback = tensorflow.keras.callbacks.ModelCheckpoint(\n",
        "#    checkpoint_path, verbose=1, save_weights_only=True,\n",
        "#    # Save weights, every epoch.\n",
        "#    save_freq = 10*3030)"
      ],
      "metadata": {
        "id": "_g6IkRVaDk26"
      },
      "execution_count": 13,
      "outputs": []
    },
    {
      "cell_type": "code",
      "source": [
        "X_test[0].shape"
      ],
      "metadata": {
        "colab": {
          "base_uri": "https://localhost:8080/"
        },
        "id": "Q9IYG7bojExf",
        "outputId": "b02219c4-8ad3-48d6-8ffd-ed575acfaeac"
      },
      "execution_count": 14,
      "outputs": [
        {
          "output_type": "execute_result",
          "data": {
            "text/plain": [
              "(200, 9)"
            ]
          },
          "metadata": {},
          "execution_count": 14
        }
      ]
    },
    {
      "cell_type": "code",
      "source": [
        "class Define_Train():\n",
        "\n",
        "  def __init__(self,\n",
        "               X_train,\n",
        "               y_train,\n",
        "               X_test,\n",
        "               y_test,\n",
        "               ):\n",
        "\n",
        "        self.X_train = X_train\n",
        "        self.y_train = y_train\n",
        "        self.X_test = X_test\n",
        "        self.y_test = y_test\n",
        "\n",
        "  def define_cnn(self, input_size, units=512, drop_rate=0.25, filter=16, kernel_size=(3*3), output_size=1):\n",
        "    input = keras.layers.Input((input_size))\n",
        "    x = keras.layers.Conv1D(filters=filter, kernel_size=kernel_size, padding='same', activation='relu', name=\"conv1\")(input)\n",
        "    x = keras.layers.MaxPooling1D(padding=\"same\")(x)\n",
        "    x = keras.layers.Conv1D(filters=filter*4, kernel_size=kernel_size, padding='same', activation='relu', name=\"conv2\")(x)\n",
        "    x = keras.layers.MaxPooling1D(padding=\"same\")(x)\n",
        "    x = keras.layers.Conv1D(filters=filter*16, kernel_size=kernel_size, padding='same', activation='relu', name=\"conv3\")(x)\n",
        "    x = keras.layers.GlobalAveragePooling1D()(x)\n",
        "    classifier = keras.layers.Dense(units, activation='relu')(x)\n",
        "    classifier = keras.layers.Dropout(drop_rate)(classifier)\n",
        "    output = keras.layers.Dense(output_size, activation='sigmoid')(classifier)\n",
        "    model = keras.Model(inputs=input, outputs=output)\n",
        "    # print(model.summary())\n",
        "    return model\n",
        "\n",
        "  def define_lstm(self, input_size, units=128, drop_rate=0.25, lstm_units=16, output_size=1):\n",
        "    input = keras.layers.Input((input_size))\n",
        "    x = keras.layers.LSTM(units=lstm_units, input_shape=input_size, return_sequences=True, name=\"lstm1\")(input)\n",
        "    x = keras.layers.LSTM(units=lstm_units*4, input_shape=input_size, return_sequences=True, name=\"lstm2\")(x)\n",
        "    x = keras.layers.GlobalAveragePooling1D()(x)\n",
        "    classifier = keras.layers.Dense(units, activation='relu')(x)\n",
        "    classifier = keras.layers.Dropout(drop_rate)(classifier)\n",
        "    output = keras.layers.Dense(output_size, activation='sigmoid')(classifier)\n",
        "    model = keras.Model(inputs=input, outputs=output)\n",
        "    # print(model.summary())\n",
        "    return model\n",
        "  def train_deep_models(self, model, class_weight, epochs=100, batch_size=256, learning_rate=0.01, validation_split=0.2):\n",
        "\n",
        "    model.compile(optimizer = tf.optimizers.Adam(learning_rate = learning_rate),\n",
        "                  loss='binary_crossentropy',\n",
        "                  metrics=METRICS)\n",
        "\n",
        "    history = model.fit(self.X_train,\n",
        "                        self.y_train,\n",
        "                        batch_size = batch_size,\n",
        "                        epochs = epochs,\n",
        "                        shuffle = True,\n",
        "                        class_weight = class_weight,\n",
        "                        validation_split=validation_split,\n",
        "                        callbacks = [early_stopping],\n",
        "                        verbose = 1)\n",
        "    return history, model\n",
        "\n",
        "  def define_mlp(self, input_size, hidden_layer_size, output_size):\n",
        "\n",
        "    self.mlp_model = tf.keras.Sequential([\n",
        "                                tf.keras.layers.Dense(input_size,activation=\"relu\"),\n",
        "                                tf.keras.layers.Dense(hidden_layer_size, activation=\"relu\"),\n",
        "                                tf.keras.layers.Dense(hidden_layer_size,activation=\"relu\"),\n",
        "                                tf.keras.layers.Dense(output_size, activation='sigmoid')\n",
        "                                ])\n",
        "\n",
        "    self.mlp_model.compile(optimizer='adam', loss='binary_crossentropy', metrics=METRICS)\n",
        "\n",
        "\n",
        "  def evaluation(self, model, batch_size=None):\n",
        "    if not batch_size is None:\n",
        "      prediction = model.predict(self.X_test, batch_size=batch_size)\n",
        "    else:\n",
        "      prediction = model.predict(self.X_test)\n",
        "    print(classification_report(self.y_test, prediction))\n",
        "    plot_confusion_matrix(confusion_matrix(self.y_test, prediction))\n",
        "    return prediction\n",
        "\n",
        "  def data_process_lstm(self):\n",
        "    lstm_X_train = self.X_train.reshape(self.X_train.shape[0], self.X_train.shape[-1], 1)\n",
        "    self.lstm_X_test = self.X_test.reshape(self.X_test.shape[0], self.X_test.shape[-1], 1)\n",
        "\n",
        "    self.train_dataset_sequence = tf.data.Dataset.from_tensor_slices((lstm_X_train , self.y_train))\n",
        "    self.train_dataset_sequence = self.train_dataset_sequence.cache().shuffle(self.lstm_buffer_size).batch(self.lstm_batch_size).repeat()\n",
        "\n",
        "    # self.test_dataset_sequence = tf.data.Dataset.from_tensor_slices((lstm_X_test , self.y_test))\n",
        "    # self.test_dataset_sequence = self.test_dataset_sequence.cache().shuffle(self.lstm_buffer_size).batch(self.lstm_batch_size).repeat()\n",
        "\n",
        "  def define_lstm_model(self, input_shape, output_shape=1):\n",
        "    self.lstm_model = tf.keras.models.Sequential([tf.keras.layers.LSTM(units=32, return_sequences=True, input_shape=input_shape),\n",
        "                                            tf.keras.layers.LSTM(units=64, return_sequences=True),\n",
        "                                            tf.keras.layers.LSTM(units=32),\n",
        "                                            tf.keras.layers.Dense(1,activation='sigmoid')])\n",
        "\n",
        "    self.lstm_model.compile(loss = 'binary_crossentropy', metrics = ['accuracy'])\n",
        "\n",
        "  def train_classic_model(self, model):\n",
        "    return model.fit(self.X_train, self.y_train)\n"
      ],
      "metadata": {
        "id": "lXXuUHUODbJL"
      },
      "execution_count": 17,
      "outputs": []
    },
    {
      "cell_type": "code",
      "source": [
        "models_obj = Define_Train(X_train,\n",
        "                          y_train,\n",
        "                          X_test,\n",
        "                          y_test)\n",
        "\n",
        "\n",
        "cnn = models_obj.define_cnn(input_size = X_test[0].shape)\n",
        "history, model = models_obj.train_deep_models(cnn, class_weight)"
      ],
      "metadata": {
        "colab": {
          "base_uri": "https://localhost:8080/",
          "height": 395
        },
        "id": "SmtNpuQ1i3zW",
        "outputId": "807ed5e9-6a04-4989-b3dd-b19e22476590"
      },
      "execution_count": 18,
      "outputs": [
        {
          "output_type": "stream",
          "name": "stdout",
          "text": [
            "Epoch 1/100\n",
            " 53/196 [=======>......................] - ETA: 1:06 - loss: 0.6658 - TP: 1895.0000 - FP: 14486.0000 - TN: 25195.0000 - FN: 408.0000 - Accuracy: 0.6452 - Precision: 0.1157 - Recall: 0.8228 - AUC: 0.8053 - PRC: 0.1518"
          ]
        },
        {
          "output_type": "error",
          "ename": "KeyboardInterrupt",
          "evalue": "ignored",
          "traceback": [
            "\u001b[0;31m---------------------------------------------------------------------------\u001b[0m",
            "\u001b[0;31mKeyboardInterrupt\u001b[0m                         Traceback (most recent call last)",
            "\u001b[0;32m<ipython-input-18-6107756a2ce2>\u001b[0m in \u001b[0;36m<cell line: 8>\u001b[0;34m()\u001b[0m\n\u001b[1;32m      6\u001b[0m \u001b[0;34m\u001b[0m\u001b[0m\n\u001b[1;32m      7\u001b[0m \u001b[0mcnn\u001b[0m \u001b[0;34m=\u001b[0m \u001b[0mmodels_obj\u001b[0m\u001b[0;34m.\u001b[0m\u001b[0mdefine_cnn\u001b[0m\u001b[0;34m(\u001b[0m\u001b[0minput_size\u001b[0m \u001b[0;34m=\u001b[0m \u001b[0mX_test\u001b[0m\u001b[0;34m[\u001b[0m\u001b[0;36m0\u001b[0m\u001b[0;34m]\u001b[0m\u001b[0;34m.\u001b[0m\u001b[0mshape\u001b[0m\u001b[0;34m)\u001b[0m\u001b[0;34m\u001b[0m\u001b[0;34m\u001b[0m\u001b[0m\n\u001b[0;32m----> 8\u001b[0;31m \u001b[0mhistory\u001b[0m\u001b[0;34m,\u001b[0m \u001b[0mmodel\u001b[0m \u001b[0;34m=\u001b[0m \u001b[0mmodels_obj\u001b[0m\u001b[0;34m.\u001b[0m\u001b[0mtrain_deep_models\u001b[0m\u001b[0;34m(\u001b[0m\u001b[0mcnn\u001b[0m\u001b[0;34m,\u001b[0m \u001b[0mclass_weight\u001b[0m\u001b[0;34m)\u001b[0m\u001b[0;34m\u001b[0m\u001b[0;34m\u001b[0m\u001b[0m\n\u001b[0m",
            "\u001b[0;32m<ipython-input-17-9f49e62a2fa8>\u001b[0m in \u001b[0;36mtrain_deep_models\u001b[0;34m(self, model, class_weight, epochs, batch_size, learning_rate, validation_split)\u001b[0m\n\u001b[1;32m     45\u001b[0m                   metrics=METRICS)\n\u001b[1;32m     46\u001b[0m \u001b[0;34m\u001b[0m\u001b[0m\n\u001b[0;32m---> 47\u001b[0;31m     history = model.fit(self.X_train,\n\u001b[0m\u001b[1;32m     48\u001b[0m                         \u001b[0mself\u001b[0m\u001b[0;34m.\u001b[0m\u001b[0my_train\u001b[0m\u001b[0;34m,\u001b[0m\u001b[0;34m\u001b[0m\u001b[0;34m\u001b[0m\u001b[0m\n\u001b[1;32m     49\u001b[0m                         \u001b[0mbatch_size\u001b[0m \u001b[0;34m=\u001b[0m \u001b[0mbatch_size\u001b[0m\u001b[0;34m,\u001b[0m\u001b[0;34m\u001b[0m\u001b[0;34m\u001b[0m\u001b[0m\n",
            "\u001b[0;32m/usr/local/lib/python3.10/dist-packages/keras/utils/traceback_utils.py\u001b[0m in \u001b[0;36merror_handler\u001b[0;34m(*args, **kwargs)\u001b[0m\n\u001b[1;32m     63\u001b[0m         \u001b[0mfiltered_tb\u001b[0m \u001b[0;34m=\u001b[0m \u001b[0;32mNone\u001b[0m\u001b[0;34m\u001b[0m\u001b[0;34m\u001b[0m\u001b[0m\n\u001b[1;32m     64\u001b[0m         \u001b[0;32mtry\u001b[0m\u001b[0;34m:\u001b[0m\u001b[0;34m\u001b[0m\u001b[0;34m\u001b[0m\u001b[0m\n\u001b[0;32m---> 65\u001b[0;31m             \u001b[0;32mreturn\u001b[0m \u001b[0mfn\u001b[0m\u001b[0;34m(\u001b[0m\u001b[0;34m*\u001b[0m\u001b[0margs\u001b[0m\u001b[0;34m,\u001b[0m \u001b[0;34m**\u001b[0m\u001b[0mkwargs\u001b[0m\u001b[0;34m)\u001b[0m\u001b[0;34m\u001b[0m\u001b[0;34m\u001b[0m\u001b[0m\n\u001b[0m\u001b[1;32m     66\u001b[0m         \u001b[0;32mexcept\u001b[0m \u001b[0mException\u001b[0m \u001b[0;32mas\u001b[0m \u001b[0me\u001b[0m\u001b[0;34m:\u001b[0m\u001b[0;34m\u001b[0m\u001b[0;34m\u001b[0m\u001b[0m\n\u001b[1;32m     67\u001b[0m             \u001b[0mfiltered_tb\u001b[0m \u001b[0;34m=\u001b[0m \u001b[0m_process_traceback_frames\u001b[0m\u001b[0;34m(\u001b[0m\u001b[0me\u001b[0m\u001b[0;34m.\u001b[0m\u001b[0m__traceback__\u001b[0m\u001b[0;34m)\u001b[0m\u001b[0;34m\u001b[0m\u001b[0;34m\u001b[0m\u001b[0m\n",
            "\u001b[0;32m/usr/local/lib/python3.10/dist-packages/keras/engine/training.py\u001b[0m in \u001b[0;36mfit\u001b[0;34m(self, x, y, batch_size, epochs, verbose, callbacks, validation_split, validation_data, shuffle, class_weight, sample_weight, initial_epoch, steps_per_epoch, validation_steps, validation_batch_size, validation_freq, max_queue_size, workers, use_multiprocessing)\u001b[0m\n\u001b[1;32m   1683\u001b[0m                         ):\n\u001b[1;32m   1684\u001b[0m                             \u001b[0mcallbacks\u001b[0m\u001b[0;34m.\u001b[0m\u001b[0mon_train_batch_begin\u001b[0m\u001b[0;34m(\u001b[0m\u001b[0mstep\u001b[0m\u001b[0;34m)\u001b[0m\u001b[0;34m\u001b[0m\u001b[0;34m\u001b[0m\u001b[0m\n\u001b[0;32m-> 1685\u001b[0;31m                             \u001b[0mtmp_logs\u001b[0m \u001b[0;34m=\u001b[0m \u001b[0mself\u001b[0m\u001b[0;34m.\u001b[0m\u001b[0mtrain_function\u001b[0m\u001b[0;34m(\u001b[0m\u001b[0miterator\u001b[0m\u001b[0;34m)\u001b[0m\u001b[0;34m\u001b[0m\u001b[0;34m\u001b[0m\u001b[0m\n\u001b[0m\u001b[1;32m   1686\u001b[0m                             \u001b[0;32mif\u001b[0m \u001b[0mdata_handler\u001b[0m\u001b[0;34m.\u001b[0m\u001b[0mshould_sync\u001b[0m\u001b[0;34m:\u001b[0m\u001b[0;34m\u001b[0m\u001b[0;34m\u001b[0m\u001b[0m\n\u001b[1;32m   1687\u001b[0m                                 \u001b[0mcontext\u001b[0m\u001b[0;34m.\u001b[0m\u001b[0masync_wait\u001b[0m\u001b[0;34m(\u001b[0m\u001b[0;34m)\u001b[0m\u001b[0;34m\u001b[0m\u001b[0;34m\u001b[0m\u001b[0m\n",
            "\u001b[0;32m/usr/local/lib/python3.10/dist-packages/tensorflow/python/util/traceback_utils.py\u001b[0m in \u001b[0;36merror_handler\u001b[0;34m(*args, **kwargs)\u001b[0m\n\u001b[1;32m    148\u001b[0m     \u001b[0mfiltered_tb\u001b[0m \u001b[0;34m=\u001b[0m \u001b[0;32mNone\u001b[0m\u001b[0;34m\u001b[0m\u001b[0;34m\u001b[0m\u001b[0m\n\u001b[1;32m    149\u001b[0m     \u001b[0;32mtry\u001b[0m\u001b[0;34m:\u001b[0m\u001b[0;34m\u001b[0m\u001b[0;34m\u001b[0m\u001b[0m\n\u001b[0;32m--> 150\u001b[0;31m       \u001b[0;32mreturn\u001b[0m \u001b[0mfn\u001b[0m\u001b[0;34m(\u001b[0m\u001b[0;34m*\u001b[0m\u001b[0margs\u001b[0m\u001b[0;34m,\u001b[0m \u001b[0;34m**\u001b[0m\u001b[0mkwargs\u001b[0m\u001b[0;34m)\u001b[0m\u001b[0;34m\u001b[0m\u001b[0;34m\u001b[0m\u001b[0m\n\u001b[0m\u001b[1;32m    151\u001b[0m     \u001b[0;32mexcept\u001b[0m \u001b[0mException\u001b[0m \u001b[0;32mas\u001b[0m \u001b[0me\u001b[0m\u001b[0;34m:\u001b[0m\u001b[0;34m\u001b[0m\u001b[0;34m\u001b[0m\u001b[0m\n\u001b[1;32m    152\u001b[0m       \u001b[0mfiltered_tb\u001b[0m \u001b[0;34m=\u001b[0m \u001b[0m_process_traceback_frames\u001b[0m\u001b[0;34m(\u001b[0m\u001b[0me\u001b[0m\u001b[0;34m.\u001b[0m\u001b[0m__traceback__\u001b[0m\u001b[0;34m)\u001b[0m\u001b[0;34m\u001b[0m\u001b[0;34m\u001b[0m\u001b[0m\n",
            "\u001b[0;32m/usr/local/lib/python3.10/dist-packages/tensorflow/python/eager/polymorphic_function/polymorphic_function.py\u001b[0m in \u001b[0;36m__call__\u001b[0;34m(self, *args, **kwds)\u001b[0m\n\u001b[1;32m    892\u001b[0m \u001b[0;34m\u001b[0m\u001b[0m\n\u001b[1;32m    893\u001b[0m       \u001b[0;32mwith\u001b[0m \u001b[0mOptionalXlaContext\u001b[0m\u001b[0;34m(\u001b[0m\u001b[0mself\u001b[0m\u001b[0;34m.\u001b[0m\u001b[0m_jit_compile\u001b[0m\u001b[0;34m)\u001b[0m\u001b[0;34m:\u001b[0m\u001b[0;34m\u001b[0m\u001b[0;34m\u001b[0m\u001b[0m\n\u001b[0;32m--> 894\u001b[0;31m         \u001b[0mresult\u001b[0m \u001b[0;34m=\u001b[0m \u001b[0mself\u001b[0m\u001b[0;34m.\u001b[0m\u001b[0m_call\u001b[0m\u001b[0;34m(\u001b[0m\u001b[0;34m*\u001b[0m\u001b[0margs\u001b[0m\u001b[0;34m,\u001b[0m \u001b[0;34m**\u001b[0m\u001b[0mkwds\u001b[0m\u001b[0;34m)\u001b[0m\u001b[0;34m\u001b[0m\u001b[0;34m\u001b[0m\u001b[0m\n\u001b[0m\u001b[1;32m    895\u001b[0m \u001b[0;34m\u001b[0m\u001b[0m\n\u001b[1;32m    896\u001b[0m       \u001b[0mnew_tracing_count\u001b[0m \u001b[0;34m=\u001b[0m \u001b[0mself\u001b[0m\u001b[0;34m.\u001b[0m\u001b[0mexperimental_get_tracing_count\u001b[0m\u001b[0;34m(\u001b[0m\u001b[0;34m)\u001b[0m\u001b[0;34m\u001b[0m\u001b[0;34m\u001b[0m\u001b[0m\n",
            "\u001b[0;32m/usr/local/lib/python3.10/dist-packages/tensorflow/python/eager/polymorphic_function/polymorphic_function.py\u001b[0m in \u001b[0;36m_call\u001b[0;34m(self, *args, **kwds)\u001b[0m\n\u001b[1;32m    924\u001b[0m       \u001b[0;31m# In this case we have created variables on the first call, so we run the\u001b[0m\u001b[0;34m\u001b[0m\u001b[0;34m\u001b[0m\u001b[0m\n\u001b[1;32m    925\u001b[0m       \u001b[0;31m# defunned version which is guaranteed to never create variables.\u001b[0m\u001b[0;34m\u001b[0m\u001b[0;34m\u001b[0m\u001b[0m\n\u001b[0;32m--> 926\u001b[0;31m       \u001b[0;32mreturn\u001b[0m \u001b[0mself\u001b[0m\u001b[0;34m.\u001b[0m\u001b[0m_no_variable_creation_fn\u001b[0m\u001b[0;34m(\u001b[0m\u001b[0;34m*\u001b[0m\u001b[0margs\u001b[0m\u001b[0;34m,\u001b[0m \u001b[0;34m**\u001b[0m\u001b[0mkwds\u001b[0m\u001b[0;34m)\u001b[0m  \u001b[0;31m# pylint: disable=not-callable\u001b[0m\u001b[0;34m\u001b[0m\u001b[0;34m\u001b[0m\u001b[0m\n\u001b[0m\u001b[1;32m    927\u001b[0m     \u001b[0;32melif\u001b[0m \u001b[0mself\u001b[0m\u001b[0;34m.\u001b[0m\u001b[0m_variable_creation_fn\u001b[0m \u001b[0;32mis\u001b[0m \u001b[0;32mnot\u001b[0m \u001b[0;32mNone\u001b[0m\u001b[0;34m:\u001b[0m\u001b[0;34m\u001b[0m\u001b[0;34m\u001b[0m\u001b[0m\n\u001b[1;32m    928\u001b[0m       \u001b[0;31m# Release the lock early so that multiple threads can perform the call\u001b[0m\u001b[0;34m\u001b[0m\u001b[0;34m\u001b[0m\u001b[0m\n",
            "\u001b[0;32m/usr/local/lib/python3.10/dist-packages/tensorflow/python/eager/polymorphic_function/tracing_compiler.py\u001b[0m in \u001b[0;36m__call__\u001b[0;34m(self, *args, **kwargs)\u001b[0m\n\u001b[1;32m    141\u001b[0m       (concrete_function,\n\u001b[1;32m    142\u001b[0m        filtered_flat_args) = self._maybe_define_function(args, kwargs)\n\u001b[0;32m--> 143\u001b[0;31m     return concrete_function._call_flat(\n\u001b[0m\u001b[1;32m    144\u001b[0m         filtered_flat_args, captured_inputs=concrete_function.captured_inputs)  # pylint: disable=protected-access\n\u001b[1;32m    145\u001b[0m \u001b[0;34m\u001b[0m\u001b[0m\n",
            "\u001b[0;32m/usr/local/lib/python3.10/dist-packages/tensorflow/python/eager/polymorphic_function/monomorphic_function.py\u001b[0m in \u001b[0;36m_call_flat\u001b[0;34m(self, args, captured_inputs, cancellation_manager)\u001b[0m\n\u001b[1;32m   1755\u001b[0m         and executing_eagerly):\n\u001b[1;32m   1756\u001b[0m       \u001b[0;31m# No tape is watching; skip to running the function.\u001b[0m\u001b[0;34m\u001b[0m\u001b[0;34m\u001b[0m\u001b[0m\n\u001b[0;32m-> 1757\u001b[0;31m       return self._build_call_outputs(self._inference_function.call(\n\u001b[0m\u001b[1;32m   1758\u001b[0m           ctx, args, cancellation_manager=cancellation_manager))\n\u001b[1;32m   1759\u001b[0m     forward_backward = self._select_forward_and_backward_functions(\n",
            "\u001b[0;32m/usr/local/lib/python3.10/dist-packages/tensorflow/python/eager/polymorphic_function/monomorphic_function.py\u001b[0m in \u001b[0;36mcall\u001b[0;34m(self, ctx, args, cancellation_manager)\u001b[0m\n\u001b[1;32m    379\u001b[0m       \u001b[0;32mwith\u001b[0m \u001b[0m_InterpolateFunctionError\u001b[0m\u001b[0;34m(\u001b[0m\u001b[0mself\u001b[0m\u001b[0;34m)\u001b[0m\u001b[0;34m:\u001b[0m\u001b[0;34m\u001b[0m\u001b[0;34m\u001b[0m\u001b[0m\n\u001b[1;32m    380\u001b[0m         \u001b[0;32mif\u001b[0m \u001b[0mcancellation_manager\u001b[0m \u001b[0;32mis\u001b[0m \u001b[0;32mNone\u001b[0m\u001b[0;34m:\u001b[0m\u001b[0;34m\u001b[0m\u001b[0;34m\u001b[0m\u001b[0m\n\u001b[0;32m--> 381\u001b[0;31m           outputs = execute.execute(\n\u001b[0m\u001b[1;32m    382\u001b[0m               \u001b[0mstr\u001b[0m\u001b[0;34m(\u001b[0m\u001b[0mself\u001b[0m\u001b[0;34m.\u001b[0m\u001b[0msignature\u001b[0m\u001b[0;34m.\u001b[0m\u001b[0mname\u001b[0m\u001b[0;34m)\u001b[0m\u001b[0;34m,\u001b[0m\u001b[0;34m\u001b[0m\u001b[0;34m\u001b[0m\u001b[0m\n\u001b[1;32m    383\u001b[0m               \u001b[0mnum_outputs\u001b[0m\u001b[0;34m=\u001b[0m\u001b[0mself\u001b[0m\u001b[0;34m.\u001b[0m\u001b[0m_num_outputs\u001b[0m\u001b[0;34m,\u001b[0m\u001b[0;34m\u001b[0m\u001b[0;34m\u001b[0m\u001b[0m\n",
            "\u001b[0;32m/usr/local/lib/python3.10/dist-packages/tensorflow/python/eager/execute.py\u001b[0m in \u001b[0;36mquick_execute\u001b[0;34m(op_name, num_outputs, inputs, attrs, ctx, name)\u001b[0m\n\u001b[1;32m     50\u001b[0m   \u001b[0;32mtry\u001b[0m\u001b[0;34m:\u001b[0m\u001b[0;34m\u001b[0m\u001b[0;34m\u001b[0m\u001b[0m\n\u001b[1;32m     51\u001b[0m     \u001b[0mctx\u001b[0m\u001b[0;34m.\u001b[0m\u001b[0mensure_initialized\u001b[0m\u001b[0;34m(\u001b[0m\u001b[0;34m)\u001b[0m\u001b[0;34m\u001b[0m\u001b[0;34m\u001b[0m\u001b[0m\n\u001b[0;32m---> 52\u001b[0;31m     tensors = pywrap_tfe.TFE_Py_Execute(ctx._handle, device_name, op_name,\n\u001b[0m\u001b[1;32m     53\u001b[0m                                         inputs, attrs, num_outputs)\n\u001b[1;32m     54\u001b[0m   \u001b[0;32mexcept\u001b[0m \u001b[0mcore\u001b[0m\u001b[0;34m.\u001b[0m\u001b[0m_NotOkStatusException\u001b[0m \u001b[0;32mas\u001b[0m \u001b[0me\u001b[0m\u001b[0;34m:\u001b[0m\u001b[0;34m\u001b[0m\u001b[0;34m\u001b[0m\u001b[0m\n",
            "\u001b[0;31mKeyboardInterrupt\u001b[0m: "
          ]
        }
      ]
    },
    {
      "cell_type": "markdown",
      "metadata": {
        "id": "4CzHQADbnzVt"
      },
      "source": [
        "Prediction based on Ensemble Concept"
      ]
    },
    {
      "cell_type": "markdown",
      "metadata": {
        "id": "TT1qAAPVHRDD"
      },
      "source": [
        "Models' Summary"
      ]
    },
    {
      "cell_type": "code",
      "metadata": {
        "colab": {
          "base_uri": "https://localhost:8080/",
          "height": 363
        },
        "id": "E4-Ab6KrGkNv",
        "outputId": "37cb1cb3-3976-49d6-d813-eb690ea4ed86"
      },
      "source": [
        "conclusion = pd.DataFrame([['Neural Network',precision_1,recall_1,f1Score_1],\n",
        "              ['Logistic Regression',0.53,0.17,0.26],\n",
        "              ['SVM',0.38,0.01,0.03],\n",
        "              ['KNN',0.94,0.56,0.70],\n",
        "              ['Neural Network after Balancing',precision_2,recall_2,f1Score_2],\n",
        "              ['Logistic Regression after Balancing',0.08,0.93,0.15],\n",
        "              ['SVM after Balancing',0.06,0.97,0.11],\n",
        "              ['KNN after Balancing',0.73,0.73,0.73],\n",
        "              ['Ensemble concept after Balancing',0.65,0.81,0.72]],\n",
        "              columns=[\"Algorithm\",\"Precision\",\"Recall\",\"F1score\"])\n",
        "conclusion = conclusion.set_index('Algorithm')\n",
        "conclusion.style.background_gradient(cmap=\"YlOrRd\")\n"
      ],
      "execution_count": null,
      "outputs": [
        {
          "output_type": "execute_result",
          "data": {
            "text/html": [
              "<style  type=\"text/css\" >\n",
              "#T_611e1a9c_5135_11ec_be3e_0242ac1c0002row0_col0,#T_611e1a9c_5135_11ec_be3e_0242ac1c0002row6_col1,#T_611e1a9c_5135_11ec_be3e_0242ac1c0002row7_col2{\n",
              "            background-color:  #800026;\n",
              "            color:  #f1f1f1;\n",
              "        }#T_611e1a9c_5135_11ec_be3e_0242ac1c0002row0_col1,#T_611e1a9c_5135_11ec_be3e_0242ac1c0002row2_col0{\n",
              "            background-color:  #febb56;\n",
              "            color:  #000000;\n",
              "        }#T_611e1a9c_5135_11ec_be3e_0242ac1c0002row0_col2{\n",
              "            background-color:  #f03523;\n",
              "            color:  #f1f1f1;\n",
              "        }#T_611e1a9c_5135_11ec_be3e_0242ac1c0002row1_col0{\n",
              "            background-color:  #fd8a3b;\n",
              "            color:  #000000;\n",
              "        }#T_611e1a9c_5135_11ec_be3e_0242ac1c0002row1_col1{\n",
              "            background-color:  #ffe793;\n",
              "            color:  #000000;\n",
              "        }#T_611e1a9c_5135_11ec_be3e_0242ac1c0002row1_col2{\n",
              "            background-color:  #fec05b;\n",
              "            color:  #000000;\n",
              "        }#T_611e1a9c_5135_11ec_be3e_0242ac1c0002row2_col1,#T_611e1a9c_5135_11ec_be3e_0242ac1c0002row2_col2,#T_611e1a9c_5135_11ec_be3e_0242ac1c0002row6_col0{\n",
              "            background-color:  #ffffcc;\n",
              "            color:  #000000;\n",
              "        }#T_611e1a9c_5135_11ec_be3e_0242ac1c0002row3_col0{\n",
              "            background-color:  #990026;\n",
              "            color:  #f1f1f1;\n",
              "        }#T_611e1a9c_5135_11ec_be3e_0242ac1c0002row3_col1{\n",
              "            background-color:  #fc6832;\n",
              "            color:  #000000;\n",
              "        }#T_611e1a9c_5135_11ec_be3e_0242ac1c0002row3_col2,#T_611e1a9c_5135_11ec_be3e_0242ac1c0002row4_col2,#T_611e1a9c_5135_11ec_be3e_0242ac1c0002row5_col1{\n",
              "            background-color:  #930026;\n",
              "            color:  #f1f1f1;\n",
              "        }#T_611e1a9c_5135_11ec_be3e_0242ac1c0002row4_col0{\n",
              "            background-color:  #b90026;\n",
              "            color:  #f1f1f1;\n",
              "        }#T_611e1a9c_5135_11ec_be3e_0242ac1c0002row4_col1{\n",
              "            background-color:  #fc5d2e;\n",
              "            color:  #000000;\n",
              "        }#T_611e1a9c_5135_11ec_be3e_0242ac1c0002row5_col0{\n",
              "            background-color:  #fffcc5;\n",
              "            color:  #000000;\n",
              "        }#T_611e1a9c_5135_11ec_be3e_0242ac1c0002row5_col2{\n",
              "            background-color:  #ffe691;\n",
              "            color:  #000000;\n",
              "        }#T_611e1a9c_5135_11ec_be3e_0242ac1c0002row6_col2{\n",
              "            background-color:  #ffefa4;\n",
              "            color:  #000000;\n",
              "        }#T_611e1a9c_5135_11ec_be3e_0242ac1c0002row7_col0{\n",
              "            background-color:  #e9261f;\n",
              "            color:  #f1f1f1;\n",
              "        }#T_611e1a9c_5135_11ec_be3e_0242ac1c0002row7_col1{\n",
              "            background-color:  #e2191c;\n",
              "            color:  #f1f1f1;\n",
              "        }#T_611e1a9c_5135_11ec_be3e_0242ac1c0002row8_col0{\n",
              "            background-color:  #fa4a29;\n",
              "            color:  #000000;\n",
              "        }#T_611e1a9c_5135_11ec_be3e_0242ac1c0002row8_col1{\n",
              "            background-color:  #c90823;\n",
              "            color:  #f1f1f1;\n",
              "        }#T_611e1a9c_5135_11ec_be3e_0242ac1c0002row8_col2{\n",
              "            background-color:  #860026;\n",
              "            color:  #f1f1f1;\n",
              "        }</style><table id=\"T_611e1a9c_5135_11ec_be3e_0242ac1c0002\" class=\"dataframe\"><thead>    <tr>        <th class=\"blank level0\" ></th>        <th class=\"col_heading level0 col0\" >Precision</th>        <th class=\"col_heading level0 col1\" >Recall</th>        <th class=\"col_heading level0 col2\" >F1score</th>    </tr>    <tr>        <th class=\"index_name level0\" >Algorithm</th>        <th class=\"blank\" ></th>        <th class=\"blank\" ></th>        <th class=\"blank\" ></th>    </tr></thead><tbody>\n",
              "                <tr>\n",
              "                        <th id=\"T_611e1a9c_5135_11ec_be3e_0242ac1c0002level0_row0\" class=\"row_heading level0 row0\" >Neural Network</th>\n",
              "                        <td id=\"T_611e1a9c_5135_11ec_be3e_0242ac1c0002row0_col0\" class=\"data row0 col0\" >0.990000</td>\n",
              "                        <td id=\"T_611e1a9c_5135_11ec_be3e_0242ac1c0002row0_col1\" class=\"data row0 col1\" >0.340000</td>\n",
              "                        <td id=\"T_611e1a9c_5135_11ec_be3e_0242ac1c0002row0_col2\" class=\"data row0 col2\" >0.510000</td>\n",
              "            </tr>\n",
              "            <tr>\n",
              "                        <th id=\"T_611e1a9c_5135_11ec_be3e_0242ac1c0002level0_row1\" class=\"row_heading level0 row1\" >Logistic Regression</th>\n",
              "                        <td id=\"T_611e1a9c_5135_11ec_be3e_0242ac1c0002row1_col0\" class=\"data row1 col0\" >0.530000</td>\n",
              "                        <td id=\"T_611e1a9c_5135_11ec_be3e_0242ac1c0002row1_col1\" class=\"data row1 col1\" >0.170000</td>\n",
              "                        <td id=\"T_611e1a9c_5135_11ec_be3e_0242ac1c0002row1_col2\" class=\"data row1 col2\" >0.260000</td>\n",
              "            </tr>\n",
              "            <tr>\n",
              "                        <th id=\"T_611e1a9c_5135_11ec_be3e_0242ac1c0002level0_row2\" class=\"row_heading level0 row2\" >SVM</th>\n",
              "                        <td id=\"T_611e1a9c_5135_11ec_be3e_0242ac1c0002row2_col0\" class=\"data row2 col0\" >0.380000</td>\n",
              "                        <td id=\"T_611e1a9c_5135_11ec_be3e_0242ac1c0002row2_col1\" class=\"data row2 col1\" >0.010000</td>\n",
              "                        <td id=\"T_611e1a9c_5135_11ec_be3e_0242ac1c0002row2_col2\" class=\"data row2 col2\" >0.030000</td>\n",
              "            </tr>\n",
              "            <tr>\n",
              "                        <th id=\"T_611e1a9c_5135_11ec_be3e_0242ac1c0002level0_row3\" class=\"row_heading level0 row3\" >KNN</th>\n",
              "                        <td id=\"T_611e1a9c_5135_11ec_be3e_0242ac1c0002row3_col0\" class=\"data row3 col0\" >0.940000</td>\n",
              "                        <td id=\"T_611e1a9c_5135_11ec_be3e_0242ac1c0002row3_col1\" class=\"data row3 col1\" >0.560000</td>\n",
              "                        <td id=\"T_611e1a9c_5135_11ec_be3e_0242ac1c0002row3_col2\" class=\"data row3 col2\" >0.700000</td>\n",
              "            </tr>\n",
              "            <tr>\n",
              "                        <th id=\"T_611e1a9c_5135_11ec_be3e_0242ac1c0002level0_row4\" class=\"row_heading level0 row4\" >Neural Network after Balancing</th>\n",
              "                        <td id=\"T_611e1a9c_5135_11ec_be3e_0242ac1c0002row4_col0\" class=\"data row4 col0\" >0.880000</td>\n",
              "                        <td id=\"T_611e1a9c_5135_11ec_be3e_0242ac1c0002row4_col1\" class=\"data row4 col1\" >0.580000</td>\n",
              "                        <td id=\"T_611e1a9c_5135_11ec_be3e_0242ac1c0002row4_col2\" class=\"data row4 col2\" >0.700000</td>\n",
              "            </tr>\n",
              "            <tr>\n",
              "                        <th id=\"T_611e1a9c_5135_11ec_be3e_0242ac1c0002level0_row5\" class=\"row_heading level0 row5\" >Logistic Regression after Balancing</th>\n",
              "                        <td id=\"T_611e1a9c_5135_11ec_be3e_0242ac1c0002row5_col0\" class=\"data row5 col0\" >0.080000</td>\n",
              "                        <td id=\"T_611e1a9c_5135_11ec_be3e_0242ac1c0002row5_col1\" class=\"data row5 col1\" >0.930000</td>\n",
              "                        <td id=\"T_611e1a9c_5135_11ec_be3e_0242ac1c0002row5_col2\" class=\"data row5 col2\" >0.150000</td>\n",
              "            </tr>\n",
              "            <tr>\n",
              "                        <th id=\"T_611e1a9c_5135_11ec_be3e_0242ac1c0002level0_row6\" class=\"row_heading level0 row6\" >SVM after Balancing</th>\n",
              "                        <td id=\"T_611e1a9c_5135_11ec_be3e_0242ac1c0002row6_col0\" class=\"data row6 col0\" >0.060000</td>\n",
              "                        <td id=\"T_611e1a9c_5135_11ec_be3e_0242ac1c0002row6_col1\" class=\"data row6 col1\" >0.970000</td>\n",
              "                        <td id=\"T_611e1a9c_5135_11ec_be3e_0242ac1c0002row6_col2\" class=\"data row6 col2\" >0.110000</td>\n",
              "            </tr>\n",
              "            <tr>\n",
              "                        <th id=\"T_611e1a9c_5135_11ec_be3e_0242ac1c0002level0_row7\" class=\"row_heading level0 row7\" >KNN after Balancing</th>\n",
              "                        <td id=\"T_611e1a9c_5135_11ec_be3e_0242ac1c0002row7_col0\" class=\"data row7 col0\" >0.730000</td>\n",
              "                        <td id=\"T_611e1a9c_5135_11ec_be3e_0242ac1c0002row7_col1\" class=\"data row7 col1\" >0.730000</td>\n",
              "                        <td id=\"T_611e1a9c_5135_11ec_be3e_0242ac1c0002row7_col2\" class=\"data row7 col2\" >0.730000</td>\n",
              "            </tr>\n",
              "            <tr>\n",
              "                        <th id=\"T_611e1a9c_5135_11ec_be3e_0242ac1c0002level0_row8\" class=\"row_heading level0 row8\" >Ensemble concept after Balancing</th>\n",
              "                        <td id=\"T_611e1a9c_5135_11ec_be3e_0242ac1c0002row8_col0\" class=\"data row8 col0\" >0.650000</td>\n",
              "                        <td id=\"T_611e1a9c_5135_11ec_be3e_0242ac1c0002row8_col1\" class=\"data row8 col1\" >0.810000</td>\n",
              "                        <td id=\"T_611e1a9c_5135_11ec_be3e_0242ac1c0002row8_col2\" class=\"data row8 col2\" >0.720000</td>\n",
              "            </tr>\n",
              "    </tbody></table>"
            ],
            "text/plain": [
              "<pandas.io.formats.style.Styler at 0x7fa5792cc150>"
            ]
          },
          "metadata": {},
          "execution_count": 109
        }
      ]
    },
    {
      "cell_type": "markdown",
      "metadata": {
        "id": "HAV6ArSEQ0xd"
      },
      "source": [
        "As you see After Blancing the dataset Ensemble concept and KNN model do the best !"
      ]
    }
  ]
}